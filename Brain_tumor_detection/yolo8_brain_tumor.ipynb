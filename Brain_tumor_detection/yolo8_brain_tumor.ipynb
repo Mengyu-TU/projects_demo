{
  "nbformat": 4,
  "nbformat_minor": 0,
  "metadata": {
    "colab": {
      "provenance": [],
      "gpuType": "T4",
      "toc_visible": true
    },
    "kernelspec": {
      "name": "python3",
      "display_name": "Python 3"
    },
    "language_info": {
      "name": "python"
    },
    "accelerator": "GPU"
  },
  "cells": [
    {
      "cell_type": "code",
      "execution_count": null,
      "metadata": {
        "id": "RzYN-XKIqSd8",
        "colab": {
          "base_uri": "https://localhost:8080/"
        },
        "outputId": "90e3346c-16d0-4e95-cd1a-3675870a9c05"
      },
      "outputs": [
        {
          "output_type": "stream",
          "name": "stdout",
          "text": [
            "Collecting ultralytics\n",
            "  Downloading ultralytics-8.2.11-py3-none-any.whl (756 kB)\n",
            "\u001b[2K     \u001b[90m━━━━━━━━━━━━━━━━━━━━━━━━━━━━━━━━━━━━━━━━\u001b[0m \u001b[32m756.5/756.5 kB\u001b[0m \u001b[31m4.3 MB/s\u001b[0m eta \u001b[36m0:00:00\u001b[0m\n",
            "\u001b[?25hRequirement already satisfied: matplotlib>=3.3.0 in /usr/local/lib/python3.10/dist-packages (from ultralytics) (3.7.1)\n",
            "Requirement already satisfied: opencv-python>=4.6.0 in /usr/local/lib/python3.10/dist-packages (from ultralytics) (4.8.0.76)\n",
            "Requirement already satisfied: pillow>=7.1.2 in /usr/local/lib/python3.10/dist-packages (from ultralytics) (9.4.0)\n",
            "Requirement already satisfied: pyyaml>=5.3.1 in /usr/local/lib/python3.10/dist-packages (from ultralytics) (6.0.1)\n",
            "Requirement already satisfied: requests>=2.23.0 in /usr/local/lib/python3.10/dist-packages (from ultralytics) (2.31.0)\n",
            "Requirement already satisfied: scipy>=1.4.1 in /usr/local/lib/python3.10/dist-packages (from ultralytics) (1.11.4)\n",
            "Requirement already satisfied: torch>=1.8.0 in /usr/local/lib/python3.10/dist-packages (from ultralytics) (2.2.1+cu121)\n",
            "Requirement already satisfied: torchvision>=0.9.0 in /usr/local/lib/python3.10/dist-packages (from ultralytics) (0.17.1+cu121)\n",
            "Requirement already satisfied: tqdm>=4.64.0 in /usr/local/lib/python3.10/dist-packages (from ultralytics) (4.66.4)\n",
            "Requirement already satisfied: psutil in /usr/local/lib/python3.10/dist-packages (from ultralytics) (5.9.5)\n",
            "Requirement already satisfied: py-cpuinfo in /usr/local/lib/python3.10/dist-packages (from ultralytics) (9.0.0)\n",
            "Collecting thop>=0.1.1 (from ultralytics)\n",
            "  Downloading thop-0.1.1.post2209072238-py3-none-any.whl (15 kB)\n",
            "Requirement already satisfied: pandas>=1.1.4 in /usr/local/lib/python3.10/dist-packages (from ultralytics) (2.0.3)\n",
            "Requirement already satisfied: seaborn>=0.11.0 in /usr/local/lib/python3.10/dist-packages (from ultralytics) (0.13.1)\n",
            "Requirement already satisfied: contourpy>=1.0.1 in /usr/local/lib/python3.10/dist-packages (from matplotlib>=3.3.0->ultralytics) (1.2.1)\n",
            "Requirement already satisfied: cycler>=0.10 in /usr/local/lib/python3.10/dist-packages (from matplotlib>=3.3.0->ultralytics) (0.12.1)\n",
            "Requirement already satisfied: fonttools>=4.22.0 in /usr/local/lib/python3.10/dist-packages (from matplotlib>=3.3.0->ultralytics) (4.51.0)\n",
            "Requirement already satisfied: kiwisolver>=1.0.1 in /usr/local/lib/python3.10/dist-packages (from matplotlib>=3.3.0->ultralytics) (1.4.5)\n",
            "Requirement already satisfied: numpy>=1.20 in /usr/local/lib/python3.10/dist-packages (from matplotlib>=3.3.0->ultralytics) (1.25.2)\n",
            "Requirement already satisfied: packaging>=20.0 in /usr/local/lib/python3.10/dist-packages (from matplotlib>=3.3.0->ultralytics) (24.0)\n",
            "Requirement already satisfied: pyparsing>=2.3.1 in /usr/local/lib/python3.10/dist-packages (from matplotlib>=3.3.0->ultralytics) (3.1.2)\n",
            "Requirement already satisfied: python-dateutil>=2.7 in /usr/local/lib/python3.10/dist-packages (from matplotlib>=3.3.0->ultralytics) (2.8.2)\n",
            "Requirement already satisfied: pytz>=2020.1 in /usr/local/lib/python3.10/dist-packages (from pandas>=1.1.4->ultralytics) (2023.4)\n",
            "Requirement already satisfied: tzdata>=2022.1 in /usr/local/lib/python3.10/dist-packages (from pandas>=1.1.4->ultralytics) (2024.1)\n",
            "Requirement already satisfied: charset-normalizer<4,>=2 in /usr/local/lib/python3.10/dist-packages (from requests>=2.23.0->ultralytics) (3.3.2)\n",
            "Requirement already satisfied: idna<4,>=2.5 in /usr/local/lib/python3.10/dist-packages (from requests>=2.23.0->ultralytics) (3.7)\n",
            "Requirement already satisfied: urllib3<3,>=1.21.1 in /usr/local/lib/python3.10/dist-packages (from requests>=2.23.0->ultralytics) (2.0.7)\n",
            "Requirement already satisfied: certifi>=2017.4.17 in /usr/local/lib/python3.10/dist-packages (from requests>=2.23.0->ultralytics) (2024.2.2)\n",
            "Requirement already satisfied: filelock in /usr/local/lib/python3.10/dist-packages (from torch>=1.8.0->ultralytics) (3.14.0)\n",
            "Requirement already satisfied: typing-extensions>=4.8.0 in /usr/local/lib/python3.10/dist-packages (from torch>=1.8.0->ultralytics) (4.11.0)\n",
            "Requirement already satisfied: sympy in /usr/local/lib/python3.10/dist-packages (from torch>=1.8.0->ultralytics) (1.12)\n",
            "Requirement already satisfied: networkx in /usr/local/lib/python3.10/dist-packages (from torch>=1.8.0->ultralytics) (3.3)\n",
            "Requirement already satisfied: jinja2 in /usr/local/lib/python3.10/dist-packages (from torch>=1.8.0->ultralytics) (3.1.3)\n",
            "Requirement already satisfied: fsspec in /usr/local/lib/python3.10/dist-packages (from torch>=1.8.0->ultralytics) (2023.6.0)\n",
            "Collecting nvidia-cuda-nvrtc-cu12==12.1.105 (from torch>=1.8.0->ultralytics)\n",
            "  Using cached nvidia_cuda_nvrtc_cu12-12.1.105-py3-none-manylinux1_x86_64.whl (23.7 MB)\n",
            "Collecting nvidia-cuda-runtime-cu12==12.1.105 (from torch>=1.8.0->ultralytics)\n",
            "  Using cached nvidia_cuda_runtime_cu12-12.1.105-py3-none-manylinux1_x86_64.whl (823 kB)\n",
            "Collecting nvidia-cuda-cupti-cu12==12.1.105 (from torch>=1.8.0->ultralytics)\n",
            "  Using cached nvidia_cuda_cupti_cu12-12.1.105-py3-none-manylinux1_x86_64.whl (14.1 MB)\n",
            "Collecting nvidia-cudnn-cu12==8.9.2.26 (from torch>=1.8.0->ultralytics)\n",
            "  Using cached nvidia_cudnn_cu12-8.9.2.26-py3-none-manylinux1_x86_64.whl (731.7 MB)\n",
            "Collecting nvidia-cublas-cu12==12.1.3.1 (from torch>=1.8.0->ultralytics)\n",
            "  Using cached nvidia_cublas_cu12-12.1.3.1-py3-none-manylinux1_x86_64.whl (410.6 MB)\n",
            "Collecting nvidia-cufft-cu12==11.0.2.54 (from torch>=1.8.0->ultralytics)\n",
            "  Using cached nvidia_cufft_cu12-11.0.2.54-py3-none-manylinux1_x86_64.whl (121.6 MB)\n",
            "Collecting nvidia-curand-cu12==10.3.2.106 (from torch>=1.8.0->ultralytics)\n",
            "  Using cached nvidia_curand_cu12-10.3.2.106-py3-none-manylinux1_x86_64.whl (56.5 MB)\n",
            "Collecting nvidia-cusolver-cu12==11.4.5.107 (from torch>=1.8.0->ultralytics)\n",
            "  Using cached nvidia_cusolver_cu12-11.4.5.107-py3-none-manylinux1_x86_64.whl (124.2 MB)\n",
            "Collecting nvidia-cusparse-cu12==12.1.0.106 (from torch>=1.8.0->ultralytics)\n",
            "  Using cached nvidia_cusparse_cu12-12.1.0.106-py3-none-manylinux1_x86_64.whl (196.0 MB)\n",
            "Collecting nvidia-nccl-cu12==2.19.3 (from torch>=1.8.0->ultralytics)\n",
            "  Using cached nvidia_nccl_cu12-2.19.3-py3-none-manylinux1_x86_64.whl (166.0 MB)\n",
            "Collecting nvidia-nvtx-cu12==12.1.105 (from torch>=1.8.0->ultralytics)\n",
            "  Using cached nvidia_nvtx_cu12-12.1.105-py3-none-manylinux1_x86_64.whl (99 kB)\n",
            "Requirement already satisfied: triton==2.2.0 in /usr/local/lib/python3.10/dist-packages (from torch>=1.8.0->ultralytics) (2.2.0)\n",
            "Collecting nvidia-nvjitlink-cu12 (from nvidia-cusolver-cu12==11.4.5.107->torch>=1.8.0->ultralytics)\n",
            "  Using cached nvidia_nvjitlink_cu12-12.4.127-py3-none-manylinux2014_x86_64.whl (21.1 MB)\n",
            "Requirement already satisfied: six>=1.5 in /usr/local/lib/python3.10/dist-packages (from python-dateutil>=2.7->matplotlib>=3.3.0->ultralytics) (1.16.0)\n",
            "Requirement already satisfied: MarkupSafe>=2.0 in /usr/local/lib/python3.10/dist-packages (from jinja2->torch>=1.8.0->ultralytics) (2.1.5)\n",
            "Requirement already satisfied: mpmath>=0.19 in /usr/local/lib/python3.10/dist-packages (from sympy->torch>=1.8.0->ultralytics) (1.3.0)\n",
            "Installing collected packages: nvidia-nvtx-cu12, nvidia-nvjitlink-cu12, nvidia-nccl-cu12, nvidia-curand-cu12, nvidia-cufft-cu12, nvidia-cuda-runtime-cu12, nvidia-cuda-nvrtc-cu12, nvidia-cuda-cupti-cu12, nvidia-cublas-cu12, nvidia-cusparse-cu12, nvidia-cudnn-cu12, nvidia-cusolver-cu12, thop, ultralytics\n",
            "Successfully installed nvidia-cublas-cu12-12.1.3.1 nvidia-cuda-cupti-cu12-12.1.105 nvidia-cuda-nvrtc-cu12-12.1.105 nvidia-cuda-runtime-cu12-12.1.105 nvidia-cudnn-cu12-8.9.2.26 nvidia-cufft-cu12-11.0.2.54 nvidia-curand-cu12-10.3.2.106 nvidia-cusolver-cu12-11.4.5.107 nvidia-cusparse-cu12-12.1.0.106 nvidia-nccl-cu12-2.19.3 nvidia-nvjitlink-cu12-12.4.127 nvidia-nvtx-cu12-12.1.105 thop-0.1.1.post2209072238 ultralytics-8.2.11\n"
          ]
        }
      ],
      "source": [
        "import os\n",
        "import matplotlib.pyplot as plt\n",
        "import numpy as np\n",
        "import random\n",
        "import torch\n",
        "\n",
        "!pip install ultralytics\n",
        "from ultralytics import YOLO"
      ]
    },
    {
      "cell_type": "markdown",
      "source": [
        "## Load dataset from Google Drive"
      ],
      "metadata": {
        "id": "sF4FC9XG1K81"
      }
    },
    {
      "cell_type": "code",
      "source": [
        "# Mount Google Drive\n",
        "from google.colab import drive\n",
        "drive.mount('/content/drive')\n",
        "\n",
        "# Change the working directory to your Google Drive\n",
        "%cd /content/drive/MyDrive\n",
        "\n",
        "# Change the working directory to the 'data' folder\n",
        "%cd brain_tumor_tidy"
      ],
      "metadata": {
        "colab": {
          "base_uri": "https://localhost:8080/"
        },
        "id": "6gU2-1-52VA8",
        "outputId": "329ce035-3c42-4ded-f04f-375ea97da403"
      },
      "execution_count": null,
      "outputs": [
        {
          "output_type": "stream",
          "name": "stdout",
          "text": [
            "Mounted at /content/drive\n",
            "/content/drive/MyDrive\n",
            "/content/drive/MyDrive/brain_tumor_tidy\n"
          ]
        }
      ]
    },
    {
      "cell_type": "code",
      "source": [
        "#  Check if cuda available / mps available / only CPU\n",
        "device = torch.device('cuda' if torch.cuda.is_available else 'cpu')\n",
        "device"
      ],
      "metadata": {
        "id": "7xNWwERB1cqN",
        "colab": {
          "base_uri": "https://localhost:8080/"
        },
        "outputId": "d29ea0ca-813c-4aba-fedd-04921d2f85aa"
      },
      "execution_count": null,
      "outputs": [
        {
          "output_type": "execute_result",
          "data": {
            "text/plain": [
              "device(type='cuda')"
            ]
          },
          "metadata": {},
          "execution_count": 5
        }
      ]
    },
    {
      "cell_type": "markdown",
      "source": [
        "## Function for inference"
      ],
      "metadata": {
        "id": "5H0dMare7Fj8"
      }
    },
    {
      "cell_type": "code",
      "source": [
        "def predict_results(test_images_dir):\n",
        "    model = YOLO('/content/drive/MyDrive/brain_tumor_tidy/runs/detect/train2/weights/best.pt')\n",
        "    os.makedirs(\"/content/drive/MyDrive/brain_tumor_tidy/runs/detect/predict\", exist_ok=True)\n",
        "\n",
        "    image_files = [f for f in os.listdir(test_images_dir) if f.lower().endswith('.jpg')]\n",
        "\n",
        "    for image_file in image_files:\n",
        "        image_path = os.path.join(test_images_dir, image_file)\n",
        "        model.predict(image_path, save=True, imgsz=320, conf=0.3)"
      ],
      "metadata": {
        "id": "FKaYOPHx7FAV"
      },
      "execution_count": null,
      "outputs": []
    },
    {
      "cell_type": "markdown",
      "source": [
        "## Axial view"
      ],
      "metadata": {
        "id": "FOpxYIRQyy-z"
      }
    },
    {
      "cell_type": "code",
      "source": [
        "# Load a model\n",
        "model = YOLO('yolov8n.yaml')  # build a new model from YAML\n",
        "model = YOLO('yolov8n.pt')  # load a pretrained model (recommended for training)\n",
        "\n",
        "# Train the model with\n",
        "results = model.train(data='/content/drive/MyDrive/brain_tumor_tidy/axial_t1wce_2_class/axial_t1wce_2_class.yaml', epochs=20, imgsz=640, device=device)"
      ],
      "metadata": {
        "colab": {
          "base_uri": "https://localhost:8080/"
        },
        "id": "7rupkpij2FZ7",
        "outputId": "9d628adc-1585-49f4-c414-fcc4b86e7c28"
      },
      "execution_count": null,
      "outputs": [
        {
          "output_type": "stream",
          "name": "stdout",
          "text": [
            "\u001b[34m\u001b[1mengine/trainer: \u001b[0mtask=detect, mode=train, model=yolov8n.pt, data=/content/drive/MyDrive/brain_tumor_tidy/axial_t1wce_2_class/axial_t1wce_2_class.yaml, epochs=20, time=None, patience=100, batch=16, imgsz=640, save=True, save_period=-1, cache=False, device=cuda, workers=8, project=None, name=train2, exist_ok=False, pretrained=True, optimizer=auto, verbose=True, seed=0, deterministic=True, single_cls=False, rect=False, cos_lr=False, close_mosaic=10, resume=False, amp=True, fraction=1.0, profile=False, freeze=None, multi_scale=False, overlap_mask=True, mask_ratio=4, dropout=0.0, val=True, split=val, save_json=False, save_hybrid=False, conf=None, iou=0.7, max_det=300, half=False, dnn=False, plots=True, source=None, vid_stride=1, stream_buffer=False, visualize=False, augment=False, agnostic_nms=False, classes=None, retina_masks=False, embed=None, show=False, save_frames=False, save_txt=False, save_conf=False, save_crop=False, show_labels=True, show_conf=True, show_boxes=True, line_width=None, format=torchscript, keras=False, optimize=False, int8=False, dynamic=False, simplify=False, opset=None, workspace=4, nms=False, lr0=0.01, lrf=0.01, momentum=0.937, weight_decay=0.0005, warmup_epochs=3.0, warmup_momentum=0.8, warmup_bias_lr=0.1, box=7.5, cls=0.5, dfl=1.5, pose=12.0, kobj=1.0, label_smoothing=0.0, nbs=64, hsv_h=0.015, hsv_s=0.7, hsv_v=0.4, degrees=0.0, translate=0.1, scale=0.5, shear=0.0, perspective=0.0, flipud=0.0, fliplr=0.5, bgr=0.0, mosaic=1.0, mixup=0.0, copy_paste=0.0, auto_augment=randaugment, erasing=0.4, crop_fraction=1.0, cfg=None, tracker=botsort.yaml, save_dir=runs/detect/train2\n",
            "Downloading https://ultralytics.com/assets/Arial.ttf to '/root/.config/Ultralytics/Arial.ttf'...\n"
          ]
        },
        {
          "output_type": "stream",
          "name": "stderr",
          "text": [
            "100%|██████████| 755k/755k [00:00<00:00, 26.1MB/s]\n"
          ]
        },
        {
          "output_type": "stream",
          "name": "stdout",
          "text": [
            "Overriding model.yaml nc=80 with nc=2\n",
            "\n",
            "                   from  n    params  module                                       arguments                     \n",
            "  0                  -1  1       464  ultralytics.nn.modules.conv.Conv             [3, 16, 3, 2]                 \n",
            "  1                  -1  1      4672  ultralytics.nn.modules.conv.Conv             [16, 32, 3, 2]                \n",
            "  2                  -1  1      7360  ultralytics.nn.modules.block.C2f             [32, 32, 1, True]             \n",
            "  3                  -1  1     18560  ultralytics.nn.modules.conv.Conv             [32, 64, 3, 2]                \n",
            "  4                  -1  2     49664  ultralytics.nn.modules.block.C2f             [64, 64, 2, True]             \n",
            "  5                  -1  1     73984  ultralytics.nn.modules.conv.Conv             [64, 128, 3, 2]               \n",
            "  6                  -1  2    197632  ultralytics.nn.modules.block.C2f             [128, 128, 2, True]           \n",
            "  7                  -1  1    295424  ultralytics.nn.modules.conv.Conv             [128, 256, 3, 2]              \n",
            "  8                  -1  1    460288  ultralytics.nn.modules.block.C2f             [256, 256, 1, True]           \n",
            "  9                  -1  1    164608  ultralytics.nn.modules.block.SPPF            [256, 256, 5]                 \n",
            " 10                  -1  1         0  torch.nn.modules.upsampling.Upsample         [None, 2, 'nearest']          \n",
            " 11             [-1, 6]  1         0  ultralytics.nn.modules.conv.Concat           [1]                           \n",
            " 12                  -1  1    148224  ultralytics.nn.modules.block.C2f             [384, 128, 1]                 \n",
            " 13                  -1  1         0  torch.nn.modules.upsampling.Upsample         [None, 2, 'nearest']          \n",
            " 14             [-1, 4]  1         0  ultralytics.nn.modules.conv.Concat           [1]                           \n",
            " 15                  -1  1     37248  ultralytics.nn.modules.block.C2f             [192, 64, 1]                  \n",
            " 16                  -1  1     36992  ultralytics.nn.modules.conv.Conv             [64, 64, 3, 2]                \n",
            " 17            [-1, 12]  1         0  ultralytics.nn.modules.conv.Concat           [1]                           \n",
            " 18                  -1  1    123648  ultralytics.nn.modules.block.C2f             [192, 128, 1]                 \n",
            " 19                  -1  1    147712  ultralytics.nn.modules.conv.Conv             [128, 128, 3, 2]              \n",
            " 20             [-1, 9]  1         0  ultralytics.nn.modules.conv.Concat           [1]                           \n",
            " 21                  -1  1    493056  ultralytics.nn.modules.block.C2f             [384, 256, 1]                 \n",
            " 22        [15, 18, 21]  1    751702  ultralytics.nn.modules.head.Detect           [2, [64, 128, 256]]           \n",
            "Model summary: 225 layers, 3011238 parameters, 3011222 gradients, 8.2 GFLOPs\n",
            "\n",
            "Transferred 319/355 items from pretrained weights\n",
            "\u001b[34m\u001b[1mTensorBoard: \u001b[0mStart with 'tensorboard --logdir runs/detect/train2', view at http://localhost:6006/\n",
            "Freezing layer 'model.22.dfl.conv.weight'\n",
            "\u001b[34m\u001b[1mAMP: \u001b[0mrunning Automatic Mixed Precision (AMP) checks with YOLOv8n...\n",
            "\u001b[34m\u001b[1mAMP: \u001b[0mchecks passed ✅\n"
          ]
        },
        {
          "output_type": "stream",
          "name": "stderr",
          "text": [
            "\u001b[34m\u001b[1mtrain: \u001b[0mScanning /content/drive/MyDrive/brain_tumor_tidy/axial_t1wce_2_class/labels/train... 296 images, 0 backgrounds, 0 corrupt: 100%|██████████| 296/296 [01:42<00:00,  2.88it/s]\n"
          ]
        },
        {
          "output_type": "stream",
          "name": "stdout",
          "text": [
            "\u001b[34m\u001b[1mtrain: \u001b[0mNew cache created: /content/drive/MyDrive/brain_tumor_tidy/axial_t1wce_2_class/labels/train.cache\n",
            "\u001b[34m\u001b[1malbumentations: \u001b[0mBlur(p=0.01, blur_limit=(3, 7)), MedianBlur(p=0.01, blur_limit=(3, 7)), ToGray(p=0.01), CLAHE(p=0.01, clip_limit=(1, 4.0), tile_grid_size=(8, 8))\n"
          ]
        },
        {
          "output_type": "stream",
          "name": "stderr",
          "text": [
            "/usr/lib/python3.10/multiprocessing/popen_fork.py:66: RuntimeWarning: os.fork() was called. os.fork() is incompatible with multithreaded code, and JAX is multithreaded, so this will likely lead to a deadlock.\n",
            "  self.pid = os.fork()\n",
            "\u001b[34m\u001b[1mval: \u001b[0mScanning /content/drive/MyDrive/brain_tumor_tidy/axial_t1wce_2_class/labels/test... 75 images, 0 backgrounds, 0 corrupt: 100%|██████████| 75/75 [00:58<00:00,  1.29it/s]"
          ]
        },
        {
          "output_type": "stream",
          "name": "stdout",
          "text": [
            "\u001b[34m\u001b[1mval: \u001b[0mNew cache created: /content/drive/MyDrive/brain_tumor_tidy/axial_t1wce_2_class/labels/test.cache\n"
          ]
        },
        {
          "output_type": "stream",
          "name": "stderr",
          "text": [
            "\n"
          ]
        },
        {
          "output_type": "stream",
          "name": "stdout",
          "text": [
            "Plotting labels to runs/detect/train2/labels.jpg... \n",
            "\u001b[34m\u001b[1moptimizer:\u001b[0m 'optimizer=auto' found, ignoring 'lr0=0.01' and 'momentum=0.937' and determining best 'optimizer', 'lr0' and 'momentum' automatically... \n",
            "\u001b[34m\u001b[1moptimizer:\u001b[0m AdamW(lr=0.001667, momentum=0.9) with parameter groups 57 weight(decay=0.0), 64 weight(decay=0.0005), 63 bias(decay=0.0)\n",
            "\u001b[34m\u001b[1mTensorBoard: \u001b[0mmodel graph visualization added ✅\n",
            "Image sizes 640 train, 640 val\n",
            "Using 2 dataloader workers\n",
            "Logging results to \u001b[1mruns/detect/train2\u001b[0m\n",
            "Starting training for 20 epochs...\n",
            "\n",
            "      Epoch    GPU_mem   box_loss   cls_loss   dfl_loss  Instances       Size\n"
          ]
        },
        {
          "output_type": "stream",
          "name": "stderr",
          "text": [
            "       1/20      2.58G      1.558       4.32      1.362         10        640: 100%|██████████| 19/19 [00:13<00:00,  1.40it/s]\n",
            "                 Class     Images  Instances      Box(P          R      mAP50  mAP50-95): 100%|██████████| 3/3 [00:02<00:00,  1.15it/s]"
          ]
        },
        {
          "output_type": "stream",
          "name": "stdout",
          "text": [
            "                   all         75         81    0.00139      0.198     0.0552      0.023\n"
          ]
        },
        {
          "output_type": "stream",
          "name": "stderr",
          "text": [
            "\n"
          ]
        },
        {
          "output_type": "stream",
          "name": "stdout",
          "text": [
            "\n",
            "      Epoch    GPU_mem   box_loss   cls_loss   dfl_loss  Instances       Size\n"
          ]
        },
        {
          "output_type": "stream",
          "name": "stderr",
          "text": [
            "       2/20      2.25G      1.145      2.713      1.107         10        640: 100%|██████████| 19/19 [00:08<00:00,  2.21it/s]\n",
            "                 Class     Images  Instances      Box(P          R      mAP50  mAP50-95): 100%|██████████| 3/3 [00:02<00:00,  1.05it/s]"
          ]
        },
        {
          "output_type": "stream",
          "name": "stdout",
          "text": [
            "                   all         75         81     0.0022      0.395       0.13     0.0709\n"
          ]
        },
        {
          "output_type": "stream",
          "name": "stderr",
          "text": [
            "\n"
          ]
        },
        {
          "output_type": "stream",
          "name": "stdout",
          "text": [
            "\n",
            "      Epoch    GPU_mem   box_loss   cls_loss   dfl_loss  Instances       Size\n"
          ]
        },
        {
          "output_type": "stream",
          "name": "stderr",
          "text": [
            "       3/20      2.26G      1.237      2.326      1.135         16        640: 100%|██████████| 19/19 [00:07<00:00,  2.71it/s]\n",
            "                 Class     Images  Instances      Box(P          R      mAP50  mAP50-95): 100%|██████████| 3/3 [00:01<00:00,  2.38it/s]"
          ]
        },
        {
          "output_type": "stream",
          "name": "stdout",
          "text": [
            "                   all         75         81     0.0038       0.58       0.19      0.094\n"
          ]
        },
        {
          "output_type": "stream",
          "name": "stderr",
          "text": [
            "\n"
          ]
        },
        {
          "output_type": "stream",
          "name": "stdout",
          "text": [
            "\n",
            "      Epoch    GPU_mem   box_loss   cls_loss   dfl_loss  Instances       Size\n"
          ]
        },
        {
          "output_type": "stream",
          "name": "stderr",
          "text": [
            "       4/20      2.25G      1.128      2.174      1.096         11        640: 100%|██████████| 19/19 [00:07<00:00,  2.47it/s]\n",
            "                 Class     Images  Instances      Box(P          R      mAP50  mAP50-95): 100%|██████████| 3/3 [00:02<00:00,  1.06it/s]"
          ]
        },
        {
          "output_type": "stream",
          "name": "stdout",
          "text": [
            "                   all         75         81     0.0037      0.543      0.299      0.222\n"
          ]
        },
        {
          "output_type": "stream",
          "name": "stderr",
          "text": [
            "\n"
          ]
        },
        {
          "output_type": "stream",
          "name": "stdout",
          "text": [
            "\n",
            "      Epoch    GPU_mem   box_loss   cls_loss   dfl_loss  Instances       Size\n"
          ]
        },
        {
          "output_type": "stream",
          "name": "stderr",
          "text": [
            "       5/20      2.26G      1.169       2.04      1.106         16        640: 100%|██████████| 19/19 [00:06<00:00,  2.97it/s]\n",
            "                 Class     Images  Instances      Box(P          R      mAP50  mAP50-95): 100%|██████████| 3/3 [00:01<00:00,  2.69it/s]"
          ]
        },
        {
          "output_type": "stream",
          "name": "stdout",
          "text": [
            "                   all         75         81     0.0609      0.309     0.0505     0.0339\n"
          ]
        },
        {
          "output_type": "stream",
          "name": "stderr",
          "text": [
            "\n"
          ]
        },
        {
          "output_type": "stream",
          "name": "stdout",
          "text": [
            "\n",
            "      Epoch    GPU_mem   box_loss   cls_loss   dfl_loss  Instances       Size\n"
          ]
        },
        {
          "output_type": "stream",
          "name": "stderr",
          "text": [
            "       6/20      2.26G       1.13      1.885      1.111         12        640: 100%|██████████| 19/19 [00:06<00:00,  2.86it/s]\n",
            "                 Class     Images  Instances      Box(P          R      mAP50  mAP50-95): 100%|██████████| 3/3 [00:02<00:00,  1.39it/s]"
          ]
        },
        {
          "output_type": "stream",
          "name": "stdout",
          "text": [
            "                   all         75         81      0.758      0.581       0.78      0.525\n"
          ]
        },
        {
          "output_type": "stream",
          "name": "stderr",
          "text": [
            "\n"
          ]
        },
        {
          "output_type": "stream",
          "name": "stdout",
          "text": [
            "\n",
            "      Epoch    GPU_mem   box_loss   cls_loss   dfl_loss  Instances       Size\n"
          ]
        },
        {
          "output_type": "stream",
          "name": "stderr",
          "text": [
            "       7/20      2.25G      1.125       1.86      1.085         22        640: 100%|██████████| 19/19 [00:06<00:00,  2.72it/s]\n",
            "                 Class     Images  Instances      Box(P          R      mAP50  mAP50-95): 100%|██████████| 3/3 [00:00<00:00,  3.24it/s]\n"
          ]
        },
        {
          "output_type": "stream",
          "name": "stdout",
          "text": [
            "                   all         75         81      0.687      0.765      0.777      0.486\n",
            "\n",
            "      Epoch    GPU_mem   box_loss   cls_loss   dfl_loss  Instances       Size\n"
          ]
        },
        {
          "output_type": "stream",
          "name": "stderr",
          "text": [
            "       8/20      2.26G      1.129      1.787       1.11         13        640: 100%|██████████| 19/19 [00:06<00:00,  2.98it/s]\n",
            "                 Class     Images  Instances      Box(P          R      mAP50  mAP50-95): 100%|██████████| 3/3 [00:01<00:00,  1.51it/s]"
          ]
        },
        {
          "output_type": "stream",
          "name": "stdout",
          "text": [
            "                   all         75         81       0.82      0.728      0.802      0.531\n"
          ]
        },
        {
          "output_type": "stream",
          "name": "stderr",
          "text": [
            "\n"
          ]
        },
        {
          "output_type": "stream",
          "name": "stdout",
          "text": [
            "\n",
            "      Epoch    GPU_mem   box_loss   cls_loss   dfl_loss  Instances       Size\n"
          ]
        },
        {
          "output_type": "stream",
          "name": "stderr",
          "text": [
            "       9/20      2.26G      1.095      1.624      1.083         19        640: 100%|██████████| 19/19 [00:07<00:00,  2.47it/s]\n",
            "                 Class     Images  Instances      Box(P          R      mAP50  mAP50-95): 100%|██████████| 3/3 [00:00<00:00,  4.03it/s]"
          ]
        },
        {
          "output_type": "stream",
          "name": "stdout",
          "text": [
            "                   all         75         81      0.758      0.657      0.756      0.508\n"
          ]
        },
        {
          "output_type": "stream",
          "name": "stderr",
          "text": [
            "\n"
          ]
        },
        {
          "output_type": "stream",
          "name": "stdout",
          "text": [
            "\n",
            "      Epoch    GPU_mem   box_loss   cls_loss   dfl_loss  Instances       Size\n"
          ]
        },
        {
          "output_type": "stream",
          "name": "stderr",
          "text": [
            "      10/20      2.26G      1.088      1.529      1.068         15        640: 100%|██████████| 19/19 [00:05<00:00,  3.47it/s]\n",
            "                 Class     Images  Instances      Box(P          R      mAP50  mAP50-95): 100%|██████████| 3/3 [00:01<00:00,  1.64it/s]"
          ]
        },
        {
          "output_type": "stream",
          "name": "stdout",
          "text": [
            "                   all         75         81      0.878      0.713      0.901       0.63\n"
          ]
        },
        {
          "output_type": "stream",
          "name": "stderr",
          "text": [
            "\n"
          ]
        },
        {
          "output_type": "stream",
          "name": "stdout",
          "text": [
            "Closing dataloader mosaic\n",
            "\u001b[34m\u001b[1malbumentations: \u001b[0mBlur(p=0.01, blur_limit=(3, 7)), MedianBlur(p=0.01, blur_limit=(3, 7)), ToGray(p=0.01), CLAHE(p=0.01, clip_limit=(1, 4.0), tile_grid_size=(8, 8))\n"
          ]
        },
        {
          "output_type": "stream",
          "name": "stderr",
          "text": [
            "/usr/lib/python3.10/multiprocessing/popen_fork.py:66: RuntimeWarning: os.fork() was called. os.fork() is incompatible with multithreaded code, and JAX is multithreaded, so this will likely lead to a deadlock.\n",
            "  self.pid = os.fork()\n"
          ]
        },
        {
          "output_type": "stream",
          "name": "stdout",
          "text": [
            "\n",
            "      Epoch    GPU_mem   box_loss   cls_loss   dfl_loss  Instances       Size\n"
          ]
        },
        {
          "output_type": "stream",
          "name": "stderr",
          "text": [
            "      11/20      2.25G     0.9824       1.56      1.048          9        640: 100%|██████████| 19/19 [00:11<00:00,  1.71it/s]\n",
            "                 Class     Images  Instances      Box(P          R      mAP50  mAP50-95): 100%|██████████| 3/3 [00:00<00:00,  3.28it/s]"
          ]
        },
        {
          "output_type": "stream",
          "name": "stdout",
          "text": [
            "                   all         75         81      0.771      0.765      0.873      0.608\n"
          ]
        },
        {
          "output_type": "stream",
          "name": "stderr",
          "text": [
            "\n"
          ]
        },
        {
          "output_type": "stream",
          "name": "stdout",
          "text": [
            "\n",
            "      Epoch    GPU_mem   box_loss   cls_loss   dfl_loss  Instances       Size\n"
          ]
        },
        {
          "output_type": "stream",
          "name": "stderr",
          "text": [
            "      12/20      2.26G     0.9746       1.49      1.068          8        640: 100%|██████████| 19/19 [00:05<00:00,  3.47it/s]\n",
            "                 Class     Images  Instances      Box(P          R      mAP50  mAP50-95): 100%|██████████| 3/3 [00:02<00:00,  1.41it/s]"
          ]
        },
        {
          "output_type": "stream",
          "name": "stdout",
          "text": [
            "                   all         75         81      0.897      0.827      0.906      0.628\n"
          ]
        },
        {
          "output_type": "stream",
          "name": "stderr",
          "text": [
            "\n"
          ]
        },
        {
          "output_type": "stream",
          "name": "stdout",
          "text": [
            "\n",
            "      Epoch    GPU_mem   box_loss   cls_loss   dfl_loss  Instances       Size\n"
          ]
        },
        {
          "output_type": "stream",
          "name": "stderr",
          "text": [
            "      13/20      2.26G     0.9658      1.474       1.01          9        640: 100%|██████████| 19/19 [00:07<00:00,  2.49it/s]\n",
            "                 Class     Images  Instances      Box(P          R      mAP50  mAP50-95): 100%|██████████| 3/3 [00:00<00:00,  3.43it/s]"
          ]
        },
        {
          "output_type": "stream",
          "name": "stdout",
          "text": [
            "                   all         75         81      0.815      0.704      0.844      0.582\n"
          ]
        },
        {
          "output_type": "stream",
          "name": "stderr",
          "text": [
            "\n"
          ]
        },
        {
          "output_type": "stream",
          "name": "stdout",
          "text": [
            "\n",
            "      Epoch    GPU_mem   box_loss   cls_loss   dfl_loss  Instances       Size\n"
          ]
        },
        {
          "output_type": "stream",
          "name": "stderr",
          "text": [
            "      14/20      2.26G     0.9151       1.34      1.009          8        640: 100%|██████████| 19/19 [00:05<00:00,  3.71it/s]\n",
            "                 Class     Images  Instances      Box(P          R      mAP50  mAP50-95): 100%|██████████| 3/3 [00:00<00:00,  3.18it/s]"
          ]
        },
        {
          "output_type": "stream",
          "name": "stdout",
          "text": [
            "                   all         75         81      0.812      0.827      0.834      0.567\n"
          ]
        },
        {
          "output_type": "stream",
          "name": "stderr",
          "text": [
            "\n"
          ]
        },
        {
          "output_type": "stream",
          "name": "stdout",
          "text": [
            "\n",
            "      Epoch    GPU_mem   box_loss   cls_loss   dfl_loss  Instances       Size\n"
          ]
        },
        {
          "output_type": "stream",
          "name": "stderr",
          "text": [
            "      15/20      2.25G     0.8975      1.239     0.9779          8        640: 100%|██████████| 19/19 [00:08<00:00,  2.12it/s]\n",
            "                 Class     Images  Instances      Box(P          R      mAP50  mAP50-95): 100%|██████████| 3/3 [00:00<00:00,  3.02it/s]"
          ]
        },
        {
          "output_type": "stream",
          "name": "stdout",
          "text": [
            "                   all         75         81      0.863      0.864        0.9      0.634\n"
          ]
        },
        {
          "output_type": "stream",
          "name": "stderr",
          "text": [
            "\n"
          ]
        },
        {
          "output_type": "stream",
          "name": "stdout",
          "text": [
            "\n",
            "      Epoch    GPU_mem   box_loss   cls_loss   dfl_loss  Instances       Size\n"
          ]
        },
        {
          "output_type": "stream",
          "name": "stderr",
          "text": [
            "      16/20      2.26G     0.8774      1.137     0.9957          9        640: 100%|██████████| 19/19 [00:05<00:00,  3.60it/s]\n",
            "                 Class     Images  Instances      Box(P          R      mAP50  mAP50-95): 100%|██████████| 3/3 [00:01<00:00,  2.95it/s]"
          ]
        },
        {
          "output_type": "stream",
          "name": "stdout",
          "text": [
            "                   all         75         81      0.753      0.829      0.789      0.543\n"
          ]
        },
        {
          "output_type": "stream",
          "name": "stderr",
          "text": [
            "\n"
          ]
        },
        {
          "output_type": "stream",
          "name": "stdout",
          "text": [
            "\n",
            "      Epoch    GPU_mem   box_loss   cls_loss   dfl_loss  Instances       Size\n"
          ]
        },
        {
          "output_type": "stream",
          "name": "stderr",
          "text": [
            "      17/20      2.26G     0.8607      1.091     0.9728          8        640: 100%|██████████| 19/19 [00:07<00:00,  2.44it/s]\n",
            "                 Class     Images  Instances      Box(P          R      mAP50  mAP50-95): 100%|██████████| 3/3 [00:02<00:00,  1.31it/s]"
          ]
        },
        {
          "output_type": "stream",
          "name": "stdout",
          "text": [
            "                   all         75         81      0.857       0.79      0.849      0.607\n"
          ]
        },
        {
          "output_type": "stream",
          "name": "stderr",
          "text": [
            "\n"
          ]
        },
        {
          "output_type": "stream",
          "name": "stdout",
          "text": [
            "\n",
            "      Epoch    GPU_mem   box_loss   cls_loss   dfl_loss  Instances       Size\n"
          ]
        },
        {
          "output_type": "stream",
          "name": "stderr",
          "text": [
            "      18/20      2.26G     0.8073      1.074       0.96          8        640: 100%|██████████| 19/19 [00:05<00:00,  3.44it/s]\n",
            "                 Class     Images  Instances      Box(P          R      mAP50  mAP50-95): 100%|██████████| 3/3 [00:00<00:00,  3.18it/s]"
          ]
        },
        {
          "output_type": "stream",
          "name": "stdout",
          "text": [
            "                   all         75         81      0.789      0.827      0.846      0.599\n"
          ]
        },
        {
          "output_type": "stream",
          "name": "stderr",
          "text": [
            "\n"
          ]
        },
        {
          "output_type": "stream",
          "name": "stdout",
          "text": [
            "\n",
            "      Epoch    GPU_mem   box_loss   cls_loss   dfl_loss  Instances       Size\n"
          ]
        },
        {
          "output_type": "stream",
          "name": "stderr",
          "text": [
            "      19/20      2.25G     0.8017      1.003     0.9456          8        640: 100%|██████████| 19/19 [00:06<00:00,  3.04it/s]\n",
            "                 Class     Images  Instances      Box(P          R      mAP50  mAP50-95): 100%|██████████| 3/3 [00:01<00:00,  1.69it/s]"
          ]
        },
        {
          "output_type": "stream",
          "name": "stdout",
          "text": [
            "                   all         75         81      0.902       0.79      0.907      0.658\n"
          ]
        },
        {
          "output_type": "stream",
          "name": "stderr",
          "text": [
            "\n"
          ]
        },
        {
          "output_type": "stream",
          "name": "stdout",
          "text": [
            "\n",
            "      Epoch    GPU_mem   box_loss   cls_loss   dfl_loss  Instances       Size\n"
          ]
        },
        {
          "output_type": "stream",
          "name": "stderr",
          "text": [
            "      20/20      2.26G     0.7615     0.9545     0.9221          8        640: 100%|██████████| 19/19 [00:09<00:00,  2.06it/s]\n",
            "                 Class     Images  Instances      Box(P          R      mAP50  mAP50-95): 100%|██████████| 3/3 [00:02<00:00,  1.41it/s]"
          ]
        },
        {
          "output_type": "stream",
          "name": "stdout",
          "text": [
            "                   all         75         81      0.882      0.832      0.915      0.657\n"
          ]
        },
        {
          "output_type": "stream",
          "name": "stderr",
          "text": [
            "\n"
          ]
        },
        {
          "output_type": "stream",
          "name": "stdout",
          "text": [
            "\n",
            "20 epochs completed in 0.059 hours.\n",
            "Optimizer stripped from runs/detect/train2/weights/last.pt, 6.2MB\n",
            "Optimizer stripped from runs/detect/train2/weights/best.pt, 6.2MB\n",
            "\n",
            "Validating runs/detect/train2/weights/best.pt...\n",
            "Ultralytics YOLOv8.2.10 🚀 Python-3.10.12 torch-2.2.1+cu121 CUDA:0 (Tesla T4, 15102MiB)\n",
            "Model summary (fused): 168 layers, 3006038 parameters, 0 gradients, 8.1 GFLOPs\n"
          ]
        },
        {
          "output_type": "stream",
          "name": "stderr",
          "text": [
            "                 Class     Images  Instances      Box(P          R      mAP50  mAP50-95): 100%|██████████| 3/3 [00:01<00:00,  2.19it/s]\n"
          ]
        },
        {
          "output_type": "stream",
          "name": "stdout",
          "text": [
            "                   all         75         81      0.902       0.79      0.907      0.661\n",
            "              negative         75         81      0.902       0.79      0.907      0.661\n",
            "Speed: 0.3ms preprocess, 3.2ms inference, 0.0ms loss, 3.9ms postprocess per image\n",
            "Results saved to \u001b[1mruns/detect/train2\u001b[0m\n"
          ]
        }
      ]
    },
    {
      "cell_type": "markdown",
      "source": [
        "### Inference"
      ],
      "metadata": {
        "id": "TDak_dZgSZ3Y"
      }
    },
    {
      "cell_type": "code",
      "source": [
        "predict_results(\"/content/drive/MyDrive/brain_tumor_tidy/axial_t1wce_2_class/images/test\")"
      ],
      "metadata": {
        "colab": {
          "base_uri": "https://localhost:8080/"
        },
        "id": "epJVFvxdSv-o",
        "outputId": "6b02266b-57a1-4ec9-f368-5fda5dd71475"
      },
      "execution_count": null,
      "outputs": [
        {
          "output_type": "stream",
          "name": "stdout",
          "text": [
            "\n",
            "image 1/1 /content/drive/MyDrive/brain_tumor_tidy/axial_t1wce_2_class/images/test/00022_73.jpg: 320x320 1 negative, 18.5ms\n",
            "Speed: 1.2ms preprocess, 18.5ms inference, 3.5ms postprocess per image at shape (1, 3, 320, 320)\n",
            "Results saved to \u001b[1mruns/detect/predict2\u001b[0m\n",
            "\n",
            "image 1/1 /content/drive/MyDrive/brain_tumor_tidy/axial_t1wce_2_class/images/test/00022_86.jpg: 320x320 1 negative, 1 positive, 15.2ms\n",
            "Speed: 1.3ms preprocess, 15.2ms inference, 1.9ms postprocess per image at shape (1, 3, 320, 320)\n",
            "Results saved to \u001b[1mruns/detect/predict2\u001b[0m\n",
            "\n",
            "image 1/1 /content/drive/MyDrive/brain_tumor_tidy/axial_t1wce_2_class/images/test/00022_79.jpg: 320x320 1 negative, 1 positive, 9.9ms\n",
            "Speed: 1.1ms preprocess, 9.9ms inference, 1.3ms postprocess per image at shape (1, 3, 320, 320)\n",
            "Results saved to \u001b[1mruns/detect/predict2\u001b[0m\n",
            "\n",
            "image 1/1 /content/drive/MyDrive/brain_tumor_tidy/axial_t1wce_2_class/images/test/00064_158.jpg: 320x320 (no detections), 8.5ms\n",
            "Speed: 1.0ms preprocess, 8.5ms inference, 0.6ms postprocess per image at shape (1, 3, 320, 320)\n",
            "Results saved to \u001b[1mruns/detect/predict2\u001b[0m\n",
            "\n",
            "image 1/1 /content/drive/MyDrive/brain_tumor_tidy/axial_t1wce_2_class/images/test/00064_220.jpg: 320x320 (no detections), 8.5ms\n",
            "Speed: 1.0ms preprocess, 8.5ms inference, 0.6ms postprocess per image at shape (1, 3, 320, 320)\n",
            "Results saved to \u001b[1mruns/detect/predict2\u001b[0m\n",
            "\n",
            "image 1/1 /content/drive/MyDrive/brain_tumor_tidy/axial_t1wce_2_class/images/test/00045_118.jpg: 320x320 1 positive, 8.5ms\n",
            "Speed: 0.8ms preprocess, 8.5ms inference, 1.4ms postprocess per image at shape (1, 3, 320, 320)\n",
            "Results saved to \u001b[1mruns/detect/predict2\u001b[0m\n",
            "\n",
            "image 1/1 /content/drive/MyDrive/brain_tumor_tidy/axial_t1wce_2_class/images/test/00045_136.jpg: 320x320 (no detections), 15.1ms\n",
            "Speed: 1.3ms preprocess, 15.1ms inference, 0.7ms postprocess per image at shape (1, 3, 320, 320)\n",
            "Results saved to \u001b[1mruns/detect/predict2\u001b[0m\n",
            "\n",
            "image 1/1 /content/drive/MyDrive/brain_tumor_tidy/axial_t1wce_2_class/images/test/00018_117.jpg: 320x320 1 negative, 9.0ms\n",
            "Speed: 0.8ms preprocess, 9.0ms inference, 1.5ms postprocess per image at shape (1, 3, 320, 320)\n",
            "Results saved to \u001b[1mruns/detect/predict2\u001b[0m\n",
            "\n",
            "image 1/1 /content/drive/MyDrive/brain_tumor_tidy/axial_t1wce_2_class/images/test/00019_84.jpg: 320x320 (no detections), 10.0ms\n",
            "Speed: 1.1ms preprocess, 10.0ms inference, 0.6ms postprocess per image at shape (1, 3, 320, 320)\n",
            "Results saved to \u001b[1mruns/detect/predict2\u001b[0m\n",
            "\n",
            "image 1/1 /content/drive/MyDrive/brain_tumor_tidy/axial_t1wce_2_class/images/test/00018_101.jpg: 320x320 3 negatives, 10.4ms\n",
            "Speed: 1.1ms preprocess, 10.4ms inference, 1.4ms postprocess per image at shape (1, 3, 320, 320)\n",
            "Results saved to \u001b[1mruns/detect/predict2\u001b[0m\n",
            "\n",
            "image 1/1 /content/drive/MyDrive/brain_tumor_tidy/axial_t1wce_2_class/images/test/00021_53.jpg: 320x320 (no detections), 8.3ms\n",
            "Speed: 0.9ms preprocess, 8.3ms inference, 0.5ms postprocess per image at shape (1, 3, 320, 320)\n",
            "Results saved to \u001b[1mruns/detect/predict2\u001b[0m\n",
            "\n",
            "image 1/1 /content/drive/MyDrive/brain_tumor_tidy/axial_t1wce_2_class/images/test/00072_77.jpg: 320x320 1 negative, 10.9ms\n",
            "Speed: 0.8ms preprocess, 10.9ms inference, 1.3ms postprocess per image at shape (1, 3, 320, 320)\n",
            "Results saved to \u001b[1mruns/detect/predict2\u001b[0m\n",
            "\n",
            "image 1/1 /content/drive/MyDrive/brain_tumor_tidy/axial_t1wce_2_class/images/test/00044_109.jpg: 320x320 1 positive, 8.3ms\n",
            "Speed: 0.7ms preprocess, 8.3ms inference, 1.4ms postprocess per image at shape (1, 3, 320, 320)\n",
            "Results saved to \u001b[1mruns/detect/predict2\u001b[0m\n",
            "\n",
            "image 1/1 /content/drive/MyDrive/brain_tumor_tidy/axial_t1wce_2_class/images/test/00081_98.jpg: 320x320 1 negative, 1 positive, 8.7ms\n",
            "Speed: 0.8ms preprocess, 8.7ms inference, 1.4ms postprocess per image at shape (1, 3, 320, 320)\n",
            "Results saved to \u001b[1mruns/detect/predict2\u001b[0m\n",
            "\n",
            "image 1/1 /content/drive/MyDrive/brain_tumor_tidy/axial_t1wce_2_class/images/test/00022_85.jpg: 320x320 1 negative, 1 positive, 8.5ms\n",
            "Speed: 0.8ms preprocess, 8.5ms inference, 1.2ms postprocess per image at shape (1, 3, 320, 320)\n",
            "Results saved to \u001b[1mruns/detect/predict2\u001b[0m\n",
            "\n",
            "image 1/1 /content/drive/MyDrive/brain_tumor_tidy/axial_t1wce_2_class/images/test/00053_207.jpg: 320x320 1 positive, 8.3ms\n",
            "Speed: 0.9ms preprocess, 8.3ms inference, 1.5ms postprocess per image at shape (1, 3, 320, 320)\n",
            "Results saved to \u001b[1mruns/detect/predict2\u001b[0m\n",
            "\n",
            "image 1/1 /content/drive/MyDrive/brain_tumor_tidy/axial_t1wce_2_class/images/test/00053_221.jpg: 320x320 1 positive, 8.9ms\n",
            "Speed: 1.3ms preprocess, 8.9ms inference, 1.3ms postprocess per image at shape (1, 3, 320, 320)\n",
            "Results saved to \u001b[1mruns/detect/predict2\u001b[0m\n",
            "\n",
            "image 1/1 /content/drive/MyDrive/brain_tumor_tidy/axial_t1wce_2_class/images/test/00044_111.jpg: 320x320 1 negative, 1 positive, 9.2ms\n",
            "Speed: 1.0ms preprocess, 9.2ms inference, 1.3ms postprocess per image at shape (1, 3, 320, 320)\n",
            "Results saved to \u001b[1mruns/detect/predict2\u001b[0m\n",
            "\n",
            "image 1/1 /content/drive/MyDrive/brain_tumor_tidy/axial_t1wce_2_class/images/test/00072_81.jpg: 320x320 1 positive, 12.4ms\n",
            "Speed: 0.8ms preprocess, 12.4ms inference, 2.5ms postprocess per image at shape (1, 3, 320, 320)\n",
            "Results saved to \u001b[1mruns/detect/predict2\u001b[0m\n",
            "\n",
            "image 1/1 /content/drive/MyDrive/brain_tumor_tidy/axial_t1wce_2_class/images/test/00053_263.jpg: 320x320 1 positive, 9.9ms\n",
            "Speed: 1.0ms preprocess, 9.9ms inference, 1.5ms postprocess per image at shape (1, 3, 320, 320)\n",
            "Results saved to \u001b[1mruns/detect/predict2\u001b[0m\n",
            "\n",
            "image 1/1 /content/drive/MyDrive/brain_tumor_tidy/axial_t1wce_2_class/images/test/00053_253.jpg: 320x320 1 positive, 8.7ms\n",
            "Speed: 1.0ms preprocess, 8.7ms inference, 1.3ms postprocess per image at shape (1, 3, 320, 320)\n",
            "Results saved to \u001b[1mruns/detect/predict2\u001b[0m\n",
            "\n",
            "image 1/1 /content/drive/MyDrive/brain_tumor_tidy/axial_t1wce_2_class/images/test/00022_88.jpg: 320x320 1 positive, 10.3ms\n",
            "Speed: 1.1ms preprocess, 10.3ms inference, 2.0ms postprocess per image at shape (1, 3, 320, 320)\n",
            "Results saved to \u001b[1mruns/detect/predict2\u001b[0m\n",
            "\n",
            "image 1/1 /content/drive/MyDrive/brain_tumor_tidy/axial_t1wce_2_class/images/test/00072_80.jpg: 320x320 1 negative, 1 positive, 8.7ms\n",
            "Speed: 0.9ms preprocess, 8.7ms inference, 1.3ms postprocess per image at shape (1, 3, 320, 320)\n",
            "Results saved to \u001b[1mruns/detect/predict2\u001b[0m\n",
            "\n",
            "image 1/1 /content/drive/MyDrive/brain_tumor_tidy/axial_t1wce_2_class/images/test/00072_66.jpg: 320x320 1 negative, 1 positive, 8.9ms\n",
            "Speed: 0.8ms preprocess, 8.9ms inference, 1.3ms postprocess per image at shape (1, 3, 320, 320)\n",
            "Results saved to \u001b[1mruns/detect/predict2\u001b[0m\n",
            "\n",
            "image 1/1 /content/drive/MyDrive/brain_tumor_tidy/axial_t1wce_2_class/images/test/00019_75.jpg: 320x320 1 positive, 8.8ms\n",
            "Speed: 0.8ms preprocess, 8.8ms inference, 1.2ms postprocess per image at shape (1, 3, 320, 320)\n",
            "Results saved to \u001b[1mruns/detect/predict2\u001b[0m\n",
            "\n",
            "image 1/1 /content/drive/MyDrive/brain_tumor_tidy/axial_t1wce_2_class/images/test/00072_73.jpg: 320x320 1 negative, 9.9ms\n",
            "Speed: 1.1ms preprocess, 9.9ms inference, 1.3ms postprocess per image at shape (1, 3, 320, 320)\n",
            "Results saved to \u001b[1mruns/detect/predict2\u001b[0m\n",
            "\n",
            "image 1/1 /content/drive/MyDrive/brain_tumor_tidy/axial_t1wce_2_class/images/test/00018_109.jpg: 320x320 1 negative, 11.6ms\n",
            "Speed: 1.0ms preprocess, 11.6ms inference, 1.4ms postprocess per image at shape (1, 3, 320, 320)\n",
            "Results saved to \u001b[1mruns/detect/predict2\u001b[0m\n",
            "\n",
            "image 1/1 /content/drive/MyDrive/brain_tumor_tidy/axial_t1wce_2_class/images/test/00022_81.jpg: 320x320 1 negative, 1 positive, 8.7ms\n",
            "Speed: 0.8ms preprocess, 8.7ms inference, 1.3ms postprocess per image at shape (1, 3, 320, 320)\n",
            "Results saved to \u001b[1mruns/detect/predict2\u001b[0m\n",
            "\n",
            "image 1/1 /content/drive/MyDrive/brain_tumor_tidy/axial_t1wce_2_class/images/test/00022_87.jpg: 320x320 1 negative, 1 positive, 10.0ms\n",
            "Speed: 1.1ms preprocess, 10.0ms inference, 1.4ms postprocess per image at shape (1, 3, 320, 320)\n",
            "Results saved to \u001b[1mruns/detect/predict2\u001b[0m\n",
            "\n",
            "image 1/1 /content/drive/MyDrive/brain_tumor_tidy/axial_t1wce_2_class/images/test/00044_101.jpg: 320x320 1 positive, 8.9ms\n",
            "Speed: 0.8ms preprocess, 8.9ms inference, 1.4ms postprocess per image at shape (1, 3, 320, 320)\n",
            "Results saved to \u001b[1mruns/detect/predict2\u001b[0m\n",
            "\n",
            "image 1/1 /content/drive/MyDrive/brain_tumor_tidy/axial_t1wce_2_class/images/test/00022_75.jpg: 320x320 1 negative, 8.6ms\n",
            "Speed: 0.9ms preprocess, 8.6ms inference, 1.3ms postprocess per image at shape (1, 3, 320, 320)\n",
            "Results saved to \u001b[1mruns/detect/predict2\u001b[0m\n",
            "\n",
            "image 1/1 /content/drive/MyDrive/brain_tumor_tidy/axial_t1wce_2_class/images/test/00053_249.jpg: 320x320 1 negative, 1 positive, 10.7ms\n",
            "Speed: 1.0ms preprocess, 10.7ms inference, 1.4ms postprocess per image at shape (1, 3, 320, 320)\n",
            "Results saved to \u001b[1mruns/detect/predict2\u001b[0m\n",
            "\n",
            "image 1/1 /content/drive/MyDrive/brain_tumor_tidy/axial_t1wce_2_class/images/test/00022_77.jpg: 320x320 1 negative, 9.2ms\n",
            "Speed: 0.9ms preprocess, 9.2ms inference, 1.4ms postprocess per image at shape (1, 3, 320, 320)\n",
            "Results saved to \u001b[1mruns/detect/predict2\u001b[0m\n",
            "\n",
            "image 1/1 /content/drive/MyDrive/brain_tumor_tidy/axial_t1wce_2_class/images/test/00061_172.jpg: 320x320 1 positive, 10.5ms\n",
            "Speed: 1.4ms preprocess, 10.5ms inference, 1.3ms postprocess per image at shape (1, 3, 320, 320)\n",
            "Results saved to \u001b[1mruns/detect/predict2\u001b[0m\n",
            "\n",
            "image 1/1 /content/drive/MyDrive/brain_tumor_tidy/axial_t1wce_2_class/images/test/00053_235.jpg: 320x320 1 negative, 1 positive, 16.1ms\n",
            "Speed: 1.0ms preprocess, 16.1ms inference, 2.1ms postprocess per image at shape (1, 3, 320, 320)\n",
            "Results saved to \u001b[1mruns/detect/predict2\u001b[0m\n",
            "\n",
            "image 1/1 /content/drive/MyDrive/brain_tumor_tidy/axial_t1wce_2_class/images/test/00053_269.jpg: 320x320 1 positive, 9.5ms\n",
            "Speed: 1.0ms preprocess, 9.5ms inference, 1.3ms postprocess per image at shape (1, 3, 320, 320)\n",
            "Results saved to \u001b[1mruns/detect/predict2\u001b[0m\n",
            "\n",
            "image 1/1 /content/drive/MyDrive/brain_tumor_tidy/axial_t1wce_2_class/images/test/00019_66.jpg: 320x320 1 negative, 1 positive, 8.7ms\n",
            "Speed: 0.8ms preprocess, 8.7ms inference, 1.3ms postprocess per image at shape (1, 3, 320, 320)\n",
            "Results saved to \u001b[1mruns/detect/predict2\u001b[0m\n",
            "\n",
            "image 1/1 /content/drive/MyDrive/brain_tumor_tidy/axial_t1wce_2_class/images/test/00081_80.jpg: 320x320 1 negative, 1 positive, 8.4ms\n",
            "Speed: 1.1ms preprocess, 8.4ms inference, 1.2ms postprocess per image at shape (1, 3, 320, 320)\n",
            "Results saved to \u001b[1mruns/detect/predict2\u001b[0m\n",
            "\n",
            "image 1/1 /content/drive/MyDrive/brain_tumor_tidy/axial_t1wce_2_class/images/test/00084_123.jpg: 320x320 1 positive, 9.6ms\n",
            "Speed: 1.0ms preprocess, 9.6ms inference, 1.2ms postprocess per image at shape (1, 3, 320, 320)\n",
            "Results saved to \u001b[1mruns/detect/predict2\u001b[0m\n",
            "\n",
            "image 1/1 /content/drive/MyDrive/brain_tumor_tidy/axial_t1wce_2_class/images/test/00022_83.jpg: 320x320 1 negative, 1 positive, 9.4ms\n",
            "Speed: 0.8ms preprocess, 9.4ms inference, 1.3ms postprocess per image at shape (1, 3, 320, 320)\n",
            "Results saved to \u001b[1mruns/detect/predict2\u001b[0m\n",
            "\n",
            "image 1/1 /content/drive/MyDrive/brain_tumor_tidy/axial_t1wce_2_class/images/test/00018_121.jpg: 320x320 1 negative, 9.1ms\n",
            "Speed: 1.1ms preprocess, 9.1ms inference, 1.3ms postprocess per image at shape (1, 3, 320, 320)\n",
            "Results saved to \u001b[1mruns/detect/predict2\u001b[0m\n",
            "\n",
            "image 1/1 /content/drive/MyDrive/brain_tumor_tidy/axial_t1wce_2_class/images/test/00018_111.jpg: 320x320 2 negatives, 8.3ms\n",
            "Speed: 0.8ms preprocess, 8.3ms inference, 1.2ms postprocess per image at shape (1, 3, 320, 320)\n",
            "Results saved to \u001b[1mruns/detect/predict2\u001b[0m\n",
            "\n",
            "image 1/1 /content/drive/MyDrive/brain_tumor_tidy/axial_t1wce_2_class/images/test/00018_134.jpg: 320x320 1 negative, 8.8ms\n",
            "Speed: 1.0ms preprocess, 8.8ms inference, 1.2ms postprocess per image at shape (1, 3, 320, 320)\n",
            "Results saved to \u001b[1mruns/detect/predict2\u001b[0m\n",
            "\n",
            "image 1/1 /content/drive/MyDrive/brain_tumor_tidy/axial_t1wce_2_class/images/test/00053_237.jpg: 320x320 1 negative, 1 positive, 9.2ms\n",
            "Speed: 1.0ms preprocess, 9.2ms inference, 1.6ms postprocess per image at shape (1, 3, 320, 320)\n",
            "Results saved to \u001b[1mruns/detect/predict2\u001b[0m\n",
            "\n",
            "image 1/1 /content/drive/MyDrive/brain_tumor_tidy/axial_t1wce_2_class/images/test/00064_209.jpg: 320x320 (no detections), 8.9ms\n",
            "Speed: 0.9ms preprocess, 8.9ms inference, 0.7ms postprocess per image at shape (1, 3, 320, 320)\n",
            "Results saved to \u001b[1mruns/detect/predict2\u001b[0m\n",
            "\n",
            "image 1/1 /content/drive/MyDrive/brain_tumor_tidy/axial_t1wce_2_class/images/test/00064_170.jpg: 320x320 1 negative, 1 positive, 8.5ms\n",
            "Speed: 0.9ms preprocess, 8.5ms inference, 1.4ms postprocess per image at shape (1, 3, 320, 320)\n",
            "Results saved to \u001b[1mruns/detect/predict2\u001b[0m\n",
            "\n",
            "image 1/1 /content/drive/MyDrive/brain_tumor_tidy/axial_t1wce_2_class/images/test/00081_107.jpg: 320x320 (no detections), 9.4ms\n",
            "Speed: 1.2ms preprocess, 9.4ms inference, 0.6ms postprocess per image at shape (1, 3, 320, 320)\n",
            "Results saved to \u001b[1mruns/detect/predict2\u001b[0m\n",
            "\n",
            "image 1/1 /content/drive/MyDrive/brain_tumor_tidy/axial_t1wce_2_class/images/test/00081_89.jpg: 320x320 1 negative, 1 positive, 9.0ms\n",
            "Speed: 0.8ms preprocess, 9.0ms inference, 1.3ms postprocess per image at shape (1, 3, 320, 320)\n",
            "Results saved to \u001b[1mruns/detect/predict2\u001b[0m\n",
            "\n",
            "image 1/1 /content/drive/MyDrive/brain_tumor_tidy/axial_t1wce_2_class/images/test/00072_76.jpg: 320x320 1 negative, 8.6ms\n",
            "Speed: 0.8ms preprocess, 8.6ms inference, 1.3ms postprocess per image at shape (1, 3, 320, 320)\n",
            "Results saved to \u001b[1mruns/detect/predict2\u001b[0m\n",
            "\n",
            "image 1/1 /content/drive/MyDrive/brain_tumor_tidy/axial_t1wce_2_class/images/test/00045_127.jpg: 320x320 1 positive, 8.1ms\n",
            "Speed: 0.8ms preprocess, 8.1ms inference, 1.3ms postprocess per image at shape (1, 3, 320, 320)\n",
            "Results saved to \u001b[1mruns/detect/predict2\u001b[0m\n",
            "\n",
            "image 1/1 /content/drive/MyDrive/brain_tumor_tidy/axial_t1wce_2_class/images/test/00053_277.jpg: 320x320 1 positive, 9.4ms\n",
            "Speed: 0.9ms preprocess, 9.4ms inference, 1.2ms postprocess per image at shape (1, 3, 320, 320)\n",
            "Results saved to \u001b[1mruns/detect/predict2\u001b[0m\n",
            "\n",
            "image 1/1 /content/drive/MyDrive/brain_tumor_tidy/axial_t1wce_2_class/images/test/00018_126.jpg: 320x320 1 negative, 8.9ms\n",
            "Speed: 1.1ms preprocess, 8.9ms inference, 1.3ms postprocess per image at shape (1, 3, 320, 320)\n",
            "Results saved to \u001b[1mruns/detect/predict2\u001b[0m\n",
            "\n",
            "image 1/1 /content/drive/MyDrive/brain_tumor_tidy/axial_t1wce_2_class/images/test/00044_118.jpg: 320x320 (no detections), 9.0ms\n",
            "Speed: 2.3ms preprocess, 9.0ms inference, 0.6ms postprocess per image at shape (1, 3, 320, 320)\n",
            "Results saved to \u001b[1mruns/detect/predict2\u001b[0m\n",
            "\n",
            "image 1/1 /content/drive/MyDrive/brain_tumor_tidy/axial_t1wce_2_class/images/test/00061_178.jpg: 320x320 (no detections), 8.9ms\n",
            "Speed: 1.0ms preprocess, 8.9ms inference, 0.8ms postprocess per image at shape (1, 3, 320, 320)\n",
            "Results saved to \u001b[1mruns/detect/predict2\u001b[0m\n",
            "\n",
            "image 1/1 /content/drive/MyDrive/brain_tumor_tidy/axial_t1wce_2_class/images/test/00019_85.jpg: 320x320 (no detections), 13.4ms\n",
            "Speed: 0.9ms preprocess, 13.4ms inference, 1.0ms postprocess per image at shape (1, 3, 320, 320)\n",
            "Results saved to \u001b[1mruns/detect/predict2\u001b[0m\n",
            "\n",
            "image 1/1 /content/drive/MyDrive/brain_tumor_tidy/axial_t1wce_2_class/images/test/00084_152.jpg: 320x320 1 negative, 1 positive, 18.6ms\n",
            "Speed: 1.1ms preprocess, 18.6ms inference, 2.6ms postprocess per image at shape (1, 3, 320, 320)\n",
            "Results saved to \u001b[1mruns/detect/predict2\u001b[0m\n",
            "\n",
            "image 1/1 /content/drive/MyDrive/brain_tumor_tidy/axial_t1wce_2_class/images/test/00084_145.jpg: 320x320 1 negative, 1 positive, 11.9ms\n",
            "Speed: 0.8ms preprocess, 11.9ms inference, 1.4ms postprocess per image at shape (1, 3, 320, 320)\n",
            "Results saved to \u001b[1mruns/detect/predict2\u001b[0m\n",
            "\n",
            "image 1/1 /content/drive/MyDrive/brain_tumor_tidy/axial_t1wce_2_class/images/test/00084_160.jpg: 320x320 1 negative, 1 positive, 9.3ms\n",
            "Speed: 1.0ms preprocess, 9.3ms inference, 1.6ms postprocess per image at shape (1, 3, 320, 320)\n",
            "Results saved to \u001b[1mruns/detect/predict2\u001b[0m\n",
            "\n",
            "image 1/1 /content/drive/MyDrive/brain_tumor_tidy/axial_t1wce_2_class/images/test/00084_156.jpg: 320x320 1 negative, 1 positive, 8.4ms\n",
            "Speed: 0.8ms preprocess, 8.4ms inference, 1.3ms postprocess per image at shape (1, 3, 320, 320)\n",
            "Results saved to \u001b[1mruns/detect/predict2\u001b[0m\n",
            "\n",
            "image 1/1 /content/drive/MyDrive/brain_tumor_tidy/axial_t1wce_2_class/images/test/00088_150.jpg: 320x320 1 negative, 1 positive, 8.5ms\n",
            "Speed: 0.7ms preprocess, 8.5ms inference, 1.3ms postprocess per image at shape (1, 3, 320, 320)\n",
            "Results saved to \u001b[1mruns/detect/predict2\u001b[0m\n",
            "\n",
            "image 1/1 /content/drive/MyDrive/brain_tumor_tidy/axial_t1wce_2_class/images/test/00090_169.jpg: 320x320 1 positive, 11.6ms\n",
            "Speed: 1.3ms preprocess, 11.6ms inference, 1.3ms postprocess per image at shape (1, 3, 320, 320)\n",
            "Results saved to \u001b[1mruns/detect/predict2\u001b[0m\n",
            "\n",
            "image 1/1 /content/drive/MyDrive/brain_tumor_tidy/axial_t1wce_2_class/images/test/00088_136.jpg: 320x320 1 negative, 9.7ms\n",
            "Speed: 1.0ms preprocess, 9.7ms inference, 1.5ms postprocess per image at shape (1, 3, 320, 320)\n",
            "Results saved to \u001b[1mruns/detect/predict2\u001b[0m\n",
            "\n",
            "image 1/1 /content/drive/MyDrive/brain_tumor_tidy/axial_t1wce_2_class/images/test/00090_157.jpg: 320x320 1 positive, 8.5ms\n",
            "Speed: 0.9ms preprocess, 8.5ms inference, 1.3ms postprocess per image at shape (1, 3, 320, 320)\n",
            "Results saved to \u001b[1mruns/detect/predict2\u001b[0m\n",
            "\n",
            "image 1/1 /content/drive/MyDrive/brain_tumor_tidy/axial_t1wce_2_class/images/test/00084_130.jpg: 320x320 1 negative, 1 positive, 15.4ms\n",
            "Speed: 1.0ms preprocess, 15.4ms inference, 2.0ms postprocess per image at shape (1, 3, 320, 320)\n",
            "Results saved to \u001b[1mruns/detect/predict2\u001b[0m\n",
            "\n",
            "image 1/1 /content/drive/MyDrive/brain_tumor_tidy/axial_t1wce_2_class/images/test/00084_137.jpg: 320x320 (no detections), 9.5ms\n",
            "Speed: 1.0ms preprocess, 9.5ms inference, 0.6ms postprocess per image at shape (1, 3, 320, 320)\n",
            "Results saved to \u001b[1mruns/detect/predict2\u001b[0m\n",
            "\n",
            "image 1/1 /content/drive/MyDrive/brain_tumor_tidy/axial_t1wce_2_class/images/test/00088_122.jpg: 320x320 1 negative, 20.3ms\n",
            "Speed: 1.5ms preprocess, 20.3ms inference, 2.4ms postprocess per image at shape (1, 3, 320, 320)\n",
            "Results saved to \u001b[1mruns/detect/predict2\u001b[0m\n",
            "\n",
            "image 1/1 /content/drive/MyDrive/brain_tumor_tidy/axial_t1wce_2_class/images/test/00088_108.jpg: 320x320 1 negative, 1 positive, 14.8ms\n",
            "Speed: 2.2ms preprocess, 14.8ms inference, 2.2ms postprocess per image at shape (1, 3, 320, 320)\n",
            "Results saved to \u001b[1mruns/detect/predict2\u001b[0m\n",
            "\n",
            "image 1/1 /content/drive/MyDrive/brain_tumor_tidy/axial_t1wce_2_class/images/test/00088_153.jpg: 320x320 1 negative, 1 positive, 17.4ms\n",
            "Speed: 1.5ms preprocess, 17.4ms inference, 2.3ms postprocess per image at shape (1, 3, 320, 320)\n",
            "Results saved to \u001b[1mruns/detect/predict2\u001b[0m\n",
            "\n",
            "image 1/1 /content/drive/MyDrive/brain_tumor_tidy/axial_t1wce_2_class/images/test/00088_129.jpg: 320x320 1 negative, 14.1ms\n",
            "Speed: 1.4ms preprocess, 14.1ms inference, 1.9ms postprocess per image at shape (1, 3, 320, 320)\n",
            "Results saved to \u001b[1mruns/detect/predict2\u001b[0m\n",
            "\n",
            "image 1/1 /content/drive/MyDrive/brain_tumor_tidy/axial_t1wce_2_class/images/test/00084_138.jpg: 320x320 (no detections), 12.7ms\n",
            "Speed: 1.2ms preprocess, 12.7ms inference, 0.8ms postprocess per image at shape (1, 3, 320, 320)\n",
            "Results saved to \u001b[1mruns/detect/predict2\u001b[0m\n",
            "\n",
            "image 1/1 /content/drive/MyDrive/brain_tumor_tidy/axial_t1wce_2_class/images/test/00088_115.jpg: 320x320 1 negative, 11.4ms\n",
            "Speed: 1.2ms preprocess, 11.4ms inference, 1.8ms postprocess per image at shape (1, 3, 320, 320)\n",
            "Results saved to \u001b[1mruns/detect/predict2\u001b[0m\n",
            "\n",
            "image 1/1 /content/drive/MyDrive/brain_tumor_tidy/axial_t1wce_2_class/images/test/00088_137.jpg: 320x320 1 negative, 11.2ms\n",
            "Speed: 1.1ms preprocess, 11.2ms inference, 1.7ms postprocess per image at shape (1, 3, 320, 320)\n",
            "Results saved to \u001b[1mruns/detect/predict2\u001b[0m\n",
            "\n",
            "image 1/1 /content/drive/MyDrive/brain_tumor_tidy/axial_t1wce_2_class/images/test/00088_145.jpg: 320x320 1 negative, 1 positive, 12.6ms\n",
            "Speed: 1.3ms preprocess, 12.6ms inference, 1.7ms postprocess per image at shape (1, 3, 320, 320)\n",
            "Results saved to \u001b[1mruns/detect/predict2\u001b[0m\n",
            "\n",
            "image 1/1 /content/drive/MyDrive/brain_tumor_tidy/axial_t1wce_2_class/images/test/00088_143.jpg: 320x320 1 negative, 11.2ms\n",
            "Speed: 1.1ms preprocess, 11.2ms inference, 1.7ms postprocess per image at shape (1, 3, 320, 320)\n",
            "Results saved to \u001b[1mruns/detect/predict2\u001b[0m\n",
            "\n",
            "image 1/1 /content/drive/MyDrive/brain_tumor_tidy/axial_t1wce_2_class/images/test/00090_181.jpg: 320x320 1 positive, 12.5ms\n",
            "Speed: 1.3ms preprocess, 12.5ms inference, 1.6ms postprocess per image at shape (1, 3, 320, 320)\n",
            "Results saved to \u001b[1mruns/detect/predict2\u001b[0m\n"
          ]
        }
      ]
    },
    {
      "cell_type": "markdown",
      "source": [
        "## Coronal view"
      ],
      "metadata": {
        "id": "nphKvwasymeo"
      }
    },
    {
      "cell_type": "code",
      "source": [
        "# Load a model\n",
        "model = YOLO('yolov8n.yaml')  # build a new model from YAML\n",
        "model = YOLO('yolov8n.pt')  # load a pretrained model (recommended for training)\n",
        "\n",
        "results = model.train(data='/content/drive/MyDrive/brain_tumor_tidy/coronal_t1wce_2_class/coronal_t1wce_2_class.yaml', epochs=20, imgsz=640, device=device)"
      ],
      "metadata": {
        "colab": {
          "base_uri": "https://localhost:8080/"
        },
        "id": "A1-4akt5ybR8",
        "outputId": "4d27ec7e-6822-49e2-8cad-c4a712f01269"
      },
      "execution_count": null,
      "outputs": [
        {
          "output_type": "stream",
          "name": "stdout",
          "text": [
            "\u001b[34m\u001b[1mengine/trainer: \u001b[0mtask=detect, mode=train, model=yolov8n.pt, data=/content/drive/MyDrive/brain_tumor_tidy/coronal_t1wce_2_class/coronal_t1wce_2_class.yaml, epochs=20, time=None, patience=100, batch=16, imgsz=640, save=True, save_period=-1, cache=False, device=cuda, workers=8, project=None, name=train5, exist_ok=False, pretrained=True, optimizer=auto, verbose=True, seed=0, deterministic=True, single_cls=False, rect=False, cos_lr=False, close_mosaic=10, resume=False, amp=True, fraction=1.0, profile=False, freeze=None, multi_scale=False, overlap_mask=True, mask_ratio=4, dropout=0.0, val=True, split=val, save_json=False, save_hybrid=False, conf=None, iou=0.7, max_det=300, half=False, dnn=False, plots=True, source=None, vid_stride=1, stream_buffer=False, visualize=False, augment=False, agnostic_nms=False, classes=None, retina_masks=False, embed=None, show=False, save_frames=False, save_txt=False, save_conf=False, save_crop=False, show_labels=True, show_conf=True, show_boxes=True, line_width=None, format=torchscript, keras=False, optimize=False, int8=False, dynamic=False, simplify=False, opset=None, workspace=4, nms=False, lr0=0.01, lrf=0.01, momentum=0.937, weight_decay=0.0005, warmup_epochs=3.0, warmup_momentum=0.8, warmup_bias_lr=0.1, box=7.5, cls=0.5, dfl=1.5, pose=12.0, kobj=1.0, label_smoothing=0.0, nbs=64, hsv_h=0.015, hsv_s=0.7, hsv_v=0.4, degrees=0.0, translate=0.1, scale=0.5, shear=0.0, perspective=0.0, flipud=0.0, fliplr=0.5, bgr=0.0, mosaic=1.0, mixup=0.0, copy_paste=0.0, auto_augment=randaugment, erasing=0.4, crop_fraction=1.0, cfg=None, tracker=botsort.yaml, save_dir=runs/detect/train5\n",
            "Downloading https://ultralytics.com/assets/Arial.ttf to '/root/.config/Ultralytics/Arial.ttf'...\n"
          ]
        },
        {
          "output_type": "stream",
          "name": "stderr",
          "text": [
            "100%|██████████| 755k/755k [00:00<00:00, 5.17MB/s]\n"
          ]
        },
        {
          "output_type": "stream",
          "name": "stdout",
          "text": [
            "Overriding model.yaml nc=80 with nc=2\n",
            "\n",
            "                   from  n    params  module                                       arguments                     \n",
            "  0                  -1  1       464  ultralytics.nn.modules.conv.Conv             [3, 16, 3, 2]                 \n",
            "  1                  -1  1      4672  ultralytics.nn.modules.conv.Conv             [16, 32, 3, 2]                \n",
            "  2                  -1  1      7360  ultralytics.nn.modules.block.C2f             [32, 32, 1, True]             \n",
            "  3                  -1  1     18560  ultralytics.nn.modules.conv.Conv             [32, 64, 3, 2]                \n",
            "  4                  -1  2     49664  ultralytics.nn.modules.block.C2f             [64, 64, 2, True]             \n",
            "  5                  -1  1     73984  ultralytics.nn.modules.conv.Conv             [64, 128, 3, 2]               \n",
            "  6                  -1  2    197632  ultralytics.nn.modules.block.C2f             [128, 128, 2, True]           \n",
            "  7                  -1  1    295424  ultralytics.nn.modules.conv.Conv             [128, 256, 3, 2]              \n",
            "  8                  -1  1    460288  ultralytics.nn.modules.block.C2f             [256, 256, 1, True]           \n",
            "  9                  -1  1    164608  ultralytics.nn.modules.block.SPPF            [256, 256, 5]                 \n",
            " 10                  -1  1         0  torch.nn.modules.upsampling.Upsample         [None, 2, 'nearest']          \n",
            " 11             [-1, 6]  1         0  ultralytics.nn.modules.conv.Concat           [1]                           \n",
            " 12                  -1  1    148224  ultralytics.nn.modules.block.C2f             [384, 128, 1]                 \n",
            " 13                  -1  1         0  torch.nn.modules.upsampling.Upsample         [None, 2, 'nearest']          \n",
            " 14             [-1, 4]  1         0  ultralytics.nn.modules.conv.Concat           [1]                           \n",
            " 15                  -1  1     37248  ultralytics.nn.modules.block.C2f             [192, 64, 1]                  \n",
            " 16                  -1  1     36992  ultralytics.nn.modules.conv.Conv             [64, 64, 3, 2]                \n",
            " 17            [-1, 12]  1         0  ultralytics.nn.modules.conv.Concat           [1]                           \n",
            " 18                  -1  1    123648  ultralytics.nn.modules.block.C2f             [192, 128, 1]                 \n",
            " 19                  -1  1    147712  ultralytics.nn.modules.conv.Conv             [128, 128, 3, 2]              \n",
            " 20             [-1, 9]  1         0  ultralytics.nn.modules.conv.Concat           [1]                           \n",
            " 21                  -1  1    493056  ultralytics.nn.modules.block.C2f             [384, 256, 1]                 \n",
            " 22        [15, 18, 21]  1    751702  ultralytics.nn.modules.head.Detect           [2, [64, 128, 256]]           \n",
            "Model summary: 225 layers, 3011238 parameters, 3011222 gradients, 8.2 GFLOPs\n",
            "\n",
            "Transferred 319/355 items from pretrained weights\n",
            "\u001b[34m\u001b[1mTensorBoard: \u001b[0mStart with 'tensorboard --logdir runs/detect/train5', view at http://localhost:6006/\n",
            "Freezing layer 'model.22.dfl.conv.weight'\n",
            "\u001b[34m\u001b[1mAMP: \u001b[0mrunning Automatic Mixed Precision (AMP) checks with YOLOv8n...\n",
            "\u001b[34m\u001b[1mAMP: \u001b[0mchecks passed ✅\n"
          ]
        },
        {
          "output_type": "stream",
          "name": "stderr",
          "text": [
            "\u001b[34m\u001b[1mtrain: \u001b[0mScanning /content/drive/MyDrive/brain_tumor_tidy/coronal_t1wce_2_class/labels/train... 318 images, 0 backgrounds, 0 corrupt: 100%|██████████| 318/318 [06:11<00:00,  1.17s/it]\n"
          ]
        },
        {
          "output_type": "stream",
          "name": "stdout",
          "text": [
            "\u001b[34m\u001b[1mtrain: \u001b[0mNew cache created: /content/drive/MyDrive/brain_tumor_tidy/coronal_t1wce_2_class/labels/train.cache\n",
            "\u001b[34m\u001b[1malbumentations: \u001b[0mBlur(p=0.01, blur_limit=(3, 7)), MedianBlur(p=0.01, blur_limit=(3, 7)), ToGray(p=0.01), CLAHE(p=0.01, clip_limit=(1, 4.0), tile_grid_size=(8, 8))\n"
          ]
        },
        {
          "output_type": "stream",
          "name": "stderr",
          "text": [
            "/usr/lib/python3.10/multiprocessing/popen_fork.py:66: RuntimeWarning: os.fork() was called. os.fork() is incompatible with multithreaded code, and JAX is multithreaded, so this will likely lead to a deadlock.\n",
            "  self.pid = os.fork()\n",
            "\u001b[34m\u001b[1mval: \u001b[0mScanning /content/drive/MyDrive/brain_tumor_tidy/coronal_t1wce_2_class/labels/test... 78 images, 0 backgrounds, 0 corrupt: 100%|██████████| 78/78 [02:34<00:00,  1.98s/it]"
          ]
        },
        {
          "output_type": "stream",
          "name": "stdout",
          "text": [
            "\u001b[34m\u001b[1mval: \u001b[0mNew cache created: /content/drive/MyDrive/brain_tumor_tidy/coronal_t1wce_2_class/labels/test.cache\n"
          ]
        },
        {
          "output_type": "stream",
          "name": "stderr",
          "text": [
            "\n"
          ]
        },
        {
          "output_type": "stream",
          "name": "stdout",
          "text": [
            "Plotting labels to runs/detect/train5/labels.jpg... \n",
            "\u001b[34m\u001b[1moptimizer:\u001b[0m 'optimizer=auto' found, ignoring 'lr0=0.01' and 'momentum=0.937' and determining best 'optimizer', 'lr0' and 'momentum' automatically... \n",
            "\u001b[34m\u001b[1moptimizer:\u001b[0m AdamW(lr=0.001667, momentum=0.9) with parameter groups 57 weight(decay=0.0), 64 weight(decay=0.0005), 63 bias(decay=0.0)\n",
            "\u001b[34m\u001b[1mTensorBoard: \u001b[0mmodel graph visualization added ✅\n",
            "Image sizes 640 train, 640 val\n",
            "Using 2 dataloader workers\n",
            "Logging results to \u001b[1mruns/detect/train5\u001b[0m\n",
            "Starting training for 20 epochs...\n",
            "\n",
            "      Epoch    GPU_mem   box_loss   cls_loss   dfl_loss  Instances       Size\n"
          ]
        },
        {
          "output_type": "stream",
          "name": "stderr",
          "text": [
            "       1/20      2.54G       1.64       4.54      1.385         22        640: 100%|██████████| 20/20 [00:16<00:00,  1.21it/s]\n",
            "                 Class     Images  Instances      Box(P          R      mAP50  mAP50-95): 100%|██████████| 3/3 [00:02<00:00,  1.07it/s]"
          ]
        },
        {
          "output_type": "stream",
          "name": "stdout",
          "text": [
            "                   all         78         83   0.000496      0.139     0.0132    0.00697\n"
          ]
        },
        {
          "output_type": "stream",
          "name": "stderr",
          "text": [
            "\n"
          ]
        },
        {
          "output_type": "stream",
          "name": "stdout",
          "text": [
            "\n",
            "      Epoch    GPU_mem   box_loss   cls_loss   dfl_loss  Instances       Size\n"
          ]
        },
        {
          "output_type": "stream",
          "name": "stderr",
          "text": [
            "       2/20      2.31G      1.224      2.849       1.12         23        640: 100%|██████████| 20/20 [00:08<00:00,  2.50it/s]\n",
            "                 Class     Images  Instances      Box(P          R      mAP50  mAP50-95): 100%|██████████| 3/3 [00:02<00:00,  1.17it/s]"
          ]
        },
        {
          "output_type": "stream",
          "name": "stdout",
          "text": [
            "                   all         78         83    0.00133      0.379       0.14     0.0861\n"
          ]
        },
        {
          "output_type": "stream",
          "name": "stderr",
          "text": [
            "\n"
          ]
        },
        {
          "output_type": "stream",
          "name": "stdout",
          "text": [
            "\n",
            "      Epoch    GPU_mem   box_loss   cls_loss   dfl_loss  Instances       Size\n"
          ]
        },
        {
          "output_type": "stream",
          "name": "stderr",
          "text": [
            "       3/20      2.32G      1.158      2.476      1.079         27        640: 100%|██████████| 20/20 [00:06<00:00,  3.14it/s]\n",
            "                 Class     Images  Instances      Box(P          R      mAP50  mAP50-95): 100%|██████████| 3/3 [00:01<00:00,  2.84it/s]"
          ]
        },
        {
          "output_type": "stream",
          "name": "stdout",
          "text": [
            "                   all         78         83    0.00157      0.438      0.136     0.0836\n"
          ]
        },
        {
          "output_type": "stream",
          "name": "stderr",
          "text": [
            "\n"
          ]
        },
        {
          "output_type": "stream",
          "name": "stdout",
          "text": [
            "\n",
            "      Epoch    GPU_mem   box_loss   cls_loss   dfl_loss  Instances       Size\n"
          ]
        },
        {
          "output_type": "stream",
          "name": "stderr",
          "text": [
            "       4/20      2.32G      1.135      2.312      1.066         20        640: 100%|██████████| 20/20 [00:08<00:00,  2.37it/s]\n",
            "                 Class     Images  Instances      Box(P          R      mAP50  mAP50-95): 100%|██████████| 3/3 [00:02<00:00,  1.07it/s]"
          ]
        },
        {
          "output_type": "stream",
          "name": "stdout",
          "text": [
            "                   all         78         83      0.436      0.392      0.372      0.229\n"
          ]
        },
        {
          "output_type": "stream",
          "name": "stderr",
          "text": [
            "\n"
          ]
        },
        {
          "output_type": "stream",
          "name": "stdout",
          "text": [
            "\n",
            "      Epoch    GPU_mem   box_loss   cls_loss   dfl_loss  Instances       Size\n"
          ]
        },
        {
          "output_type": "stream",
          "name": "stderr",
          "text": [
            "       5/20      2.32G      1.166      2.292      1.104         22        640: 100%|██████████| 20/20 [00:06<00:00,  3.21it/s]\n",
            "                 Class     Images  Instances      Box(P          R      mAP50  mAP50-95): 100%|██████████| 3/3 [00:00<00:00,  3.10it/s]\n"
          ]
        },
        {
          "output_type": "stream",
          "name": "stdout",
          "text": [
            "                   all         78         83      0.499      0.534      0.451      0.296\n",
            "\n",
            "      Epoch    GPU_mem   box_loss   cls_loss   dfl_loss  Instances       Size\n"
          ]
        },
        {
          "output_type": "stream",
          "name": "stderr",
          "text": [
            "       6/20      2.32G      1.096      1.978      1.063         20        640: 100%|██████████| 20/20 [00:09<00:00,  2.07it/s]\n",
            "                 Class     Images  Instances      Box(P          R      mAP50  mAP50-95): 100%|██████████| 3/3 [00:00<00:00,  3.31it/s]\n"
          ]
        },
        {
          "output_type": "stream",
          "name": "stdout",
          "text": [
            "                   all         78         83      0.472      0.642      0.486      0.348\n",
            "\n",
            "      Epoch    GPU_mem   box_loss   cls_loss   dfl_loss  Instances       Size\n"
          ]
        },
        {
          "output_type": "stream",
          "name": "stderr",
          "text": [
            "       7/20      2.32G      1.119      1.967      1.072         24        640: 100%|██████████| 20/20 [00:06<00:00,  3.24it/s]\n",
            "                 Class     Images  Instances      Box(P          R      mAP50  mAP50-95): 100%|██████████| 3/3 [00:00<00:00,  3.41it/s]"
          ]
        },
        {
          "output_type": "stream",
          "name": "stdout",
          "text": [
            "                   all         78         83      0.449      0.743      0.443      0.302\n"
          ]
        },
        {
          "output_type": "stream",
          "name": "stderr",
          "text": [
            "\n"
          ]
        },
        {
          "output_type": "stream",
          "name": "stdout",
          "text": [
            "\n",
            "      Epoch    GPU_mem   box_loss   cls_loss   dfl_loss  Instances       Size\n"
          ]
        },
        {
          "output_type": "stream",
          "name": "stderr",
          "text": [
            "       8/20      2.32G      1.087      1.908      1.053         27        640: 100%|██████████| 20/20 [00:09<00:00,  2.00it/s]\n",
            "                 Class     Images  Instances      Box(P          R      mAP50  mAP50-95): 100%|██████████| 3/3 [00:00<00:00,  3.36it/s]"
          ]
        },
        {
          "output_type": "stream",
          "name": "stdout",
          "text": [
            "                   all         78         83      0.469      0.804      0.521      0.355\n"
          ]
        },
        {
          "output_type": "stream",
          "name": "stderr",
          "text": [
            "\n"
          ]
        },
        {
          "output_type": "stream",
          "name": "stdout",
          "text": [
            "\n",
            "      Epoch    GPU_mem   box_loss   cls_loss   dfl_loss  Instances       Size\n"
          ]
        },
        {
          "output_type": "stream",
          "name": "stderr",
          "text": [
            "       9/20      2.32G      1.023      1.753       1.05         24        640: 100%|██████████| 20/20 [00:06<00:00,  3.31it/s]\n",
            "                 Class     Images  Instances      Box(P          R      mAP50  mAP50-95): 100%|██████████| 3/3 [00:00<00:00,  3.97it/s]"
          ]
        },
        {
          "output_type": "stream",
          "name": "stdout",
          "text": [
            "                   all         78         83       0.46      0.779      0.511      0.368\n"
          ]
        },
        {
          "output_type": "stream",
          "name": "stderr",
          "text": [
            "\n"
          ]
        },
        {
          "output_type": "stream",
          "name": "stdout",
          "text": [
            "\n",
            "      Epoch    GPU_mem   box_loss   cls_loss   dfl_loss  Instances       Size\n"
          ]
        },
        {
          "output_type": "stream",
          "name": "stderr",
          "text": [
            "      10/20      2.32G     0.9925      1.659      1.026         20        640: 100%|██████████| 20/20 [00:09<00:00,  2.07it/s]\n",
            "                 Class     Images  Instances      Box(P          R      mAP50  mAP50-95): 100%|██████████| 3/3 [00:00<00:00,  3.70it/s]\n"
          ]
        },
        {
          "output_type": "stream",
          "name": "stdout",
          "text": [
            "                   all         78         83      0.458      0.849      0.555      0.383\n",
            "Closing dataloader mosaic\n",
            "\u001b[34m\u001b[1malbumentations: \u001b[0mBlur(p=0.01, blur_limit=(3, 7)), MedianBlur(p=0.01, blur_limit=(3, 7)), ToGray(p=0.01), CLAHE(p=0.01, clip_limit=(1, 4.0), tile_grid_size=(8, 8))\n"
          ]
        },
        {
          "output_type": "stream",
          "name": "stderr",
          "text": [
            "/usr/lib/python3.10/multiprocessing/popen_fork.py:66: RuntimeWarning: os.fork() was called. os.fork() is incompatible with multithreaded code, and JAX is multithreaded, so this will likely lead to a deadlock.\n",
            "  self.pid = os.fork()\n"
          ]
        },
        {
          "output_type": "stream",
          "name": "stdout",
          "text": [
            "\n",
            "      Epoch    GPU_mem   box_loss   cls_loss   dfl_loss  Instances       Size\n"
          ]
        },
        {
          "output_type": "stream",
          "name": "stderr",
          "text": [
            "      11/20      2.49G     0.9069      1.677     0.9998         15        640: 100%|██████████| 20/20 [00:09<00:00,  2.20it/s]\n",
            "                 Class     Images  Instances      Box(P          R      mAP50  mAP50-95): 100%|██████████| 3/3 [00:01<00:00,  1.56it/s]"
          ]
        },
        {
          "output_type": "stream",
          "name": "stdout",
          "text": [
            "                   all         78         83      0.509      0.729      0.547      0.381\n"
          ]
        },
        {
          "output_type": "stream",
          "name": "stderr",
          "text": [
            "\n"
          ]
        },
        {
          "output_type": "stream",
          "name": "stdout",
          "text": [
            "\n",
            "      Epoch    GPU_mem   box_loss   cls_loss   dfl_loss  Instances       Size\n"
          ]
        },
        {
          "output_type": "stream",
          "name": "stderr",
          "text": [
            "      12/20      2.32G     0.9367      1.598      1.017         14        640: 100%|██████████| 20/20 [00:07<00:00,  2.56it/s]\n",
            "                 Class     Images  Instances      Box(P          R      mAP50  mAP50-95): 100%|██████████| 3/3 [00:00<00:00,  3.78it/s]\n"
          ]
        },
        {
          "output_type": "stream",
          "name": "stdout",
          "text": [
            "                   all         78         83       0.49      0.874      0.555      0.387\n",
            "\n",
            "      Epoch    GPU_mem   box_loss   cls_loss   dfl_loss  Instances       Size\n"
          ]
        },
        {
          "output_type": "stream",
          "name": "stderr",
          "text": [
            "      13/20      2.32G     0.9098      1.517     0.9834         14        640: 100%|██████████| 20/20 [00:06<00:00,  3.19it/s]\n",
            "                 Class     Images  Instances      Box(P          R      mAP50  mAP50-95): 100%|██████████| 3/3 [00:01<00:00,  2.09it/s]"
          ]
        },
        {
          "output_type": "stream",
          "name": "stdout",
          "text": [
            "                   all         78         83      0.465      0.858       0.54      0.395\n"
          ]
        },
        {
          "output_type": "stream",
          "name": "stderr",
          "text": [
            "\n"
          ]
        },
        {
          "output_type": "stream",
          "name": "stdout",
          "text": [
            "\n",
            "      Epoch    GPU_mem   box_loss   cls_loss   dfl_loss  Instances       Size\n"
          ]
        },
        {
          "output_type": "stream",
          "name": "stderr",
          "text": [
            "      14/20      2.32G      0.905       1.44     0.9894         16        640: 100%|██████████| 20/20 [00:07<00:00,  2.54it/s]\n",
            "                 Class     Images  Instances      Box(P          R      mAP50  mAP50-95): 100%|██████████| 3/3 [00:00<00:00,  4.18it/s]\n"
          ]
        },
        {
          "output_type": "stream",
          "name": "stdout",
          "text": [
            "                   all         78         83      0.476      0.848      0.528      0.383\n",
            "\n",
            "      Epoch    GPU_mem   box_loss   cls_loss   dfl_loss  Instances       Size\n"
          ]
        },
        {
          "output_type": "stream",
          "name": "stderr",
          "text": [
            "      15/20      2.32G     0.8571      1.372     0.9441         14        640: 100%|██████████| 20/20 [00:06<00:00,  3.22it/s]\n",
            "                 Class     Images  Instances      Box(P          R      mAP50  mAP50-95): 100%|██████████| 3/3 [00:01<00:00,  1.75it/s]"
          ]
        },
        {
          "output_type": "stream",
          "name": "stdout",
          "text": [
            "                   all         78         83      0.463      0.871      0.565      0.413\n"
          ]
        },
        {
          "output_type": "stream",
          "name": "stderr",
          "text": [
            "\n"
          ]
        },
        {
          "output_type": "stream",
          "name": "stdout",
          "text": [
            "\n",
            "      Epoch    GPU_mem   box_loss   cls_loss   dfl_loss  Instances       Size\n"
          ]
        },
        {
          "output_type": "stream",
          "name": "stderr",
          "text": [
            "      16/20      2.32G     0.8457      1.306      0.957         13        640: 100%|██████████| 20/20 [00:08<00:00,  2.42it/s]\n",
            "                 Class     Images  Instances      Box(P          R      mAP50  mAP50-95): 100%|██████████| 3/3 [00:00<00:00,  3.68it/s]"
          ]
        },
        {
          "output_type": "stream",
          "name": "stdout",
          "text": [
            "                   all         78         83       0.48      0.877      0.562      0.411\n"
          ]
        },
        {
          "output_type": "stream",
          "name": "stderr",
          "text": [
            "\n"
          ]
        },
        {
          "output_type": "stream",
          "name": "stdout",
          "text": [
            "\n",
            "      Epoch    GPU_mem   box_loss   cls_loss   dfl_loss  Instances       Size\n"
          ]
        },
        {
          "output_type": "stream",
          "name": "stderr",
          "text": [
            "      17/20      2.32G     0.8388      1.225     0.9676         14        640: 100%|██████████| 20/20 [00:06<00:00,  3.29it/s]\n",
            "                 Class     Images  Instances      Box(P          R      mAP50  mAP50-95): 100%|██████████| 3/3 [00:01<00:00,  1.86it/s]"
          ]
        },
        {
          "output_type": "stream",
          "name": "stdout",
          "text": [
            "                   all         78         83      0.462      0.895       0.59      0.435\n"
          ]
        },
        {
          "output_type": "stream",
          "name": "stderr",
          "text": [
            "\n"
          ]
        },
        {
          "output_type": "stream",
          "name": "stdout",
          "text": [
            "\n",
            "      Epoch    GPU_mem   box_loss   cls_loss   dfl_loss  Instances       Size\n"
          ]
        },
        {
          "output_type": "stream",
          "name": "stderr",
          "text": [
            "      18/20      2.32G     0.8059       1.18     0.9377         15        640: 100%|██████████| 20/20 [00:10<00:00,  1.92it/s]\n",
            "                 Class     Images  Instances      Box(P          R      mAP50  mAP50-95): 100%|██████████| 3/3 [00:01<00:00,  2.25it/s]\n"
          ]
        },
        {
          "output_type": "stream",
          "name": "stdout",
          "text": [
            "                   all         78         83      0.445      0.829      0.561      0.412\n",
            "\n",
            "      Epoch    GPU_mem   box_loss   cls_loss   dfl_loss  Instances       Size\n"
          ]
        },
        {
          "output_type": "stream",
          "name": "stderr",
          "text": [
            "      19/20      2.32G     0.7724      1.161     0.9227         15        640: 100%|██████████| 20/20 [00:05<00:00,  3.53it/s]\n",
            "                 Class     Images  Instances      Box(P          R      mAP50  mAP50-95): 100%|██████████| 3/3 [00:00<00:00,  3.90it/s]"
          ]
        },
        {
          "output_type": "stream",
          "name": "stdout",
          "text": [
            "                   all         78         83      0.524      0.642      0.566      0.414\n"
          ]
        },
        {
          "output_type": "stream",
          "name": "stderr",
          "text": [
            "\n"
          ]
        },
        {
          "output_type": "stream",
          "name": "stdout",
          "text": [
            "\n",
            "      Epoch    GPU_mem   box_loss   cls_loss   dfl_loss  Instances       Size\n"
          ]
        },
        {
          "output_type": "stream",
          "name": "stderr",
          "text": [
            "      20/20      2.32G     0.7603      1.074     0.9298         14        640: 100%|██████████| 20/20 [00:08<00:00,  2.22it/s]\n",
            "                 Class     Images  Instances      Box(P          R      mAP50  mAP50-95): 100%|██████████| 3/3 [00:00<00:00,  4.05it/s]\n"
          ]
        },
        {
          "output_type": "stream",
          "name": "stdout",
          "text": [
            "                   all         78         83      0.469      0.691      0.558      0.401\n",
            "\n",
            "20 epochs completed in 0.062 hours.\n",
            "Optimizer stripped from runs/detect/train5/weights/last.pt, 6.2MB\n",
            "Optimizer stripped from runs/detect/train5/weights/best.pt, 6.2MB\n",
            "\n",
            "Validating runs/detect/train5/weights/best.pt...\n",
            "Ultralytics YOLOv8.2.11 🚀 Python-3.10.12 torch-2.2.1+cu121 CUDA:0 (Tesla T4, 15102MiB)\n",
            "Model summary (fused): 168 layers, 3006038 parameters, 0 gradients, 8.1 GFLOPs\n"
          ]
        },
        {
          "output_type": "stream",
          "name": "stderr",
          "text": [
            "                 Class     Images  Instances      Box(P          R      mAP50  mAP50-95): 100%|██████████| 3/3 [00:01<00:00,  2.11it/s]\n"
          ]
        },
        {
          "output_type": "stream",
          "name": "stdout",
          "text": [
            "                   all         78         83      0.462      0.895      0.589      0.434\n",
            "              negative         78         34      0.378      0.912      0.552      0.437\n",
            "              positive         78         49      0.546      0.878      0.625      0.432\n",
            "Speed: 0.3ms preprocess, 3.2ms inference, 0.0ms loss, 3.6ms postprocess per image\n",
            "Results saved to \u001b[1mruns/detect/train5\u001b[0m\n"
          ]
        }
      ]
    },
    {
      "cell_type": "markdown",
      "source": [
        "### Inference"
      ],
      "metadata": {
        "id": "re5l7NCJ7NH0"
      }
    },
    {
      "cell_type": "code",
      "source": [
        "predict_results(\"/content/drive/MyDrive/brain_tumor_tidy/coronal_t1wce_2_class/images/test\")"
      ],
      "metadata": {
        "colab": {
          "base_uri": "https://localhost:8080/"
        },
        "id": "HzKgB60iyf2s",
        "outputId": "afd23c4e-ea6f-48b0-9c06-059386715146"
      },
      "execution_count": null,
      "outputs": [
        {
          "output_type": "stream",
          "name": "stdout",
          "text": [
            "\n",
            "image 1/1 /content/drive/MyDrive/brain_tumor_tidy/coronal_t1wce_2_class/images/test/15.jpg: 320x320 1 negative, 1 positive, 22.0ms\n",
            "Speed: 1.1ms preprocess, 22.0ms inference, 2.7ms postprocess per image at shape (1, 3, 320, 320)\n",
            "Results saved to \u001b[1mruns/detect/predict3\u001b[0m\n",
            "\n",
            "image 1/1 /content/drive/MyDrive/brain_tumor_tidy/coronal_t1wce_2_class/images/test/60 (11).jpg: 320x320 1 positive, 21.4ms\n",
            "Speed: 3.8ms preprocess, 21.4ms inference, 1.7ms postprocess per image at shape (1, 3, 320, 320)\n",
            "Results saved to \u001b[1mruns/detect/predict3\u001b[0m\n",
            "\n",
            "image 1/1 /content/drive/MyDrive/brain_tumor_tidy/coronal_t1wce_2_class/images/test/58 (2).jpg: 320x320 1 positive, 23.0ms\n",
            "Speed: 2.3ms preprocess, 23.0ms inference, 1.8ms postprocess per image at shape (1, 3, 320, 320)\n",
            "Results saved to \u001b[1mruns/detect/predict3\u001b[0m\n",
            "\n",
            "image 1/1 /content/drive/MyDrive/brain_tumor_tidy/coronal_t1wce_2_class/images/test/46 (3).jpg: 320x320 1 positive, 21.7ms\n",
            "Speed: 1.5ms preprocess, 21.7ms inference, 2.1ms postprocess per image at shape (1, 3, 320, 320)\n",
            "Results saved to \u001b[1mruns/detect/predict3\u001b[0m\n",
            "\n",
            "image 1/1 /content/drive/MyDrive/brain_tumor_tidy/coronal_t1wce_2_class/images/test/19.jpg: 320x320 1 negative, 1 positive, 13.3ms\n",
            "Speed: 1.2ms preprocess, 13.3ms inference, 2.1ms postprocess per image at shape (1, 3, 320, 320)\n",
            "Results saved to \u001b[1mruns/detect/predict3\u001b[0m\n",
            "\n",
            "image 1/1 /content/drive/MyDrive/brain_tumor_tidy/coronal_t1wce_2_class/images/test/17.jpg: 320x320 1 negative, 1 positive, 18.3ms\n",
            "Speed: 1.2ms preprocess, 18.3ms inference, 5.0ms postprocess per image at shape (1, 3, 320, 320)\n",
            "Results saved to \u001b[1mruns/detect/predict3\u001b[0m\n",
            "\n",
            "image 1/1 /content/drive/MyDrive/brain_tumor_tidy/coronal_t1wce_2_class/images/test/51.jpg: 320x320 (no detections), 15.7ms\n",
            "Speed: 1.3ms preprocess, 15.7ms inference, 0.9ms postprocess per image at shape (1, 3, 320, 320)\n",
            "Results saved to \u001b[1mruns/detect/predict3\u001b[0m\n",
            "\n",
            "image 1/1 /content/drive/MyDrive/brain_tumor_tidy/coronal_t1wce_2_class/images/test/58 (6).jpg: 320x320 (no detections), 11.8ms\n",
            "Speed: 1.0ms preprocess, 11.8ms inference, 0.9ms postprocess per image at shape (1, 3, 320, 320)\n",
            "Results saved to \u001b[1mruns/detect/predict3\u001b[0m\n",
            "\n",
            "image 1/1 /content/drive/MyDrive/brain_tumor_tidy/coronal_t1wce_2_class/images/test/52.jpg: 320x320 1 negative, 1 positive, 16.2ms\n",
            "Speed: 1.3ms preprocess, 16.2ms inference, 1.6ms postprocess per image at shape (1, 3, 320, 320)\n",
            "Results saved to \u001b[1mruns/detect/predict3\u001b[0m\n",
            "\n",
            "image 1/1 /content/drive/MyDrive/brain_tumor_tidy/coronal_t1wce_2_class/images/test/53 (3).jpg: 320x320 1 negative, 1 positive, 17.5ms\n",
            "Speed: 1.5ms preprocess, 17.5ms inference, 2.2ms postprocess per image at shape (1, 3, 320, 320)\n",
            "Results saved to \u001b[1mruns/detect/predict3\u001b[0m\n",
            "\n",
            "image 1/1 /content/drive/MyDrive/brain_tumor_tidy/coronal_t1wce_2_class/images/test/55 (2).jpg: 320x320 1 positive, 10.9ms\n",
            "Speed: 1.3ms preprocess, 10.9ms inference, 1.7ms postprocess per image at shape (1, 3, 320, 320)\n",
            "Results saved to \u001b[1mruns/detect/predict3\u001b[0m\n",
            "\n",
            "image 1/1 /content/drive/MyDrive/brain_tumor_tidy/coronal_t1wce_2_class/images/test/47.jpg: 320x320 1 negative, 1 positive, 10.9ms\n",
            "Speed: 1.4ms preprocess, 10.9ms inference, 1.9ms postprocess per image at shape (1, 3, 320, 320)\n",
            "Results saved to \u001b[1mruns/detect/predict3\u001b[0m\n",
            "\n",
            "image 1/1 /content/drive/MyDrive/brain_tumor_tidy/coronal_t1wce_2_class/images/test/34.jpg: 320x320 1 positive, 10.1ms\n",
            "Speed: 1.3ms preprocess, 10.1ms inference, 1.6ms postprocess per image at shape (1, 3, 320, 320)\n",
            "Results saved to \u001b[1mruns/detect/predict3\u001b[0m\n",
            "\n",
            "image 1/1 /content/drive/MyDrive/brain_tumor_tidy/coronal_t1wce_2_class/images/test/57 (3).jpg: 320x320 1 positive, 10.9ms\n",
            "Speed: 1.3ms preprocess, 10.9ms inference, 1.8ms postprocess per image at shape (1, 3, 320, 320)\n",
            "Results saved to \u001b[1mruns/detect/predict3\u001b[0m\n",
            "\n",
            "image 1/1 /content/drive/MyDrive/brain_tumor_tidy/coronal_t1wce_2_class/images/test/57 (4).jpg: 320x320 (no detections), 14.7ms\n",
            "Speed: 4.1ms preprocess, 14.7ms inference, 0.8ms postprocess per image at shape (1, 3, 320, 320)\n",
            "Results saved to \u001b[1mruns/detect/predict3\u001b[0m\n",
            "\n",
            "image 1/1 /content/drive/MyDrive/brain_tumor_tidy/coronal_t1wce_2_class/images/test/57.jpg: 320x320 1 positive, 14.8ms\n",
            "Speed: 1.4ms preprocess, 14.8ms inference, 1.7ms postprocess per image at shape (1, 3, 320, 320)\n",
            "Results saved to \u001b[1mruns/detect/predict3\u001b[0m\n",
            "\n",
            "image 1/1 /content/drive/MyDrive/brain_tumor_tidy/coronal_t1wce_2_class/images/test/54.jpg: 320x320 1 negative, 11.2ms\n",
            "Speed: 1.5ms preprocess, 11.2ms inference, 1.7ms postprocess per image at shape (1, 3, 320, 320)\n",
            "Results saved to \u001b[1mruns/detect/predict3\u001b[0m\n",
            "\n",
            "image 1/1 /content/drive/MyDrive/brain_tumor_tidy/coronal_t1wce_2_class/images/test/33.jpg: 320x320 1 negative, 1 positive, 12.9ms\n",
            "Speed: 1.3ms preprocess, 12.9ms inference, 1.7ms postprocess per image at shape (1, 3, 320, 320)\n",
            "Results saved to \u001b[1mruns/detect/predict3\u001b[0m\n",
            "\n",
            "image 1/1 /content/drive/MyDrive/brain_tumor_tidy/coronal_t1wce_2_class/images/test/57 (2).jpg: 320x320 (no detections), 10.3ms\n",
            "Speed: 1.2ms preprocess, 10.3ms inference, 0.7ms postprocess per image at shape (1, 3, 320, 320)\n",
            "Results saved to \u001b[1mruns/detect/predict3\u001b[0m\n",
            "\n",
            "image 1/1 /content/drive/MyDrive/brain_tumor_tidy/coronal_t1wce_2_class/images/test/20.jpg: 320x320 1 positive, 11.6ms\n",
            "Speed: 1.4ms preprocess, 11.6ms inference, 1.9ms postprocess per image at shape (1, 3, 320, 320)\n",
            "Results saved to \u001b[1mruns/detect/predict3\u001b[0m\n",
            "\n",
            "image 1/1 /content/drive/MyDrive/brain_tumor_tidy/coronal_t1wce_2_class/images/test/54 (4).jpg: 320x320 1 positive, 11.7ms\n",
            "Speed: 1.4ms preprocess, 11.7ms inference, 1.8ms postprocess per image at shape (1, 3, 320, 320)\n",
            "Results saved to \u001b[1mruns/detect/predict3\u001b[0m\n",
            "\n",
            "image 1/1 /content/drive/MyDrive/brain_tumor_tidy/coronal_t1wce_2_class/images/test/23.jpg: 320x320 1 positive, 13.9ms\n",
            "Speed: 1.2ms preprocess, 13.9ms inference, 1.8ms postprocess per image at shape (1, 3, 320, 320)\n",
            "Results saved to \u001b[1mruns/detect/predict3\u001b[0m\n",
            "\n",
            "image 1/1 /content/drive/MyDrive/brain_tumor_tidy/coronal_t1wce_2_class/images/test/13.jpg: 320x320 1 positive, 14.0ms\n",
            "Speed: 1.2ms preprocess, 14.0ms inference, 4.1ms postprocess per image at shape (1, 3, 320, 320)\n",
            "Results saved to \u001b[1mruns/detect/predict3\u001b[0m\n",
            "\n",
            "image 1/1 /content/drive/MyDrive/brain_tumor_tidy/coronal_t1wce_2_class/images/test/42.jpg: 320x320 1 positive, 11.0ms\n",
            "Speed: 1.4ms preprocess, 11.0ms inference, 1.7ms postprocess per image at shape (1, 3, 320, 320)\n",
            "Results saved to \u001b[1mruns/detect/predict3\u001b[0m\n",
            "\n",
            "image 1/1 /content/drive/MyDrive/brain_tumor_tidy/coronal_t1wce_2_class/images/test/58 (4).jpg: 320x320 1 positive, 11.5ms\n",
            "Speed: 1.4ms preprocess, 11.5ms inference, 1.9ms postprocess per image at shape (1, 3, 320, 320)\n",
            "Results saved to \u001b[1mruns/detect/predict3\u001b[0m\n",
            "\n",
            "image 1/1 /content/drive/MyDrive/brain_tumor_tidy/coronal_t1wce_2_class/images/test/53.jpg: 320x320 1 negative, 1 positive, 10.1ms\n",
            "Speed: 1.3ms preprocess, 10.1ms inference, 1.7ms postprocess per image at shape (1, 3, 320, 320)\n",
            "Results saved to \u001b[1mruns/detect/predict3\u001b[0m\n",
            "\n",
            "image 1/1 /content/drive/MyDrive/brain_tumor_tidy/coronal_t1wce_2_class/images/test/48 (2).jpg: 320x320 (no detections), 12.2ms\n",
            "Speed: 1.5ms preprocess, 12.2ms inference, 1.0ms postprocess per image at shape (1, 3, 320, 320)\n",
            "Results saved to \u001b[1mruns/detect/predict3\u001b[0m\n",
            "\n",
            "image 1/1 /content/drive/MyDrive/brain_tumor_tidy/coronal_t1wce_2_class/images/test/54 (3).jpg: 320x320 1 positive, 11.4ms\n",
            "Speed: 1.7ms preprocess, 11.4ms inference, 1.8ms postprocess per image at shape (1, 3, 320, 320)\n",
            "Results saved to \u001b[1mruns/detect/predict3\u001b[0m\n",
            "\n",
            "image 1/1 /content/drive/MyDrive/brain_tumor_tidy/coronal_t1wce_2_class/images/test/53 (4).jpg: 320x320 (no detections), 13.0ms\n",
            "Speed: 1.3ms preprocess, 13.0ms inference, 0.9ms postprocess per image at shape (1, 3, 320, 320)\n",
            "Results saved to \u001b[1mruns/detect/predict3\u001b[0m\n",
            "\n",
            "image 1/1 /content/drive/MyDrive/brain_tumor_tidy/coronal_t1wce_2_class/images/test/38.jpg: 320x320 1 negative, 13.4ms\n",
            "Speed: 1.6ms preprocess, 13.4ms inference, 1.8ms postprocess per image at shape (1, 3, 320, 320)\n",
            "Results saved to \u001b[1mruns/detect/predict3\u001b[0m\n",
            "\n",
            "image 1/1 /content/drive/MyDrive/brain_tumor_tidy/coronal_t1wce_2_class/images/test/54 (2).jpg: 320x320 1 positive, 10.5ms\n",
            "Speed: 1.3ms preprocess, 10.5ms inference, 1.7ms postprocess per image at shape (1, 3, 320, 320)\n",
            "Results saved to \u001b[1mruns/detect/predict3\u001b[0m\n",
            "\n",
            "image 1/1 /content/drive/MyDrive/brain_tumor_tidy/coronal_t1wce_2_class/images/test/59 (8).jpg: 320x320 1 positive, 10.6ms\n",
            "Speed: 1.3ms preprocess, 10.6ms inference, 1.6ms postprocess per image at shape (1, 3, 320, 320)\n",
            "Results saved to \u001b[1mruns/detect/predict3\u001b[0m\n",
            "\n",
            "image 1/1 /content/drive/MyDrive/brain_tumor_tidy/coronal_t1wce_2_class/images/test/58.jpg: 320x320 1 positive, 11.0ms\n",
            "Speed: 1.4ms preprocess, 11.0ms inference, 1.8ms postprocess per image at shape (1, 3, 320, 320)\n",
            "Results saved to \u001b[1mruns/detect/predict3\u001b[0m\n",
            "\n",
            "image 1/1 /content/drive/MyDrive/brain_tumor_tidy/coronal_t1wce_2_class/images/test/35.jpg: 320x320 1 positive, 10.9ms\n",
            "Speed: 1.4ms preprocess, 10.9ms inference, 1.7ms postprocess per image at shape (1, 3, 320, 320)\n",
            "Results saved to \u001b[1mruns/detect/predict3\u001b[0m\n",
            "\n",
            "image 1/1 /content/drive/MyDrive/brain_tumor_tidy/coronal_t1wce_2_class/images/test/60 (2).jpg: 320x320 1 negative, 1 positive, 10.9ms\n",
            "Speed: 1.4ms preprocess, 10.9ms inference, 3.6ms postprocess per image at shape (1, 3, 320, 320)\n",
            "Results saved to \u001b[1mruns/detect/predict3\u001b[0m\n",
            "\n",
            "image 1/1 /content/drive/MyDrive/brain_tumor_tidy/coronal_t1wce_2_class/images/test/48 (4).jpg: 320x320 2 positives, 10.7ms\n",
            "Speed: 1.3ms preprocess, 10.7ms inference, 1.8ms postprocess per image at shape (1, 3, 320, 320)\n",
            "Results saved to \u001b[1mruns/detect/predict3\u001b[0m\n",
            "\n",
            "image 1/1 /content/drive/MyDrive/brain_tumor_tidy/coronal_t1wce_2_class/images/test/59 (5).jpg: 320x320 1 positive, 10.6ms\n",
            "Speed: 1.3ms preprocess, 10.6ms inference, 1.8ms postprocess per image at shape (1, 3, 320, 320)\n",
            "Results saved to \u001b[1mruns/detect/predict3\u001b[0m\n",
            "\n",
            "image 1/1 /content/drive/MyDrive/brain_tumor_tidy/coronal_t1wce_2_class/images/test/46 (2).jpg: 320x320 1 negative, 1 positive, 16.4ms\n",
            "Speed: 1.5ms preprocess, 16.4ms inference, 2.1ms postprocess per image at shape (1, 3, 320, 320)\n",
            "Results saved to \u001b[1mruns/detect/predict3\u001b[0m\n",
            "\n",
            "image 1/1 /content/drive/MyDrive/brain_tumor_tidy/coronal_t1wce_2_class/images/test/50.jpg: 320x320 1 positive, 17.2ms\n",
            "Speed: 1.5ms preprocess, 17.2ms inference, 2.1ms postprocess per image at shape (1, 3, 320, 320)\n",
            "Results saved to \u001b[1mruns/detect/predict3\u001b[0m\n",
            "\n",
            "image 1/1 /content/drive/MyDrive/brain_tumor_tidy/coronal_t1wce_2_class/images/test/50 (2).jpg: 320x320 1 negative, 1 positive, 12.9ms\n",
            "Speed: 1.8ms preprocess, 12.9ms inference, 2.1ms postprocess per image at shape (1, 3, 320, 320)\n",
            "Results saved to \u001b[1mruns/detect/predict3\u001b[0m\n",
            "\n",
            "image 1/1 /content/drive/MyDrive/brain_tumor_tidy/coronal_t1wce_2_class/images/test/45.jpg: 320x320 1 negative, 1 positive, 18.0ms\n",
            "Speed: 2.7ms preprocess, 18.0ms inference, 2.1ms postprocess per image at shape (1, 3, 320, 320)\n",
            "Results saved to \u001b[1mruns/detect/predict3\u001b[0m\n",
            "\n",
            "image 1/1 /content/drive/MyDrive/brain_tumor_tidy/coronal_t1wce_2_class/images/test/59 (4).jpg: 320x320 1 negative, 1 positive, 11.8ms\n",
            "Speed: 1.4ms preprocess, 11.8ms inference, 1.9ms postprocess per image at shape (1, 3, 320, 320)\n",
            "Results saved to \u001b[1mruns/detect/predict3\u001b[0m\n",
            "\n",
            "image 1/1 /content/drive/MyDrive/brain_tumor_tidy/coronal_t1wce_2_class/images/test/54 (5).jpg: 320x320 1 positive, 13.1ms\n",
            "Speed: 1.4ms preprocess, 13.1ms inference, 1.9ms postprocess per image at shape (1, 3, 320, 320)\n",
            "Results saved to \u001b[1mruns/detect/predict3\u001b[0m\n",
            "\n",
            "image 1/1 /content/drive/MyDrive/brain_tumor_tidy/coronal_t1wce_2_class/images/test/58 (5).jpg: 320x320 (no detections), 14.5ms\n",
            "Speed: 1.7ms preprocess, 14.5ms inference, 0.8ms postprocess per image at shape (1, 3, 320, 320)\n",
            "Results saved to \u001b[1mruns/detect/predict3\u001b[0m\n",
            "\n",
            "image 1/1 /content/drive/MyDrive/brain_tumor_tidy/coronal_t1wce_2_class/images/test/60 (3).jpg: 320x320 1 negative, 1 positive, 19.3ms\n",
            "Speed: 1.4ms preprocess, 19.3ms inference, 2.1ms postprocess per image at shape (1, 3, 320, 320)\n",
            "Results saved to \u001b[1mruns/detect/predict3\u001b[0m\n",
            "\n",
            "image 1/1 /content/drive/MyDrive/brain_tumor_tidy/coronal_t1wce_2_class/images/test/50 (3).jpg: 320x320 1 negative, 2 positives, 17.5ms\n",
            "Speed: 1.4ms preprocess, 17.5ms inference, 2.1ms postprocess per image at shape (1, 3, 320, 320)\n",
            "Results saved to \u001b[1mruns/detect/predict3\u001b[0m\n",
            "\n",
            "image 1/1 /content/drive/MyDrive/brain_tumor_tidy/coronal_t1wce_2_class/images/test/59 (3).jpg: 320x320 1 positive, 15.9ms\n",
            "Speed: 1.4ms preprocess, 15.9ms inference, 1.7ms postprocess per image at shape (1, 3, 320, 320)\n",
            "Results saved to \u001b[1mruns/detect/predict3\u001b[0m\n",
            "\n",
            "image 1/1 /content/drive/MyDrive/brain_tumor_tidy/coronal_t1wce_2_class/images/test/55 (5).jpg: 320x320 (no detections), 12.6ms\n",
            "Speed: 1.5ms preprocess, 12.6ms inference, 0.8ms postprocess per image at shape (1, 3, 320, 320)\n",
            "Results saved to \u001b[1mruns/detect/predict3\u001b[0m\n",
            "\n",
            "image 1/1 /content/drive/MyDrive/brain_tumor_tidy/coronal_t1wce_2_class/images/test/53 (2).jpg: 320x320 1 negative, 1 positive, 15.0ms\n",
            "Speed: 1.5ms preprocess, 15.0ms inference, 5.0ms postprocess per image at shape (1, 3, 320, 320)\n",
            "Results saved to \u001b[1mruns/detect/predict3\u001b[0m\n",
            "\n",
            "image 1/1 /content/drive/MyDrive/brain_tumor_tidy/coronal_t1wce_2_class/images/test/48 (3).jpg: 320x320 1 negative, 2 positives, 14.9ms\n",
            "Speed: 1.6ms preprocess, 14.9ms inference, 1.7ms postprocess per image at shape (1, 3, 320, 320)\n",
            "Results saved to \u001b[1mruns/detect/predict3\u001b[0m\n",
            "\n",
            "image 1/1 /content/drive/MyDrive/brain_tumor_tidy/coronal_t1wce_2_class/images/test/44.jpg: 320x320 1 negative, 15.3ms\n",
            "Speed: 1.6ms preprocess, 15.3ms inference, 2.2ms postprocess per image at shape (1, 3, 320, 320)\n",
            "Results saved to \u001b[1mruns/detect/predict3\u001b[0m\n",
            "\n",
            "image 1/1 /content/drive/MyDrive/brain_tumor_tidy/coronal_t1wce_2_class/images/test/50 (4).jpg: 320x320 1 negative, 1 positive, 20.6ms\n",
            "Speed: 3.6ms preprocess, 20.6ms inference, 2.2ms postprocess per image at shape (1, 3, 320, 320)\n",
            "Results saved to \u001b[1mruns/detect/predict3\u001b[0m\n",
            "\n",
            "image 1/1 /content/drive/MyDrive/brain_tumor_tidy/coronal_t1wce_2_class/images/test/59 (7).jpg: 320x320 1 positive, 13.4ms\n",
            "Speed: 1.5ms preprocess, 13.4ms inference, 2.0ms postprocess per image at shape (1, 3, 320, 320)\n",
            "Results saved to \u001b[1mruns/detect/predict3\u001b[0m\n",
            "\n",
            "image 1/1 /content/drive/MyDrive/brain_tumor_tidy/coronal_t1wce_2_class/images/test/55.jpg: 320x320 1 positive, 12.3ms\n",
            "Speed: 1.6ms preprocess, 12.3ms inference, 1.9ms postprocess per image at shape (1, 3, 320, 320)\n",
            "Results saved to \u001b[1mruns/detect/predict3\u001b[0m\n",
            "\n",
            "image 1/1 /content/drive/MyDrive/brain_tumor_tidy/coronal_t1wce_2_class/images/test/46.jpg: 320x320 (no detections), 13.1ms\n",
            "Speed: 1.2ms preprocess, 13.1ms inference, 0.8ms postprocess per image at shape (1, 3, 320, 320)\n",
            "Results saved to \u001b[1mruns/detect/predict3\u001b[0m\n",
            "\n",
            "image 1/1 /content/drive/MyDrive/brain_tumor_tidy/coronal_t1wce_2_class/images/test/59 (6).jpg: 320x320 (no detections), 11.7ms\n",
            "Speed: 1.3ms preprocess, 11.7ms inference, 0.8ms postprocess per image at shape (1, 3, 320, 320)\n",
            "Results saved to \u001b[1mruns/detect/predict3\u001b[0m\n",
            "\n",
            "image 1/1 /content/drive/MyDrive/brain_tumor_tidy/coronal_t1wce_2_class/images/test/40.jpg: 320x320 1 negative, 1 positive, 11.5ms\n",
            "Speed: 1.3ms preprocess, 11.5ms inference, 2.0ms postprocess per image at shape (1, 3, 320, 320)\n",
            "Results saved to \u001b[1mruns/detect/predict3\u001b[0m\n",
            "\n",
            "image 1/1 /content/drive/MyDrive/brain_tumor_tidy/coronal_t1wce_2_class/images/test/48.jpg: 320x320 1 positive, 12.8ms\n",
            "Speed: 1.3ms preprocess, 12.8ms inference, 1.8ms postprocess per image at shape (1, 3, 320, 320)\n",
            "Results saved to \u001b[1mruns/detect/predict3\u001b[0m\n",
            "\n",
            "image 1/1 /content/drive/MyDrive/brain_tumor_tidy/coronal_t1wce_2_class/images/test/41.jpg: 320x320 1 negative, 13.8ms\n",
            "Speed: 1.3ms preprocess, 13.8ms inference, 1.9ms postprocess per image at shape (1, 3, 320, 320)\n",
            "Results saved to \u001b[1mruns/detect/predict3\u001b[0m\n",
            "\n",
            "image 1/1 /content/drive/MyDrive/brain_tumor_tidy/coronal_t1wce_2_class/images/test/60 (10).jpg: 320x320 1 positive, 12.7ms\n",
            "Speed: 1.4ms preprocess, 12.7ms inference, 1.8ms postprocess per image at shape (1, 3, 320, 320)\n",
            "Results saved to \u001b[1mruns/detect/predict3\u001b[0m\n",
            "\n",
            "image 1/1 /content/drive/MyDrive/brain_tumor_tidy/coronal_t1wce_2_class/images/test/56 (2).jpg: 320x320 1 negative, 1 positive, 12.8ms\n",
            "Speed: 1.3ms preprocess, 12.8ms inference, 1.8ms postprocess per image at shape (1, 3, 320, 320)\n",
            "Results saved to \u001b[1mruns/detect/predict3\u001b[0m\n",
            "\n",
            "image 1/1 /content/drive/MyDrive/brain_tumor_tidy/coronal_t1wce_2_class/images/test/59.jpg: 320x320 (no detections), 12.5ms\n",
            "Speed: 1.5ms preprocess, 12.5ms inference, 0.9ms postprocess per image at shape (1, 3, 320, 320)\n",
            "Results saved to \u001b[1mruns/detect/predict3\u001b[0m\n",
            "\n",
            "image 1/1 /content/drive/MyDrive/brain_tumor_tidy/coronal_t1wce_2_class/images/test/36.jpg: 320x320 1 negative, 1 positive, 13.1ms\n",
            "Speed: 1.5ms preprocess, 13.1ms inference, 1.9ms postprocess per image at shape (1, 3, 320, 320)\n",
            "Results saved to \u001b[1mruns/detect/predict3\u001b[0m\n",
            "\n",
            "image 1/1 /content/drive/MyDrive/brain_tumor_tidy/coronal_t1wce_2_class/images/test/55 (4).jpg: 320x320 1 negative, 1 positive, 12.8ms\n",
            "Speed: 1.6ms preprocess, 12.8ms inference, 2.1ms postprocess per image at shape (1, 3, 320, 320)\n",
            "Results saved to \u001b[1mruns/detect/predict3\u001b[0m\n",
            "\n",
            "image 1/1 /content/drive/MyDrive/brain_tumor_tidy/coronal_t1wce_2_class/images/test/60 (4).jpg: 320x320 1 negative, 1 positive, 15.2ms\n",
            "Speed: 1.3ms preprocess, 15.2ms inference, 1.9ms postprocess per image at shape (1, 3, 320, 320)\n",
            "Results saved to \u001b[1mruns/detect/predict3\u001b[0m\n",
            "\n",
            "image 1/1 /content/drive/MyDrive/brain_tumor_tidy/coronal_t1wce_2_class/images/test/58 (3).jpg: 320x320 (no detections), 16.1ms\n",
            "Speed: 1.3ms preprocess, 16.1ms inference, 0.8ms postprocess per image at shape (1, 3, 320, 320)\n",
            "Results saved to \u001b[1mruns/detect/predict3\u001b[0m\n",
            "\n",
            "image 1/1 /content/drive/MyDrive/brain_tumor_tidy/coronal_t1wce_2_class/images/test/55 (3).jpg: 320x320 (no detections), 12.3ms\n",
            "Speed: 1.4ms preprocess, 12.3ms inference, 0.8ms postprocess per image at shape (1, 3, 320, 320)\n",
            "Results saved to \u001b[1mruns/detect/predict3\u001b[0m\n",
            "\n",
            "image 1/1 /content/drive/MyDrive/brain_tumor_tidy/coronal_t1wce_2_class/images/test/56.jpg: 320x320 1 positive, 13.5ms\n",
            "Speed: 1.7ms preprocess, 13.5ms inference, 3.0ms postprocess per image at shape (1, 3, 320, 320)\n",
            "Results saved to \u001b[1mruns/detect/predict3\u001b[0m\n",
            "\n",
            "image 1/1 /content/drive/MyDrive/brain_tumor_tidy/coronal_t1wce_2_class/images/test/48 (5).jpg: 320x320 (no detections), 13.5ms\n",
            "Speed: 1.3ms preprocess, 13.5ms inference, 0.9ms postprocess per image at shape (1, 3, 320, 320)\n",
            "Results saved to \u001b[1mruns/detect/predict3\u001b[0m\n",
            "\n",
            "image 1/1 /content/drive/MyDrive/brain_tumor_tidy/coronal_t1wce_2_class/images/test/57 (5).jpg: 320x320 1 negative, 1 positive, 16.7ms\n",
            "Speed: 4.7ms preprocess, 16.7ms inference, 2.0ms postprocess per image at shape (1, 3, 320, 320)\n",
            "Results saved to \u001b[1mruns/detect/predict3\u001b[0m\n",
            "\n",
            "image 1/1 /content/drive/MyDrive/brain_tumor_tidy/coronal_t1wce_2_class/images/test/59 (2).jpg: 320x320 1 positive, 18.7ms\n",
            "Speed: 1.4ms preprocess, 18.7ms inference, 2.0ms postprocess per image at shape (1, 3, 320, 320)\n",
            "Results saved to \u001b[1mruns/detect/predict3\u001b[0m\n",
            "\n",
            "image 1/1 /content/drive/MyDrive/brain_tumor_tidy/coronal_t1wce_2_class/images/test/60 (9).jpg: 320x320 (no detections), 14.9ms\n",
            "Speed: 1.4ms preprocess, 14.9ms inference, 0.8ms postprocess per image at shape (1, 3, 320, 320)\n",
            "Results saved to \u001b[1mruns/detect/predict3\u001b[0m\n",
            "\n",
            "image 1/1 /content/drive/MyDrive/brain_tumor_tidy/coronal_t1wce_2_class/images/test/60 (5).jpg: 320x320 1 positive, 12.0ms\n",
            "Speed: 1.5ms preprocess, 12.0ms inference, 1.9ms postprocess per image at shape (1, 3, 320, 320)\n",
            "Results saved to \u001b[1mruns/detect/predict3\u001b[0m\n",
            "\n",
            "image 1/1 /content/drive/MyDrive/brain_tumor_tidy/coronal_t1wce_2_class/images/test/60.jpg: 320x320 1 positive, 12.6ms\n",
            "Speed: 1.4ms preprocess, 12.6ms inference, 2.0ms postprocess per image at shape (1, 3, 320, 320)\n",
            "Results saved to \u001b[1mruns/detect/predict3\u001b[0m\n",
            "\n",
            "image 1/1 /content/drive/MyDrive/brain_tumor_tidy/coronal_t1wce_2_class/images/test/60 (6).jpg: 320x320 1 positive, 14.4ms\n",
            "Speed: 1.4ms preprocess, 14.4ms inference, 2.3ms postprocess per image at shape (1, 3, 320, 320)\n",
            "Results saved to \u001b[1mruns/detect/predict3\u001b[0m\n",
            "\n",
            "image 1/1 /content/drive/MyDrive/brain_tumor_tidy/coronal_t1wce_2_class/images/test/60 (8).jpg: 320x320 1 negative, 17.2ms\n",
            "Speed: 3.5ms preprocess, 17.2ms inference, 1.9ms postprocess per image at shape (1, 3, 320, 320)\n",
            "Results saved to \u001b[1mruns/detect/predict3\u001b[0m\n",
            "\n",
            "image 1/1 /content/drive/MyDrive/brain_tumor_tidy/coronal_t1wce_2_class/images/test/60 (7).jpg: 320x320 1 negative, 1 positive, 15.5ms\n",
            "Speed: 1.3ms preprocess, 15.5ms inference, 1.8ms postprocess per image at shape (1, 3, 320, 320)\n",
            "Results saved to \u001b[1mruns/detect/predict3\u001b[0m\n",
            "\n",
            "image 1/1 /content/drive/MyDrive/brain_tumor_tidy/coronal_t1wce_2_class/images/test/61 (2).jpg: 320x320 1 negative, 1 positive, 12.4ms\n",
            "Speed: 1.3ms preprocess, 12.4ms inference, 1.8ms postprocess per image at shape (1, 3, 320, 320)\n",
            "Results saved to \u001b[1mruns/detect/predict3\u001b[0m\n"
          ]
        }
      ]
    },
    {
      "cell_type": "markdown",
      "source": [
        "## Saggital"
      ],
      "metadata": {
        "id": "8aLzj1Ml3JX7"
      }
    },
    {
      "cell_type": "code",
      "source": [
        "# Load a model\n",
        "model = YOLO('yolov8n.yaml')  # build a new model from YAML\n",
        "model = YOLO('yolov8n.pt')  # load a pretrained model (recommended for training)\n",
        "\n",
        "results = model.train(data='/content/drive/MyDrive/brain_tumor_tidy/sagittal_t1wce_2_class/sagittal_t1wce_2_class.yaml', epochs=20, imgsz=640, device=device)"
      ],
      "metadata": {
        "colab": {
          "base_uri": "https://localhost:8080/"
        },
        "id": "4cuL-Kof3KlC",
        "outputId": "61b527b3-ee76-4c78-f66a-a2fd5d0d9c6f"
      },
      "execution_count": null,
      "outputs": [
        {
          "output_type": "stream",
          "name": "stdout",
          "text": [
            "\u001b[34m\u001b[1mengine/trainer: \u001b[0mtask=detect, mode=train, model=yolov8n.pt, data=/content/drive/MyDrive/brain_tumor_tidy/sagittal_t1wce_2_class/sagittal_t1wce_2_class.yaml, epochs=20, time=None, patience=100, batch=16, imgsz=640, save=True, save_period=-1, cache=False, device=cuda, workers=8, project=None, name=train11, exist_ok=False, pretrained=True, optimizer=auto, verbose=True, seed=0, deterministic=True, single_cls=False, rect=False, cos_lr=False, close_mosaic=10, resume=False, amp=True, fraction=1.0, profile=False, freeze=None, multi_scale=False, overlap_mask=True, mask_ratio=4, dropout=0.0, val=True, split=val, save_json=False, save_hybrid=False, conf=None, iou=0.7, max_det=300, half=False, dnn=False, plots=True, source=None, vid_stride=1, stream_buffer=False, visualize=False, augment=False, agnostic_nms=False, classes=None, retina_masks=False, embed=None, show=False, save_frames=False, save_txt=False, save_conf=False, save_crop=False, show_labels=True, show_conf=True, show_boxes=True, line_width=None, format=torchscript, keras=False, optimize=False, int8=False, dynamic=False, simplify=False, opset=None, workspace=4, nms=False, lr0=0.01, lrf=0.01, momentum=0.937, weight_decay=0.0005, warmup_epochs=3.0, warmup_momentum=0.8, warmup_bias_lr=0.1, box=7.5, cls=0.5, dfl=1.5, pose=12.0, kobj=1.0, label_smoothing=0.0, nbs=64, hsv_h=0.015, hsv_s=0.7, hsv_v=0.4, degrees=0.0, translate=0.1, scale=0.5, shear=0.0, perspective=0.0, flipud=0.0, fliplr=0.5, bgr=0.0, mosaic=1.0, mixup=0.0, copy_paste=0.0, auto_augment=randaugment, erasing=0.4, crop_fraction=1.0, cfg=None, tracker=botsort.yaml, save_dir=runs/detect/train11\n",
            "Downloading https://ultralytics.com/assets/Arial.ttf to '/root/.config/Ultralytics/Arial.ttf'...\n"
          ]
        },
        {
          "output_type": "stream",
          "name": "stderr",
          "text": [
            "100%|██████████| 755k/755k [00:00<00:00, 17.2MB/s]\n"
          ]
        },
        {
          "output_type": "stream",
          "name": "stdout",
          "text": [
            "Overriding model.yaml nc=80 with nc=2\n",
            "\n",
            "                   from  n    params  module                                       arguments                     \n",
            "  0                  -1  1       464  ultralytics.nn.modules.conv.Conv             [3, 16, 3, 2]                 \n",
            "  1                  -1  1      4672  ultralytics.nn.modules.conv.Conv             [16, 32, 3, 2]                \n",
            "  2                  -1  1      7360  ultralytics.nn.modules.block.C2f             [32, 32, 1, True]             \n",
            "  3                  -1  1     18560  ultralytics.nn.modules.conv.Conv             [32, 64, 3, 2]                \n",
            "  4                  -1  2     49664  ultralytics.nn.modules.block.C2f             [64, 64, 2, True]             \n",
            "  5                  -1  1     73984  ultralytics.nn.modules.conv.Conv             [64, 128, 3, 2]               \n",
            "  6                  -1  2    197632  ultralytics.nn.modules.block.C2f             [128, 128, 2, True]           \n",
            "  7                  -1  1    295424  ultralytics.nn.modules.conv.Conv             [128, 256, 3, 2]              \n",
            "  8                  -1  1    460288  ultralytics.nn.modules.block.C2f             [256, 256, 1, True]           \n",
            "  9                  -1  1    164608  ultralytics.nn.modules.block.SPPF            [256, 256, 5]                 \n",
            " 10                  -1  1         0  torch.nn.modules.upsampling.Upsample         [None, 2, 'nearest']          \n",
            " 11             [-1, 6]  1         0  ultralytics.nn.modules.conv.Concat           [1]                           \n",
            " 12                  -1  1    148224  ultralytics.nn.modules.block.C2f             [384, 128, 1]                 \n",
            " 13                  -1  1         0  torch.nn.modules.upsampling.Upsample         [None, 2, 'nearest']          \n",
            " 14             [-1, 4]  1         0  ultralytics.nn.modules.conv.Concat           [1]                           \n",
            " 15                  -1  1     37248  ultralytics.nn.modules.block.C2f             [192, 64, 1]                  \n",
            " 16                  -1  1     36992  ultralytics.nn.modules.conv.Conv             [64, 64, 3, 2]                \n",
            " 17            [-1, 12]  1         0  ultralytics.nn.modules.conv.Concat           [1]                           \n",
            " 18                  -1  1    123648  ultralytics.nn.modules.block.C2f             [192, 128, 1]                 \n",
            " 19                  -1  1    147712  ultralytics.nn.modules.conv.Conv             [128, 128, 3, 2]              \n",
            " 20             [-1, 9]  1         0  ultralytics.nn.modules.conv.Concat           [1]                           \n",
            " 21                  -1  1    493056  ultralytics.nn.modules.block.C2f             [384, 256, 1]                 \n",
            " 22        [15, 18, 21]  1    751702  ultralytics.nn.modules.head.Detect           [2, [64, 128, 256]]           \n",
            "Model summary: 225 layers, 3011238 parameters, 3011222 gradients, 8.2 GFLOPs\n",
            "\n",
            "Transferred 319/355 items from pretrained weights\n",
            "\u001b[34m\u001b[1mTensorBoard: \u001b[0mStart with 'tensorboard --logdir runs/detect/train11', view at http://localhost:6006/\n",
            "Freezing layer 'model.22.dfl.conv.weight'\n",
            "\u001b[34m\u001b[1mAMP: \u001b[0mrunning Automatic Mixed Precision (AMP) checks with YOLOv8n...\n",
            "\u001b[34m\u001b[1mAMP: \u001b[0mchecks passed ✅\n"
          ]
        },
        {
          "output_type": "stream",
          "name": "stderr",
          "text": [
            "\u001b[34m\u001b[1mtrain: \u001b[0mScanning /content/drive/MyDrive/brain_tumor_tidy/sagittal_t1wce_2_class/labels/train... 264 images, 0 backgrounds, 0 corrupt: 100%|██████████| 264/264 [03:49<00:00,  1.15it/s]"
          ]
        },
        {
          "output_type": "stream",
          "name": "stdout",
          "text": [
            "\u001b[34m\u001b[1mtrain: \u001b[0mNew cache created: /content/drive/MyDrive/brain_tumor_tidy/sagittal_t1wce_2_class/labels/train.cache\n"
          ]
        },
        {
          "output_type": "stream",
          "name": "stderr",
          "text": [
            "\n"
          ]
        },
        {
          "output_type": "stream",
          "name": "stdout",
          "text": [
            "\u001b[34m\u001b[1malbumentations: \u001b[0mBlur(p=0.01, blur_limit=(3, 7)), MedianBlur(p=0.01, blur_limit=(3, 7)), ToGray(p=0.01), CLAHE(p=0.01, clip_limit=(1, 4.0), tile_grid_size=(8, 8))\n"
          ]
        },
        {
          "output_type": "stream",
          "name": "stderr",
          "text": [
            "/usr/lib/python3.10/multiprocessing/popen_fork.py:66: RuntimeWarning: os.fork() was called. os.fork() is incompatible with multithreaded code, and JAX is multithreaded, so this will likely lead to a deadlock.\n",
            "  self.pid = os.fork()\n",
            "\u001b[34m\u001b[1mval: \u001b[0mScanning /content/drive/MyDrive/brain_tumor_tidy/sagittal_t1wce_2_class/labels/test... 70 images, 0 backgrounds, 0 corrupt: 100%|██████████| 70/70 [02:46<00:00,  2.37s/it]"
          ]
        },
        {
          "output_type": "stream",
          "name": "stdout",
          "text": [
            "\u001b[34m\u001b[1mval: \u001b[0mNew cache created: /content/drive/MyDrive/brain_tumor_tidy/sagittal_t1wce_2_class/labels/test.cache\n"
          ]
        },
        {
          "output_type": "stream",
          "name": "stderr",
          "text": [
            "\n"
          ]
        },
        {
          "output_type": "stream",
          "name": "stdout",
          "text": [
            "Plotting labels to runs/detect/train11/labels.jpg... \n",
            "\u001b[34m\u001b[1moptimizer:\u001b[0m 'optimizer=auto' found, ignoring 'lr0=0.01' and 'momentum=0.937' and determining best 'optimizer', 'lr0' and 'momentum' automatically... \n",
            "\u001b[34m\u001b[1moptimizer:\u001b[0m AdamW(lr=0.001667, momentum=0.9) with parameter groups 57 weight(decay=0.0), 64 weight(decay=0.0005), 63 bias(decay=0.0)\n",
            "\u001b[34m\u001b[1mTensorBoard: \u001b[0mmodel graph visualization added ✅\n",
            "Image sizes 640 train, 640 val\n",
            "Using 2 dataloader workers\n",
            "Logging results to \u001b[1mruns/detect/train11\u001b[0m\n",
            "Starting training for 20 epochs...\n",
            "\n",
            "      Epoch    GPU_mem   box_loss   cls_loss   dfl_loss  Instances       Size\n"
          ]
        },
        {
          "output_type": "stream",
          "name": "stderr",
          "text": [
            "       1/20      2.54G      1.647      4.606      1.425         19        640: 100%|██████████| 17/17 [00:08<00:00,  1.99it/s]\n",
            "                 Class     Images  Instances      Box(P          R      mAP50  mAP50-95): 100%|██████████| 3/3 [00:02<00:00,  1.16it/s]"
          ]
        },
        {
          "output_type": "stream",
          "name": "stdout",
          "text": [
            "                   all         70         77    0.00311      0.832    0.00534    0.00275\n"
          ]
        },
        {
          "output_type": "stream",
          "name": "stderr",
          "text": [
            "\n"
          ]
        },
        {
          "output_type": "stream",
          "name": "stdout",
          "text": [
            "\n",
            "      Epoch    GPU_mem   box_loss   cls_loss   dfl_loss  Instances       Size\n"
          ]
        },
        {
          "output_type": "stream",
          "name": "stderr",
          "text": [
            "       2/20      2.31G      1.296      3.101      1.178         16        640: 100%|██████████| 17/17 [00:07<00:00,  2.14it/s]\n",
            "                 Class     Images  Instances      Box(P          R      mAP50  mAP50-95): 100%|██████████| 3/3 [00:01<00:00,  1.61it/s]"
          ]
        },
        {
          "output_type": "stream",
          "name": "stdout",
          "text": [
            "                   all         70         77    0.00192      0.494      0.144     0.0891\n"
          ]
        },
        {
          "output_type": "stream",
          "name": "stderr",
          "text": [
            "\n"
          ]
        },
        {
          "output_type": "stream",
          "name": "stdout",
          "text": [
            "\n",
            "      Epoch    GPU_mem   box_loss   cls_loss   dfl_loss  Instances       Size\n"
          ]
        },
        {
          "output_type": "stream",
          "name": "stderr",
          "text": [
            "       3/20      2.32G       1.33      2.852      1.219         11        640: 100%|██████████| 17/17 [00:04<00:00,  3.55it/s]\n",
            "                 Class     Images  Instances      Box(P          R      mAP50  mAP50-95): 100%|██████████| 3/3 [00:00<00:00,  3.60it/s]"
          ]
        },
        {
          "output_type": "stream",
          "name": "stdout",
          "text": [
            "                   all         70         77    0.00316      0.857     0.0583     0.0418\n"
          ]
        },
        {
          "output_type": "stream",
          "name": "stderr",
          "text": [
            "\n"
          ]
        },
        {
          "output_type": "stream",
          "name": "stdout",
          "text": [
            "\n",
            "      Epoch    GPU_mem   box_loss   cls_loss   dfl_loss  Instances       Size\n"
          ]
        },
        {
          "output_type": "stream",
          "name": "stderr",
          "text": [
            "       4/20      2.32G      1.263      2.654      1.176         11        640: 100%|██████████| 17/17 [00:06<00:00,  2.47it/s]\n",
            "                 Class     Images  Instances      Box(P          R      mAP50  mAP50-95): 100%|██████████| 3/3 [00:02<00:00,  1.21it/s]"
          ]
        },
        {
          "output_type": "stream",
          "name": "stdout",
          "text": [
            "                   all         70         77      0.604     0.0506      0.343      0.225\n"
          ]
        },
        {
          "output_type": "stream",
          "name": "stderr",
          "text": [
            "\n"
          ]
        },
        {
          "output_type": "stream",
          "name": "stdout",
          "text": [
            "\n",
            "      Epoch    GPU_mem   box_loss   cls_loss   dfl_loss  Instances       Size\n"
          ]
        },
        {
          "output_type": "stream",
          "name": "stderr",
          "text": [
            "       5/20      2.31G      1.348      2.505      1.208          9        640: 100%|██████████| 17/17 [00:05<00:00,  3.39it/s]\n",
            "                 Class     Images  Instances      Box(P          R      mAP50  mAP50-95): 100%|██████████| 3/3 [00:00<00:00,  3.71it/s]"
          ]
        },
        {
          "output_type": "stream",
          "name": "stdout",
          "text": [
            "                   all         70         77      0.431      0.504      0.399      0.246\n"
          ]
        },
        {
          "output_type": "stream",
          "name": "stderr",
          "text": [
            "\n"
          ]
        },
        {
          "output_type": "stream",
          "name": "stdout",
          "text": [
            "\n",
            "      Epoch    GPU_mem   box_loss   cls_loss   dfl_loss  Instances       Size\n"
          ]
        },
        {
          "output_type": "stream",
          "name": "stderr",
          "text": [
            "       6/20      2.32G      1.206        2.3      1.189          9        640: 100%|██████████| 17/17 [00:05<00:00,  2.85it/s]\n",
            "                 Class     Images  Instances      Box(P          R      mAP50  mAP50-95): 100%|██████████| 3/3 [00:01<00:00,  2.34it/s]"
          ]
        },
        {
          "output_type": "stream",
          "name": "stdout",
          "text": [
            "                   all         70         77      0.445      0.456       0.41      0.274\n"
          ]
        },
        {
          "output_type": "stream",
          "name": "stderr",
          "text": [
            "\n"
          ]
        },
        {
          "output_type": "stream",
          "name": "stdout",
          "text": [
            "\n",
            "      Epoch    GPU_mem   box_loss   cls_loss   dfl_loss  Instances       Size\n"
          ]
        },
        {
          "output_type": "stream",
          "name": "stderr",
          "text": [
            "       7/20      2.32G      1.237      2.174      1.175         13        640: 100%|██████████| 17/17 [00:06<00:00,  2.55it/s]\n",
            "                 Class     Images  Instances      Box(P          R      mAP50  mAP50-95): 100%|██████████| 3/3 [00:01<00:00,  2.98it/s]"
          ]
        },
        {
          "output_type": "stream",
          "name": "stdout",
          "text": [
            "                   all         70         77      0.438      0.546      0.438      0.292\n"
          ]
        },
        {
          "output_type": "stream",
          "name": "stderr",
          "text": [
            "\n"
          ]
        },
        {
          "output_type": "stream",
          "name": "stdout",
          "text": [
            "\n",
            "      Epoch    GPU_mem   box_loss   cls_loss   dfl_loss  Instances       Size\n"
          ]
        },
        {
          "output_type": "stream",
          "name": "stderr",
          "text": [
            "       8/20      2.32G       1.17      2.031      1.134         12        640: 100%|██████████| 17/17 [00:04<00:00,  3.44it/s]\n",
            "                 Class     Images  Instances      Box(P          R      mAP50  mAP50-95): 100%|██████████| 3/3 [00:00<00:00,  3.15it/s]\n"
          ]
        },
        {
          "output_type": "stream",
          "name": "stdout",
          "text": [
            "                   all         70         77      0.469       0.61      0.484      0.325\n",
            "\n",
            "      Epoch    GPU_mem   box_loss   cls_loss   dfl_loss  Instances       Size\n"
          ]
        },
        {
          "output_type": "stream",
          "name": "stderr",
          "text": [
            "       9/20      2.31G      1.147      1.901      1.117         12        640: 100%|██████████| 17/17 [00:07<00:00,  2.19it/s]\n",
            "                 Class     Images  Instances      Box(P          R      mAP50  mAP50-95): 100%|██████████| 3/3 [00:01<00:00,  1.71it/s]"
          ]
        },
        {
          "output_type": "stream",
          "name": "stdout",
          "text": [
            "                   all         70         77      0.453      0.624      0.487      0.342\n"
          ]
        },
        {
          "output_type": "stream",
          "name": "stderr",
          "text": [
            "\n"
          ]
        },
        {
          "output_type": "stream",
          "name": "stdout",
          "text": [
            "\n",
            "      Epoch    GPU_mem   box_loss   cls_loss   dfl_loss  Instances       Size\n"
          ]
        },
        {
          "output_type": "stream",
          "name": "stderr",
          "text": [
            "      10/20      2.32G        1.1      1.933      1.098          9        640: 100%|██████████| 17/17 [00:07<00:00,  2.16it/s]\n",
            "                 Class     Images  Instances      Box(P          R      mAP50  mAP50-95): 100%|██████████| 3/3 [00:01<00:00,  1.53it/s]"
          ]
        },
        {
          "output_type": "stream",
          "name": "stdout",
          "text": [
            "                   all         70         77       0.47      0.611      0.487      0.347\n"
          ]
        },
        {
          "output_type": "stream",
          "name": "stderr",
          "text": [
            "\n"
          ]
        },
        {
          "output_type": "stream",
          "name": "stdout",
          "text": [
            "Closing dataloader mosaic\n",
            "\u001b[34m\u001b[1malbumentations: \u001b[0mBlur(p=0.01, blur_limit=(3, 7)), MedianBlur(p=0.01, blur_limit=(3, 7)), ToGray(p=0.01), CLAHE(p=0.01, clip_limit=(1, 4.0), tile_grid_size=(8, 8))\n"
          ]
        },
        {
          "output_type": "stream",
          "name": "stderr",
          "text": [
            "/usr/lib/python3.10/multiprocessing/popen_fork.py:66: RuntimeWarning: os.fork() was called. os.fork() is incompatible with multithreaded code, and JAX is multithreaded, so this will likely lead to a deadlock.\n",
            "  self.pid = os.fork()\n",
            "/usr/lib/python3.10/multiprocessing/popen_fork.py:66: RuntimeWarning: os.fork() was called. os.fork() is incompatible with multithreaded code, and JAX is multithreaded, so this will likely lead to a deadlock.\n",
            "  self.pid = os.fork()\n"
          ]
        },
        {
          "output_type": "stream",
          "name": "stdout",
          "text": [
            "\n",
            "      Epoch    GPU_mem   box_loss   cls_loss   dfl_loss  Instances       Size\n"
          ]
        },
        {
          "output_type": "stream",
          "name": "stderr",
          "text": [
            "      11/20      2.32G      1.065      1.964      1.108          8        640: 100%|██████████| 17/17 [00:08<00:00,  2.05it/s]\n",
            "                 Class     Images  Instances      Box(P          R      mAP50  mAP50-95): 100%|██████████| 3/3 [00:00<00:00,  3.63it/s]"
          ]
        },
        {
          "output_type": "stream",
          "name": "stdout",
          "text": [
            "                   all         70         77      0.405      0.767       0.48      0.349\n"
          ]
        },
        {
          "output_type": "stream",
          "name": "stderr",
          "text": [
            "\n"
          ]
        },
        {
          "output_type": "stream",
          "name": "stdout",
          "text": [
            "\n",
            "      Epoch    GPU_mem   box_loss   cls_loss   dfl_loss  Instances       Size\n"
          ]
        },
        {
          "output_type": "stream",
          "name": "stderr",
          "text": [
            "      12/20      2.32G     0.9878      1.838      1.071         10        640: 100%|██████████| 17/17 [00:05<00:00,  2.92it/s]\n",
            "                 Class     Images  Instances      Box(P          R      mAP50  mAP50-95): 100%|██████████| 3/3 [00:01<00:00,  1.68it/s]"
          ]
        },
        {
          "output_type": "stream",
          "name": "stdout",
          "text": [
            "                   all         70         77      0.432      0.805      0.458      0.325\n"
          ]
        },
        {
          "output_type": "stream",
          "name": "stderr",
          "text": [
            "\n"
          ]
        },
        {
          "output_type": "stream",
          "name": "stdout",
          "text": [
            "\n",
            "      Epoch    GPU_mem   box_loss   cls_loss   dfl_loss  Instances       Size\n"
          ]
        },
        {
          "output_type": "stream",
          "name": "stderr",
          "text": [
            "      13/20      2.31G     0.9721      1.809      1.053          8        640: 100%|██████████| 17/17 [00:05<00:00,  3.06it/s]\n",
            "                 Class     Images  Instances      Box(P          R      mAP50  mAP50-95): 100%|██████████| 3/3 [00:00<00:00,  3.82it/s]"
          ]
        },
        {
          "output_type": "stream",
          "name": "stdout",
          "text": [
            "                   all         70         77      0.447      0.767      0.453      0.302\n"
          ]
        },
        {
          "output_type": "stream",
          "name": "stderr",
          "text": [
            "\n"
          ]
        },
        {
          "output_type": "stream",
          "name": "stdout",
          "text": [
            "\n",
            "      Epoch    GPU_mem   box_loss   cls_loss   dfl_loss  Instances       Size\n"
          ]
        },
        {
          "output_type": "stream",
          "name": "stderr",
          "text": [
            "      14/20      2.32G     0.9562      1.668      1.035          9        640: 100%|██████████| 17/17 [00:04<00:00,  3.73it/s]\n",
            "                 Class     Images  Instances      Box(P          R      mAP50  mAP50-95): 100%|██████████| 3/3 [00:00<00:00,  3.27it/s]\n"
          ]
        },
        {
          "output_type": "stream",
          "name": "stdout",
          "text": [
            "                   all         70         77       0.45       0.74      0.468      0.348\n",
            "\n",
            "      Epoch    GPU_mem   box_loss   cls_loss   dfl_loss  Instances       Size\n"
          ]
        },
        {
          "output_type": "stream",
          "name": "stderr",
          "text": [
            "      15/20      2.32G     0.9432       1.64      1.032          8        640: 100%|██████████| 17/17 [00:07<00:00,  2.24it/s]\n",
            "                 Class     Images  Instances      Box(P          R      mAP50  mAP50-95): 100%|██████████| 3/3 [00:01<00:00,  2.51it/s]"
          ]
        },
        {
          "output_type": "stream",
          "name": "stdout",
          "text": [
            "                   all         70         77      0.437      0.793      0.491      0.364\n"
          ]
        },
        {
          "output_type": "stream",
          "name": "stderr",
          "text": [
            "\n"
          ]
        },
        {
          "output_type": "stream",
          "name": "stdout",
          "text": [
            "\n",
            "      Epoch    GPU_mem   box_loss   cls_loss   dfl_loss  Instances       Size\n"
          ]
        },
        {
          "output_type": "stream",
          "name": "stderr",
          "text": [
            "      16/20      2.32G     0.9042      1.584      1.026          9        640: 100%|██████████| 17/17 [00:04<00:00,  3.79it/s]\n",
            "                 Class     Images  Instances      Box(P          R      mAP50  mAP50-95): 100%|██████████| 3/3 [00:00<00:00,  4.91it/s]"
          ]
        },
        {
          "output_type": "stream",
          "name": "stdout",
          "text": [
            "                   all         70         77      0.453      0.828      0.508      0.379\n"
          ]
        },
        {
          "output_type": "stream",
          "name": "stderr",
          "text": [
            "\n"
          ]
        },
        {
          "output_type": "stream",
          "name": "stdout",
          "text": [
            "\n",
            "      Epoch    GPU_mem   box_loss   cls_loss   dfl_loss  Instances       Size\n"
          ]
        },
        {
          "output_type": "stream",
          "name": "stderr",
          "text": [
            "      17/20      2.31G     0.8832       1.57      1.002          8        640: 100%|██████████| 17/17 [00:05<00:00,  2.86it/s]\n",
            "                 Class     Images  Instances      Box(P          R      mAP50  mAP50-95): 100%|██████████| 3/3 [00:02<00:00,  1.33it/s]"
          ]
        },
        {
          "output_type": "stream",
          "name": "stdout",
          "text": [
            "                   all         70         77      0.446      0.859      0.509      0.382\n"
          ]
        },
        {
          "output_type": "stream",
          "name": "stderr",
          "text": [
            "\n"
          ]
        },
        {
          "output_type": "stream",
          "name": "stdout",
          "text": [
            "\n",
            "      Epoch    GPU_mem   box_loss   cls_loss   dfl_loss  Instances       Size\n"
          ]
        },
        {
          "output_type": "stream",
          "name": "stderr",
          "text": [
            "      18/20      2.32G     0.8731      1.521     0.9861         11        640: 100%|██████████| 17/17 [00:05<00:00,  3.14it/s]\n",
            "                 Class     Images  Instances      Box(P          R      mAP50  mAP50-95): 100%|██████████| 3/3 [00:00<00:00,  4.80it/s]"
          ]
        },
        {
          "output_type": "stream",
          "name": "stdout",
          "text": [
            "                   all         70         77      0.445      0.829      0.505      0.387\n"
          ]
        },
        {
          "output_type": "stream",
          "name": "stderr",
          "text": [
            "\n"
          ]
        },
        {
          "output_type": "stream",
          "name": "stdout",
          "text": [
            "\n",
            "      Epoch    GPU_mem   box_loss   cls_loss   dfl_loss  Instances       Size\n"
          ]
        },
        {
          "output_type": "stream",
          "name": "stderr",
          "text": [
            "      19/20      2.32G      0.848      1.484     0.9918          9        640: 100%|██████████| 17/17 [00:04<00:00,  3.79it/s]\n",
            "                 Class     Images  Instances      Box(P          R      mAP50  mAP50-95): 100%|██████████| 3/3 [00:00<00:00,  3.92it/s]"
          ]
        },
        {
          "output_type": "stream",
          "name": "stdout",
          "text": [
            "                   all         70         77      0.446      0.832      0.526      0.397\n"
          ]
        },
        {
          "output_type": "stream",
          "name": "stderr",
          "text": [
            "\n"
          ]
        },
        {
          "output_type": "stream",
          "name": "stdout",
          "text": [
            "\n",
            "      Epoch    GPU_mem   box_loss   cls_loss   dfl_loss  Instances       Size\n"
          ]
        },
        {
          "output_type": "stream",
          "name": "stderr",
          "text": [
            "      20/20      2.32G     0.8077      1.458     0.9805          8        640: 100%|██████████| 17/17 [00:07<00:00,  2.22it/s]\n",
            "                 Class     Images  Instances      Box(P          R      mAP50  mAP50-95): 100%|██████████| 3/3 [00:02<00:00,  1.43it/s]"
          ]
        },
        {
          "output_type": "stream",
          "name": "stdout",
          "text": [
            "                   all         70         77      0.453      0.832      0.522      0.389\n"
          ]
        },
        {
          "output_type": "stream",
          "name": "stderr",
          "text": [
            "\n"
          ]
        },
        {
          "output_type": "stream",
          "name": "stdout",
          "text": [
            "\n",
            "20 epochs completed in 0.052 hours.\n",
            "Optimizer stripped from runs/detect/train11/weights/last.pt, 6.2MB\n",
            "Optimizer stripped from runs/detect/train11/weights/best.pt, 6.2MB\n",
            "\n",
            "Validating runs/detect/train11/weights/best.pt...\n",
            "Ultralytics YOLOv8.2.11 🚀 Python-3.10.12 torch-2.2.1+cu121 CUDA:0 (Tesla T4, 15102MiB)\n",
            "Model summary (fused): 168 layers, 3006038 parameters, 0 gradients, 8.1 GFLOPs\n"
          ]
        },
        {
          "output_type": "stream",
          "name": "stderr",
          "text": [
            "                 Class     Images  Instances      Box(P          R      mAP50  mAP50-95): 100%|██████████| 3/3 [00:01<00:00,  2.35it/s]\n"
          ]
        },
        {
          "output_type": "stream",
          "name": "stdout",
          "text": [
            "                   all         70         77      0.445      0.832      0.526      0.396\n",
            "              negative         70         39      0.451      0.795      0.455      0.308\n",
            "              positive         70         38      0.439      0.868      0.598      0.485\n",
            "Speed: 0.3ms preprocess, 2.9ms inference, 0.0ms loss, 5.7ms postprocess per image\n",
            "Results saved to \u001b[1mruns/detect/train11\u001b[0m\n"
          ]
        }
      ]
    },
    {
      "cell_type": "markdown",
      "source": [
        "### Inference"
      ],
      "metadata": {
        "id": "3QOj0sqO7P-L"
      }
    },
    {
      "cell_type": "code",
      "source": [
        "predict_results(\"/content/drive/MyDrive/brain_tumor_tidy/sagittal_t1wce_2_class/images/test\")"
      ],
      "metadata": {
        "colab": {
          "base_uri": "https://localhost:8080/"
        },
        "id": "LuDsHPGQ3bGL",
        "outputId": "48e9794f-ce9f-47a1-b7ee-2b065b180ff9"
      },
      "execution_count": null,
      "outputs": [
        {
          "output_type": "stream",
          "name": "stdout",
          "text": [
            "\n",
            "image 1/1 /content/drive/MyDrive/brain_tumor_tidy/sagittal_t1wce_2_class/images/test/00022_256.jpg: 320x320 1 negative, 15.1ms\n",
            "Speed: 1.6ms preprocess, 15.1ms inference, 5.1ms postprocess per image at shape (1, 3, 320, 320)\n",
            "Results saved to \u001b[1mruns/detect/predict4\u001b[0m\n",
            "\n",
            "image 1/1 /content/drive/MyDrive/brain_tumor_tidy/sagittal_t1wce_2_class/images/test/00022_237.jpg: 320x320 1 negative, 11.8ms\n",
            "Speed: 1.3ms preprocess, 11.8ms inference, 1.4ms postprocess per image at shape (1, 3, 320, 320)\n",
            "Results saved to \u001b[1mruns/detect/predict4\u001b[0m\n",
            "\n",
            "image 1/1 /content/drive/MyDrive/brain_tumor_tidy/sagittal_t1wce_2_class/images/test/00008_178.jpg: 320x320 (no detections), 9.1ms\n",
            "Speed: 1.1ms preprocess, 9.1ms inference, 0.7ms postprocess per image at shape (1, 3, 320, 320)\n",
            "Results saved to \u001b[1mruns/detect/predict4\u001b[0m\n",
            "\n",
            "image 1/1 /content/drive/MyDrive/brain_tumor_tidy/sagittal_t1wce_2_class/images/test/00017_187.jpg: 320x320 (no detections), 8.4ms\n",
            "Speed: 1.0ms preprocess, 8.4ms inference, 0.6ms postprocess per image at shape (1, 3, 320, 320)\n",
            "Results saved to \u001b[1mruns/detect/predict4\u001b[0m\n",
            "\n",
            "image 1/1 /content/drive/MyDrive/brain_tumor_tidy/sagittal_t1wce_2_class/images/test/00005_106.jpg: 320x320 1 negative, 10.5ms\n",
            "Speed: 1.3ms preprocess, 10.5ms inference, 1.4ms postprocess per image at shape (1, 3, 320, 320)\n",
            "Results saved to \u001b[1mruns/detect/predict4\u001b[0m\n",
            "\n",
            "image 1/1 /content/drive/MyDrive/brain_tumor_tidy/sagittal_t1wce_2_class/images/test/00006_192.jpg: 320x320 1 negative, 11.7ms\n",
            "Speed: 0.9ms preprocess, 11.7ms inference, 1.7ms postprocess per image at shape (1, 3, 320, 320)\n",
            "Results saved to \u001b[1mruns/detect/predict4\u001b[0m\n",
            "\n",
            "image 1/1 /content/drive/MyDrive/brain_tumor_tidy/sagittal_t1wce_2_class/images/test/00005_143.jpg: 320x320 1 negative, 8.4ms\n",
            "Speed: 0.9ms preprocess, 8.4ms inference, 1.5ms postprocess per image at shape (1, 3, 320, 320)\n",
            "Results saved to \u001b[1mruns/detect/predict4\u001b[0m\n",
            "\n",
            "image 1/1 /content/drive/MyDrive/brain_tumor_tidy/sagittal_t1wce_2_class/images/test/00003_211.jpg: 320x320 (no detections), 8.5ms\n",
            "Speed: 0.9ms preprocess, 8.5ms inference, 0.5ms postprocess per image at shape (1, 3, 320, 320)\n",
            "Results saved to \u001b[1mruns/detect/predict4\u001b[0m\n",
            "\n",
            "image 1/1 /content/drive/MyDrive/brain_tumor_tidy/sagittal_t1wce_2_class/images/test/00009_110.jpg: 320x320 (no detections), 9.0ms\n",
            "Speed: 1.2ms preprocess, 9.0ms inference, 0.6ms postprocess per image at shape (1, 3, 320, 320)\n",
            "Results saved to \u001b[1mruns/detect/predict4\u001b[0m\n",
            "\n",
            "image 1/1 /content/drive/MyDrive/brain_tumor_tidy/sagittal_t1wce_2_class/images/test/00011_277.jpg: 320x320 1 positive, 9.1ms\n",
            "Speed: 1.4ms preprocess, 9.1ms inference, 1.6ms postprocess per image at shape (1, 3, 320, 320)\n",
            "Results saved to \u001b[1mruns/detect/predict4\u001b[0m\n",
            "\n",
            "image 1/1 /content/drive/MyDrive/brain_tumor_tidy/sagittal_t1wce_2_class/images/test/00006_174.jpg: 320x320 1 negative, 9.3ms\n",
            "Speed: 1.2ms preprocess, 9.3ms inference, 1.4ms postprocess per image at shape (1, 3, 320, 320)\n",
            "Results saved to \u001b[1mruns/detect/predict4\u001b[0m\n",
            "\n",
            "image 1/1 /content/drive/MyDrive/brain_tumor_tidy/sagittal_t1wce_2_class/images/test/00002_166.jpg: 320x320 1 negative, 1 positive, 9.1ms\n",
            "Speed: 1.0ms preprocess, 9.1ms inference, 1.4ms postprocess per image at shape (1, 3, 320, 320)\n",
            "Results saved to \u001b[1mruns/detect/predict4\u001b[0m\n",
            "\n",
            "image 1/1 /content/drive/MyDrive/brain_tumor_tidy/sagittal_t1wce_2_class/images/test/00009_184.jpg: 320x320 (no detections), 16.3ms\n",
            "Speed: 1.1ms preprocess, 16.3ms inference, 0.9ms postprocess per image at shape (1, 3, 320, 320)\n",
            "Results saved to \u001b[1mruns/detect/predict4\u001b[0m\n",
            "\n",
            "image 1/1 /content/drive/MyDrive/brain_tumor_tidy/sagittal_t1wce_2_class/images/test/00030_215.jpg: 320x320 1 negative, 1 positive, 8.9ms\n",
            "Speed: 1.0ms preprocess, 8.9ms inference, 1.3ms postprocess per image at shape (1, 3, 320, 320)\n",
            "Results saved to \u001b[1mruns/detect/predict4\u001b[0m\n",
            "\n",
            "image 1/1 /content/drive/MyDrive/brain_tumor_tidy/sagittal_t1wce_2_class/images/test/00030_194.jpg: 320x320 1 negative, 1 positive, 9.1ms\n",
            "Speed: 1.3ms preprocess, 9.1ms inference, 1.4ms postprocess per image at shape (1, 3, 320, 320)\n",
            "Results saved to \u001b[1mruns/detect/predict4\u001b[0m\n",
            "\n",
            "image 1/1 /content/drive/MyDrive/brain_tumor_tidy/sagittal_t1wce_2_class/images/test/00006_137.jpg: 320x320 1 positive, 9.0ms\n",
            "Speed: 1.0ms preprocess, 9.0ms inference, 1.4ms postprocess per image at shape (1, 3, 320, 320)\n",
            "Results saved to \u001b[1mruns/detect/predict4\u001b[0m\n",
            "\n",
            "image 1/1 /content/drive/MyDrive/brain_tumor_tidy/sagittal_t1wce_2_class/images/test/00000_140.jpg: 320x320 1 negative, 9.2ms\n",
            "Speed: 1.0ms preprocess, 9.2ms inference, 1.3ms postprocess per image at shape (1, 3, 320, 320)\n",
            "Results saved to \u001b[1mruns/detect/predict4\u001b[0m\n",
            "\n",
            "image 1/1 /content/drive/MyDrive/brain_tumor_tidy/sagittal_t1wce_2_class/images/test/00000_121.jpg: 320x320 1 negative, 8.8ms\n",
            "Speed: 1.2ms preprocess, 8.8ms inference, 1.3ms postprocess per image at shape (1, 3, 320, 320)\n",
            "Results saved to \u001b[1mruns/detect/predict4\u001b[0m\n",
            "\n",
            "image 1/1 /content/drive/MyDrive/brain_tumor_tidy/sagittal_t1wce_2_class/images/test/00022_275.jpg: 320x320 (no detections), 11.6ms\n",
            "Speed: 1.0ms preprocess, 11.6ms inference, 1.0ms postprocess per image at shape (1, 3, 320, 320)\n",
            "Results saved to \u001b[1mruns/detect/predict4\u001b[0m\n",
            "\n",
            "image 1/1 /content/drive/MyDrive/brain_tumor_tidy/sagittal_t1wce_2_class/images/test/00022_218.jpg: 320x320 1 negative, 8.8ms\n",
            "Speed: 0.9ms preprocess, 8.8ms inference, 1.3ms postprocess per image at shape (1, 3, 320, 320)\n",
            "Results saved to \u001b[1mruns/detect/predict4\u001b[0m\n",
            "\n",
            "image 1/1 /content/drive/MyDrive/brain_tumor_tidy/sagittal_t1wce_2_class/images/test/00021_178.jpg: 320x320 (no detections), 8.4ms\n",
            "Speed: 1.0ms preprocess, 8.4ms inference, 0.6ms postprocess per image at shape (1, 3, 320, 320)\n",
            "Results saved to \u001b[1mruns/detect/predict4\u001b[0m\n",
            "\n",
            "image 1/1 /content/drive/MyDrive/brain_tumor_tidy/sagittal_t1wce_2_class/images/test/00026_97.jpg: 320x320 1 negative, 9.1ms\n",
            "Speed: 1.0ms preprocess, 9.1ms inference, 1.4ms postprocess per image at shape (1, 3, 320, 320)\n",
            "Results saved to \u001b[1mruns/detect/predict4\u001b[0m\n",
            "\n",
            "image 1/1 /content/drive/MyDrive/brain_tumor_tidy/sagittal_t1wce_2_class/images/test/00002_129.jpg: 320x320 1 negative, 1 positive, 8.8ms\n",
            "Speed: 1.0ms preprocess, 8.8ms inference, 1.3ms postprocess per image at shape (1, 3, 320, 320)\n",
            "Results saved to \u001b[1mruns/detect/predict4\u001b[0m\n",
            "\n",
            "image 1/1 /content/drive/MyDrive/brain_tumor_tidy/sagittal_t1wce_2_class/images/test/00026_118.jpg: 320x320 1 negative, 3 positives, 8.7ms\n",
            "Speed: 1.5ms preprocess, 8.7ms inference, 1.3ms postprocess per image at shape (1, 3, 320, 320)\n",
            "Results saved to \u001b[1mruns/detect/predict4\u001b[0m\n",
            "\n",
            "image 1/1 /content/drive/MyDrive/brain_tumor_tidy/sagittal_t1wce_2_class/images/test/00003_173.jpg: 320x320 1 negative, 11.3ms\n",
            "Speed: 1.8ms preprocess, 11.3ms inference, 1.6ms postprocess per image at shape (1, 3, 320, 320)\n",
            "Results saved to \u001b[1mruns/detect/predict4\u001b[0m\n",
            "\n",
            "image 1/1 /content/drive/MyDrive/brain_tumor_tidy/sagittal_t1wce_2_class/images/test/00022_199.jpg: 320x320 (no detections), 20.5ms\n",
            "Speed: 1.4ms preprocess, 20.5ms inference, 1.0ms postprocess per image at shape (1, 3, 320, 320)\n",
            "Results saved to \u001b[1mruns/detect/predict4\u001b[0m\n",
            "\n",
            "image 1/1 /content/drive/MyDrive/brain_tumor_tidy/sagittal_t1wce_2_class/images/test/00002_147.jpg: 320x320 1 negative, 17.5ms\n",
            "Speed: 1.6ms preprocess, 17.5ms inference, 2.8ms postprocess per image at shape (1, 3, 320, 320)\n",
            "Results saved to \u001b[1mruns/detect/predict4\u001b[0m\n",
            "\n",
            "image 1/1 /content/drive/MyDrive/brain_tumor_tidy/sagittal_t1wce_2_class/images/test/00005_125.jpg: 320x320 1 negative, 19.7ms\n",
            "Speed: 1.7ms preprocess, 19.7ms inference, 2.3ms postprocess per image at shape (1, 3, 320, 320)\n",
            "Results saved to \u001b[1mruns/detect/predict4\u001b[0m\n",
            "\n",
            "image 1/1 /content/drive/MyDrive/brain_tumor_tidy/sagittal_t1wce_2_class/images/test/00002_110.jpg: 320x320 1 negative, 12.7ms\n",
            "Speed: 1.8ms preprocess, 12.7ms inference, 1.9ms postprocess per image at shape (1, 3, 320, 320)\n",
            "Results saved to \u001b[1mruns/detect/predict4\u001b[0m\n",
            "\n",
            "image 1/1 /content/drive/MyDrive/brain_tumor_tidy/sagittal_t1wce_2_class/images/test/00000_102.jpg: 320x320 1 negative, 1 positive, 13.9ms\n",
            "Speed: 1.5ms preprocess, 13.9ms inference, 2.0ms postprocess per image at shape (1, 3, 320, 320)\n",
            "Results saved to \u001b[1mruns/detect/predict4\u001b[0m\n",
            "\n",
            "image 1/1 /content/drive/MyDrive/brain_tumor_tidy/sagittal_t1wce_2_class/images/test/00003_154.jpg: 320x320 1 negative, 1 positive, 13.0ms\n",
            "Speed: 1.5ms preprocess, 13.0ms inference, 1.9ms postprocess per image at shape (1, 3, 320, 320)\n",
            "Results saved to \u001b[1mruns/detect/predict4\u001b[0m\n",
            "\n",
            "image 1/1 /content/drive/MyDrive/brain_tumor_tidy/sagittal_t1wce_2_class/images/test/00012_181.jpg: 320x320 (no detections), 17.7ms\n",
            "Speed: 1.5ms preprocess, 17.7ms inference, 1.1ms postprocess per image at shape (1, 3, 320, 320)\n",
            "Results saved to \u001b[1mruns/detect/predict4\u001b[0m\n",
            "\n",
            "image 1/1 /content/drive/MyDrive/brain_tumor_tidy/sagittal_t1wce_2_class/images/test/00006_156.jpg: 320x320 1 negative, 17.9ms\n",
            "Speed: 1.7ms preprocess, 17.9ms inference, 2.2ms postprocess per image at shape (1, 3, 320, 320)\n",
            "Results saved to \u001b[1mruns/detect/predict4\u001b[0m\n",
            "\n",
            "image 1/1 /content/drive/MyDrive/brain_tumor_tidy/sagittal_t1wce_2_class/images/test/00006_210.jpg: 320x320 1 positive, 17.1ms\n",
            "Speed: 1.7ms preprocess, 17.1ms inference, 2.7ms postprocess per image at shape (1, 3, 320, 320)\n",
            "Results saved to \u001b[1mruns/detect/predict4\u001b[0m\n",
            "\n",
            "image 1/1 /content/drive/MyDrive/brain_tumor_tidy/sagittal_t1wce_2_class/images/test/00000_159.jpg: 320x320 1 negative, 12.0ms\n",
            "Speed: 1.4ms preprocess, 12.0ms inference, 1.9ms postprocess per image at shape (1, 3, 320, 320)\n",
            "Results saved to \u001b[1mruns/detect/predict4\u001b[0m\n",
            "\n",
            "image 1/1 /content/drive/MyDrive/brain_tumor_tidy/sagittal_t1wce_2_class/images/test/00003_192.jpg: 320x320 1 negative, 10.9ms\n",
            "Speed: 1.5ms preprocess, 10.9ms inference, 1.7ms postprocess per image at shape (1, 3, 320, 320)\n",
            "Results saved to \u001b[1mruns/detect/predict4\u001b[0m\n",
            "\n",
            "image 1/1 /content/drive/MyDrive/brain_tumor_tidy/sagittal_t1wce_2_class/images/test/00049_142.jpg: 320x320 1 positive, 17.8ms\n",
            "Speed: 1.5ms preprocess, 17.8ms inference, 2.0ms postprocess per image at shape (1, 3, 320, 320)\n",
            "Results saved to \u001b[1mruns/detect/predict4\u001b[0m\n",
            "\n",
            "image 1/1 /content/drive/MyDrive/brain_tumor_tidy/sagittal_t1wce_2_class/images/test/00049_122.jpg: 320x320 1 positive, 11.2ms\n",
            "Speed: 1.4ms preprocess, 11.2ms inference, 1.8ms postprocess per image at shape (1, 3, 320, 320)\n",
            "Results saved to \u001b[1mruns/detect/predict4\u001b[0m\n",
            "\n",
            "image 1/1 /content/drive/MyDrive/brain_tumor_tidy/sagittal_t1wce_2_class/images/test/00048_82.jpg: 320x320 1 positive, 12.5ms\n",
            "Speed: 1.4ms preprocess, 12.5ms inference, 1.9ms postprocess per image at shape (1, 3, 320, 320)\n",
            "Results saved to \u001b[1mruns/detect/predict4\u001b[0m\n",
            "\n",
            "image 1/1 /content/drive/MyDrive/brain_tumor_tidy/sagittal_t1wce_2_class/images/test/00053_165.jpg: 320x320 (no detections), 14.5ms\n",
            "Speed: 2.4ms preprocess, 14.5ms inference, 3.9ms postprocess per image at shape (1, 3, 320, 320)\n",
            "Results saved to \u001b[1mruns/detect/predict4\u001b[0m\n",
            "\n",
            "image 1/1 /content/drive/MyDrive/brain_tumor_tidy/sagittal_t1wce_2_class/images/test/00061_89.jpg: 320x320 (no detections), 11.9ms\n",
            "Speed: 1.3ms preprocess, 11.9ms inference, 0.8ms postprocess per image at shape (1, 3, 320, 320)\n",
            "Results saved to \u001b[1mruns/detect/predict4\u001b[0m\n",
            "\n",
            "image 1/1 /content/drive/MyDrive/brain_tumor_tidy/sagittal_t1wce_2_class/images/test/00036_142.jpg: 320x320 1 negative, 11.4ms\n",
            "Speed: 4.5ms preprocess, 11.4ms inference, 2.1ms postprocess per image at shape (1, 3, 320, 320)\n",
            "Results saved to \u001b[1mruns/detect/predict4\u001b[0m\n",
            "\n",
            "image 1/1 /content/drive/MyDrive/brain_tumor_tidy/sagittal_t1wce_2_class/images/test/00045_117.jpg: 320x320 (no detections), 11.9ms\n",
            "Speed: 1.4ms preprocess, 11.9ms inference, 0.8ms postprocess per image at shape (1, 3, 320, 320)\n",
            "Results saved to \u001b[1mruns/detect/predict4\u001b[0m\n",
            "\n",
            "image 1/1 /content/drive/MyDrive/brain_tumor_tidy/sagittal_t1wce_2_class/images/test/00031_163.jpg: 320x320 (no detections), 12.2ms\n",
            "Speed: 1.4ms preprocess, 12.2ms inference, 0.8ms postprocess per image at shape (1, 3, 320, 320)\n",
            "Results saved to \u001b[1mruns/detect/predict4\u001b[0m\n",
            "\n",
            "image 1/1 /content/drive/MyDrive/brain_tumor_tidy/sagittal_t1wce_2_class/images/test/00030_257.jpg: 320x320 1 negative, 1 positive, 13.1ms\n",
            "Speed: 1.5ms preprocess, 13.1ms inference, 3.3ms postprocess per image at shape (1, 3, 320, 320)\n",
            "Results saved to \u001b[1mruns/detect/predict4\u001b[0m\n",
            "\n",
            "image 1/1 /content/drive/MyDrive/brain_tumor_tidy/sagittal_t1wce_2_class/images/test/00053_125.jpg: 320x320 1 negative, 1 positive, 16.6ms\n",
            "Speed: 1.4ms preprocess, 16.6ms inference, 1.7ms postprocess per image at shape (1, 3, 320, 320)\n",
            "Results saved to \u001b[1mruns/detect/predict4\u001b[0m\n",
            "\n",
            "image 1/1 /content/drive/MyDrive/brain_tumor_tidy/sagittal_t1wce_2_class/images/test/00045_77.jpg: 320x320 1 negative, 1 positive, 10.9ms\n",
            "Speed: 1.6ms preprocess, 10.9ms inference, 1.7ms postprocess per image at shape (1, 3, 320, 320)\n",
            "Results saved to \u001b[1mruns/detect/predict4\u001b[0m\n",
            "\n",
            "image 1/1 /content/drive/MyDrive/brain_tumor_tidy/sagittal_t1wce_2_class/images/test/00031_236.jpg: 320x320 1 positive, 11.8ms\n",
            "Speed: 1.3ms preprocess, 11.8ms inference, 1.9ms postprocess per image at shape (1, 3, 320, 320)\n",
            "Results saved to \u001b[1mruns/detect/predict4\u001b[0m\n",
            "\n",
            "image 1/1 /content/drive/MyDrive/brain_tumor_tidy/sagittal_t1wce_2_class/images/test/00035_129.jpg: 320x320 1 negative, 1 positive, 13.4ms\n",
            "Speed: 1.3ms preprocess, 13.4ms inference, 1.7ms postprocess per image at shape (1, 3, 320, 320)\n",
            "Results saved to \u001b[1mruns/detect/predict4\u001b[0m\n",
            "\n",
            "image 1/1 /content/drive/MyDrive/brain_tumor_tidy/sagittal_t1wce_2_class/images/test/00035_148.jpg: 320x320 1 positive, 10.2ms\n",
            "Speed: 1.4ms preprocess, 10.2ms inference, 1.6ms postprocess per image at shape (1, 3, 320, 320)\n",
            "Results saved to \u001b[1mruns/detect/predict4\u001b[0m\n",
            "\n",
            "image 1/1 /content/drive/MyDrive/brain_tumor_tidy/sagittal_t1wce_2_class/images/test/00048_102.jpg: 320x320 1 negative, 1 positive, 10.5ms\n",
            "Speed: 1.3ms preprocess, 10.5ms inference, 1.6ms postprocess per image at shape (1, 3, 320, 320)\n",
            "Results saved to \u001b[1mruns/detect/predict4\u001b[0m\n",
            "\n",
            "image 1/1 /content/drive/MyDrive/brain_tumor_tidy/sagittal_t1wce_2_class/images/test/00054_107.jpg: 320x320 1 negative, 11.4ms\n",
            "Speed: 1.3ms preprocess, 11.4ms inference, 1.6ms postprocess per image at shape (1, 3, 320, 320)\n",
            "Results saved to \u001b[1mruns/detect/predict4\u001b[0m\n",
            "\n",
            "image 1/1 /content/drive/MyDrive/brain_tumor_tidy/sagittal_t1wce_2_class/images/test/00054_88.jpg: 320x320 (no detections), 14.9ms\n",
            "Speed: 1.5ms preprocess, 14.9ms inference, 0.8ms postprocess per image at shape (1, 3, 320, 320)\n",
            "Results saved to \u001b[1mruns/detect/predict4\u001b[0m\n",
            "\n",
            "image 1/1 /content/drive/MyDrive/brain_tumor_tidy/sagittal_t1wce_2_class/images/test/00036_162.jpg: 320x320 (no detections), 12.6ms\n",
            "Speed: 1.5ms preprocess, 12.6ms inference, 0.9ms postprocess per image at shape (1, 3, 320, 320)\n",
            "Results saved to \u001b[1mruns/detect/predict4\u001b[0m\n",
            "\n",
            "image 1/1 /content/drive/MyDrive/brain_tumor_tidy/sagittal_t1wce_2_class/images/test/00035_111.jpg: 320x320 1 positive, 17.7ms\n",
            "Speed: 1.4ms preprocess, 17.7ms inference, 2.2ms postprocess per image at shape (1, 3, 320, 320)\n",
            "Results saved to \u001b[1mruns/detect/predict4\u001b[0m\n",
            "\n",
            "image 1/1 /content/drive/MyDrive/brain_tumor_tidy/sagittal_t1wce_2_class/images/test/00036_122.jpg: 320x320 1 negative, 12.0ms\n",
            "Speed: 1.4ms preprocess, 12.0ms inference, 1.9ms postprocess per image at shape (1, 3, 320, 320)\n",
            "Results saved to \u001b[1mruns/detect/predict4\u001b[0m\n",
            "\n",
            "image 1/1 /content/drive/MyDrive/brain_tumor_tidy/sagittal_t1wce_2_class/images/test/00049_102.jpg: 320x320 1 positive, 16.4ms\n",
            "Speed: 3.2ms preprocess, 16.4ms inference, 4.1ms postprocess per image at shape (1, 3, 320, 320)\n",
            "Results saved to \u001b[1mruns/detect/predict4\u001b[0m\n",
            "\n",
            "image 1/1 /content/drive/MyDrive/brain_tumor_tidy/sagittal_t1wce_2_class/images/test/00045_97.jpg: 320x320 1 negative, 1 positive, 16.3ms\n",
            "Speed: 1.3ms preprocess, 16.3ms inference, 2.0ms postprocess per image at shape (1, 3, 320, 320)\n",
            "Results saved to \u001b[1mruns/detect/predict4\u001b[0m\n",
            "\n",
            "image 1/1 /content/drive/MyDrive/brain_tumor_tidy/sagittal_t1wce_2_class/images/test/00030_236.jpg: 320x320 1 negative, 1 positive, 12.2ms\n",
            "Speed: 1.3ms preprocess, 12.2ms inference, 1.7ms postprocess per image at shape (1, 3, 320, 320)\n",
            "Results saved to \u001b[1mruns/detect/predict4\u001b[0m\n",
            "\n",
            "image 1/1 /content/drive/MyDrive/brain_tumor_tidy/sagittal_t1wce_2_class/images/test/00031_273.jpg: 320x320 1 positive, 14.9ms\n",
            "Speed: 1.4ms preprocess, 14.9ms inference, 1.9ms postprocess per image at shape (1, 3, 320, 320)\n",
            "Results saved to \u001b[1mruns/detect/predict4\u001b[0m\n",
            "\n",
            "image 1/1 /content/drive/MyDrive/brain_tumor_tidy/sagittal_t1wce_2_class/images/test/00032_96.jpg: 320x320 1 positive, 18.9ms\n",
            "Speed: 3.3ms preprocess, 18.9ms inference, 3.3ms postprocess per image at shape (1, 3, 320, 320)\n",
            "Results saved to \u001b[1mruns/detect/predict4\u001b[0m\n",
            "\n",
            "image 1/1 /content/drive/MyDrive/brain_tumor_tidy/sagittal_t1wce_2_class/images/test/00053_145.jpg: 320x320 (no detections), 11.9ms\n",
            "Speed: 1.3ms preprocess, 11.9ms inference, 0.8ms postprocess per image at shape (1, 3, 320, 320)\n",
            "Results saved to \u001b[1mruns/detect/predict4\u001b[0m\n",
            "\n",
            "image 1/1 /content/drive/MyDrive/brain_tumor_tidy/sagittal_t1wce_2_class/images/test/00054_126.jpg: 320x320 (no detections), 13.0ms\n",
            "Speed: 1.5ms preprocess, 13.0ms inference, 0.9ms postprocess per image at shape (1, 3, 320, 320)\n",
            "Results saved to \u001b[1mruns/detect/predict4\u001b[0m\n",
            "\n",
            "image 1/1 /content/drive/MyDrive/brain_tumor_tidy/sagittal_t1wce_2_class/images/test/00053_203.jpg: 320x320 (no detections), 13.7ms\n",
            "Speed: 1.6ms preprocess, 13.7ms inference, 1.0ms postprocess per image at shape (1, 3, 320, 320)\n",
            "Results saved to \u001b[1mruns/detect/predict4\u001b[0m\n",
            "\n",
            "image 1/1 /content/drive/MyDrive/brain_tumor_tidy/sagittal_t1wce_2_class/images/test/00053_85.jpg: 320x320 (no detections), 13.4ms\n",
            "Speed: 1.6ms preprocess, 13.4ms inference, 0.9ms postprocess per image at shape (1, 3, 320, 320)\n",
            "Results saved to \u001b[1mruns/detect/predict4\u001b[0m\n",
            "\n",
            "image 1/1 /content/drive/MyDrive/brain_tumor_tidy/sagittal_t1wce_2_class/images/test/00032_77.jpg: 320x320 1 negative, 1 positive, 16.8ms\n",
            "Speed: 1.6ms preprocess, 16.8ms inference, 2.3ms postprocess per image at shape (1, 3, 320, 320)\n",
            "Results saved to \u001b[1mruns/detect/predict4\u001b[0m\n",
            "\n",
            "image 1/1 /content/drive/MyDrive/brain_tumor_tidy/sagittal_t1wce_2_class/images/test/00036_103.jpg: 320x320 1 negative, 13.4ms\n",
            "Speed: 1.6ms preprocess, 13.4ms inference, 2.0ms postprocess per image at shape (1, 3, 320, 320)\n",
            "Results saved to \u001b[1mruns/detect/predict4\u001b[0m\n",
            "\n",
            "image 1/1 /content/drive/MyDrive/brain_tumor_tidy/sagittal_t1wce_2_class/images/test/00048_121.jpg: 320x320 1 negative, 1 positive, 13.2ms\n",
            "Speed: 1.6ms preprocess, 13.2ms inference, 1.9ms postprocess per image at shape (1, 3, 320, 320)\n",
            "Results saved to \u001b[1mruns/detect/predict4\u001b[0m\n",
            "\n",
            "image 1/1 /content/drive/MyDrive/brain_tumor_tidy/sagittal_t1wce_2_class/images/test/00031_255.jpg: 320x320 1 positive, 12.3ms\n",
            "Speed: 4.1ms preprocess, 12.3ms inference, 1.9ms postprocess per image at shape (1, 3, 320, 320)\n",
            "Results saved to \u001b[1mruns/detect/predict4\u001b[0m\n",
            "\n",
            "image 1/1 /content/drive/MyDrive/brain_tumor_tidy/sagittal_t1wce_2_class/images/test/00043_96.jpg: 320x320 (no detections), 12.2ms\n",
            "Speed: 2.6ms preprocess, 12.2ms inference, 0.9ms postprocess per image at shape (1, 3, 320, 320)\n",
            "Results saved to \u001b[1mruns/detect/predict4\u001b[0m\n"
          ]
        }
      ]
    }
  ]
}
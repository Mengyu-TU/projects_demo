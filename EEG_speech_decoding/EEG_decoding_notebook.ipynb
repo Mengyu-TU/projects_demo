{
  "nbformat": 4,
  "nbformat_minor": 0,
  "metadata": {
    "colab": {
      "provenance": [],
      "toc_visible": true
    },
    "kernelspec": {
      "name": "python3",
      "display_name": "Python 3"
    },
    "language_info": {
      "name": "python"
    }
  },
  "cells": [
    {
      "cell_type": "code",
      "execution_count": 1,
      "metadata": {
        "colab": {
          "base_uri": "https://localhost:8080/",
          "height": 70
        },
        "id": "PFgG7DHmsIvo",
        "outputId": "3870e98b-b865-4990-ab52-f219585faa75"
      },
      "outputs": [
        {
          "output_type": "stream",
          "name": "stdout",
          "text": [
            "Mounted at /content/drive\n",
            "/content/drive/MyDrive/0. JHU MSc AI/A. MSc AI courses/6. Advanced Applied Maching Learning/Decode_Speech_Project\n"
          ]
        },
        {
          "output_type": "execute_result",
          "data": {
            "text/plain": [
              "'/content/drive/MyDrive/0. JHU MSc AI/A. MSc AI courses/6. Advanced Applied Maching Learning/Decode_Speech_Project'"
            ],
            "application/vnd.google.colaboratory.intrinsic+json": {
              "type": "string"
            }
          },
          "metadata": {},
          "execution_count": 1
        }
      ],
      "source": [
        "from google.colab import drive\n",
        "drive.mount('/content/drive')\n",
        "\n",
        "%cd \"/content/drive/MyDrive/0. JHU MSc AI/A. MSc AI courses/6. Advanced Applied Maching Learning/Decode_Speech_Project\"\n",
        "%pwd"
      ]
    },
    {
      "cell_type": "code",
      "source": [
        "import os\n",
        "import numpy as np\n",
        "import pandas as pd\n",
        "from collections import Counter\n",
        "\n",
        "from torch.utils.data import DataLoader\n",
        "\n",
        "!pip install pynwb\n",
        "from pynwb import NWBHDF5IO\n",
        "from custom_dataset import EEG_dataset\n",
        "from seq2seq_model import EncoderDecoder, Decoder, Encoder\n",
        "from utils_func import normalize_eeg_features, apply_pca, dutch_number_to_words, clean_and_convert_to_dutch, process_strings\n",
        "from feature_extraction import hilbert3, extractHG, stackFeatures, downsampleLabels, nameVector, remove_empty_entries"
      ],
      "metadata": {
        "colab": {
          "base_uri": "https://localhost:8080/"
        },
        "id": "K1Y_3js_yc3z",
        "outputId": "9b6b95eb-7006-431d-f34b-49bc6fc5eeba"
      },
      "execution_count": 2,
      "outputs": [
        {
          "output_type": "stream",
          "name": "stdout",
          "text": [
            "Collecting pynwb\n",
            "  Downloading pynwb-2.8.1-py3-none-any.whl.metadata (8.9 kB)\n",
            "Requirement already satisfied: h5py>=2.10 in /usr/local/lib/python3.10/dist-packages (from pynwb) (3.11.0)\n",
            "Collecting hdmf>=3.14.0 (from pynwb)\n",
            "  Downloading hdmf-3.14.3-py3-none-any.whl.metadata (8.8 kB)\n",
            "Requirement already satisfied: numpy<2.0,>=1.18 in /usr/local/lib/python3.10/dist-packages (from pynwb) (1.26.4)\n",
            "Requirement already satisfied: pandas>=1.1.5 in /usr/local/lib/python3.10/dist-packages (from pynwb) (2.1.4)\n",
            "Requirement already satisfied: python-dateutil>=2.7.3 in /usr/local/lib/python3.10/dist-packages (from pynwb) (2.8.2)\n",
            "Requirement already satisfied: jsonschema>=2.6.0 in /usr/local/lib/python3.10/dist-packages (from hdmf>=3.14.0->pynwb) (4.23.0)\n",
            "Collecting ruamel-yaml>=0.16 (from hdmf>=3.14.0->pynwb)\n",
            "  Downloading ruamel.yaml-0.18.6-py3-none-any.whl.metadata (23 kB)\n",
            "Requirement already satisfied: scipy>=1.4 in /usr/local/lib/python3.10/dist-packages (from hdmf>=3.14.0->pynwb) (1.13.1)\n",
            "Requirement already satisfied: pytz>=2020.1 in /usr/local/lib/python3.10/dist-packages (from pandas>=1.1.5->pynwb) (2024.1)\n",
            "Requirement already satisfied: tzdata>=2022.1 in /usr/local/lib/python3.10/dist-packages (from pandas>=1.1.5->pynwb) (2024.1)\n",
            "Requirement already satisfied: six>=1.5 in /usr/local/lib/python3.10/dist-packages (from python-dateutil>=2.7.3->pynwb) (1.16.0)\n",
            "Requirement already satisfied: attrs>=22.2.0 in /usr/local/lib/python3.10/dist-packages (from jsonschema>=2.6.0->hdmf>=3.14.0->pynwb) (24.2.0)\n",
            "Requirement already satisfied: jsonschema-specifications>=2023.03.6 in /usr/local/lib/python3.10/dist-packages (from jsonschema>=2.6.0->hdmf>=3.14.0->pynwb) (2023.12.1)\n",
            "Requirement already satisfied: referencing>=0.28.4 in /usr/local/lib/python3.10/dist-packages (from jsonschema>=2.6.0->hdmf>=3.14.0->pynwb) (0.35.1)\n",
            "Requirement already satisfied: rpds-py>=0.7.1 in /usr/local/lib/python3.10/dist-packages (from jsonschema>=2.6.0->hdmf>=3.14.0->pynwb) (0.20.0)\n",
            "Collecting ruamel.yaml.clib>=0.2.7 (from ruamel-yaml>=0.16->hdmf>=3.14.0->pynwb)\n",
            "  Downloading ruamel.yaml.clib-0.2.8-cp310-cp310-manylinux_2_17_x86_64.manylinux2014_x86_64.manylinux_2_24_x86_64.whl.metadata (2.2 kB)\n",
            "Downloading pynwb-2.8.1-py3-none-any.whl (1.4 MB)\n",
            "\u001b[2K   \u001b[90m━━━━━━━━━━━━━━━━━━━━━━━━━━━━━━━━━━━━━━━━\u001b[0m \u001b[32m1.4/1.4 MB\u001b[0m \u001b[31m53.5 MB/s\u001b[0m eta \u001b[36m0:00:00\u001b[0m\n",
            "\u001b[?25hDownloading hdmf-3.14.3-py3-none-any.whl (337 kB)\n",
            "\u001b[2K   \u001b[90m━━━━━━━━━━━━━━━━━━━━━━━━━━━━━━━━━━━━━━━━\u001b[0m \u001b[32m337.2/337.2 kB\u001b[0m \u001b[31m24.8 MB/s\u001b[0m eta \u001b[36m0:00:00\u001b[0m\n",
            "\u001b[?25hDownloading ruamel.yaml-0.18.6-py3-none-any.whl (117 kB)\n",
            "\u001b[2K   \u001b[90m━━━━━━━━━━━━━━━━━━━━━━━━━━━━━━━━━━━━━━━━\u001b[0m \u001b[32m117.8/117.8 kB\u001b[0m \u001b[31m10.0 MB/s\u001b[0m eta \u001b[36m0:00:00\u001b[0m\n",
            "\u001b[?25hDownloading ruamel.yaml.clib-0.2.8-cp310-cp310-manylinux_2_17_x86_64.manylinux2014_x86_64.manylinux_2_24_x86_64.whl (526 kB)\n",
            "\u001b[2K   \u001b[90m━━━━━━━━━━━━━━━━━━━━━━━━━━━━━━━━━━━━━━━━\u001b[0m \u001b[32m526.7/526.7 kB\u001b[0m \u001b[31m34.9 MB/s\u001b[0m eta \u001b[36m0:00:00\u001b[0m\n",
            "\u001b[?25hInstalling collected packages: ruamel.yaml.clib, ruamel-yaml, hdmf, pynwb\n",
            "Successfully installed hdmf-3.14.3 pynwb-2.8.1 ruamel-yaml-0.18.6 ruamel.yaml.clib-0.2.8\n"
          ]
        }
      ]
    },
    {
      "cell_type": "markdown",
      "source": [
        "## Feature extraction from EEG"
      ],
      "metadata": {
        "id": "Jc4YzVBzwSHe"
      }
    },
    {
      "cell_type": "code",
      "source": [
        "# Set parameters\n",
        "winL = 0.025 #0.05\n",
        "frameshift = 0.01 #0.01\n",
        "modelOrder = 2\n",
        "stepSize = 5\n",
        "path_bids = r'/content/drive/MyDrive/0. JHU MSc AI/A. MSc AI courses/6. Advanced Applied Maching Learning/Decode_Speech_Project'\n",
        "# r is to prevent \\ be treated as escape in string; not necessary here\n",
        "path_output = r'./features'\n",
        "\n",
        "# Set the participant ID\n",
        "participant = 'sub-01'  # Replace with the specific participant ID\n",
        "\n",
        "# Load data\n",
        "io = NWBHDF5IO(os.path.join(path_bids,  f'{participant}_task-wordProduction_ieeg.nwb'), 'r')\n",
        "nwbfile = io.read()\n",
        "\n",
        "# Extract sEEG data\n",
        "eeg = nwbfile.acquisition['iEEG'].data[:]\n",
        "eeg_sr = 1024\n",
        "\n",
        "# Extract words (markers)\n",
        "words = nwbfile.acquisition['Stimulus'].data[:]\n",
        "words = np.array(words, dtype=str)\n",
        "io.close()\n",
        "\n",
        "# Load channel information\n",
        "channels = pd.read_csv(os.path.join(path_bids, f'{participant}_task-wordProduction_channels.tsv'), delimiter='\\t')\n",
        "channels = np.array(channels['name'])\n",
        "\n",
        "# Remove empty labels\n",
        "eeg, words = remove_empty_entries(eeg, words)\n",
        "\n",
        "# Extract High-gamma features\n",
        "feat = extractHG(eeg, eeg_sr, windowLength=winL, frameshift=frameshift)\n",
        "\n",
        "# Stack features\n",
        "feat = stackFeatures(feat, modelOrder=modelOrder, stepSize=stepSize) # timept by chnnl\n",
        "\n",
        "# Align words to EEG features\n",
        "words = downsampleLabels(words, eeg_sr, windowLength=winL, frameshift=frameshift)\n",
        "#words = words[modelOrder*stepSize:words.shape[0]-modelOrder*stepSize] # for numpy words\n",
        "words = words[modelOrder*stepSize:len(words)-modelOrder*stepSize] # for list words\n",
        "\n",
        "# Create feature names by appending the temporal shift\n",
        "feature_names = nameVector(channels[:, None], modelOrder=modelOrder)\n",
        "\n",
        "print(f\"Processing completed for participant: {participant}\")"
      ],
      "metadata": {
        "colab": {
          "base_uri": "https://localhost:8080/"
        },
        "id": "nw3bQzNUwRKH",
        "outputId": "f4549a43-5b31-4ba8-8736-53f11e382718"
      },
      "execution_count": 3,
      "outputs": [
        {
          "output_type": "stream",
          "name": "stderr",
          "text": [
            "/usr/local/lib/python3.10/dist-packages/hdmf/utils.py:668: UserWarning: Ignoring cached namespace 'hdmf-common' version 1.5.1 because version 1.8.0 is already loaded.\n",
            "  return func(args[0], **pargs)\n",
            "/usr/local/lib/python3.10/dist-packages/hdmf/utils.py:668: UserWarning: Ignoring cached namespace 'core' version 2.4.0 because version 2.7.0 is already loaded.\n",
            "  return func(args[0], **pargs)\n",
            "/usr/local/lib/python3.10/dist-packages/hdmf/utils.py:668: UserWarning: Ignoring cached namespace 'hdmf-experimental' version 0.2.0 because version 0.5.0 is already loaded.\n",
            "  return func(args[0], **pargs)\n"
          ]
        },
        {
          "output_type": "stream",
          "name": "stdout",
          "text": [
            "Processing completed for participant: sub-01\n"
          ]
        }
      ]
    },
    {
      "cell_type": "markdown",
      "source": [
        "# Process words to character and tidy up feature input"
      ],
      "metadata": {
        "id": "0FAHFbRQy6MW"
      }
    },
    {
      "cell_type": "code",
      "source": [
        "# Apply the function get unique words\n",
        "unique_words = np.unique(words)\n",
        "converted_words = [clean_and_convert_to_dutch(word) for word in unique_words]\n",
        "print(converted_words)\n",
        "\n",
        "# Get min frequency of word to use as the timesteps for a word\n",
        "word_frequencies = Counter(words)\n",
        "num_timesteps = min(word_frequencies.values())\n",
        "print(word_frequencies['helft'], num_timesteps)"
      ],
      "metadata": {
        "colab": {
          "base_uri": "https://localhost:8080/"
        },
        "id": "9kYfddosy-cK",
        "outputId": "143f21f8-cc1d-4098-fad3-21289c27b7e8"
      },
      "execution_count": 4,
      "outputs": [
        {
          "output_type": "stream",
          "name": "stdout",
          "text": [
            "['tien', 'twaalf', 'twee', 'drie', 'vijf', 'zes', 'zeven', 'acht', 'negen', 's', 'aan', 'al', 'als', 'bak', 'bakker', 'betovering', 'bevrijd', 'binnenplaats', 'boomstammen', 'braadde', 'dakker', 'dan', 'dat', 'dauwdruppel', 'direct', 'dit', 'donkere', 'door', 'een', 'en', 'er', 'gefluit', 'groen', 'haar', 'helemaal', 'helft', 'hem', 'het', 'hierop', 'hij', 'hoe', 'je', 'juist', 'kasteel', 'kin', 'komt', 'lij', 'maantje', 'maar', 'meisjes', 'met', 'mooi', 'mooie', 'naar', 'nachtegalen', 'niet', 'nog', 'of', 'om', 'onmiddellijk', 'onschuldig', 'ook', 'op', 'over', 'pak', 'redetwisten', 'schold', 'smeekte', 'spreuk', 'sprong', 'sterkste', 'stiekem', 'stilstaan', 'struik', 'te', 'teruggekregen', 'totdat', 'tussen', 'tuwiet', 'vak', 'van', 'veel', 'verdwaald', 'verstijfde', 'vloog', 'vogelkooitje', 'vogeltje', 'wak', 'wanneer', 'was', 'wegpakte', 'wel', 'werd', 'zanddak', 'ze', 'zei', 'zevenduizend', 'zich', 'zijn', 'zo']\n",
            "189 187\n"
          ]
        }
      ]
    },
    {
      "cell_type": "code",
      "source": [
        "# Convert EEG features into num_words x timept x chnnl\n",
        "# clean y: convert arabic numbers into dutch strings and remove symbols like '\n",
        "\n",
        "X = np.zeros([len(unique_words),num_timesteps, feat.shape[1]])\n",
        "y = []\n",
        "counter = 0\n",
        "i = 0\n",
        "while i < feat.shape[0]:\n",
        "    key = words[i]\n",
        "    end_pt = i + num_timesteps\n",
        "\n",
        "    X[counter,:,:] = feat[i:end_pt,:]\n",
        "    y.append(key)\n",
        "    i += word_frequencies[key]\n",
        "\n",
        "y_cleaned = [clean_and_convert_to_dutch(word) for word in y]"
      ],
      "metadata": {
        "id": "MrDI944Z3scJ"
      },
      "execution_count": 5,
      "outputs": []
    },
    {
      "cell_type": "markdown",
      "source": [
        "## Convert cleaned y to character level np array"
      ],
      "metadata": {
        "id": "rIeZiK7g36_5"
      }
    },
    {
      "cell_type": "code",
      "source": [
        "y_char_mat, char_to_int, int_to_char = process_strings(y_cleaned, seq_len=15)"
      ],
      "metadata": {
        "id": "C0oZqEeJ37uR"
      },
      "execution_count": 6,
      "outputs": []
    },
    {
      "cell_type": "markdown",
      "source": [
        "## PCA and normalization of feature"
      ],
      "metadata": {
        "id": "ixSRFOrm3w_J"
      }
    },
    {
      "cell_type": "code",
      "source": [
        "X = apply_pca(X, n_components=200)\n",
        "X = normalize_eeg_features(X)"
      ],
      "metadata": {
        "id": "XkNHrb2U3wid"
      },
      "execution_count": 8,
      "outputs": []
    },
    {
      "cell_type": "markdown",
      "source": [
        "## Custom dataset, dataloader"
      ],
      "metadata": {
        "id": "hJV2u83y5659"
      }
    },
    {
      "cell_type": "code",
      "source": [
        "# Split the data into training (90%) and testing (10%) sets\n",
        "train_size = int(0.9 * len(X))\n",
        "X_train, X_test = X[:train_size], X[train_size:]\n",
        "y_train, y_test = y_char_mat[:train_size], y_char_mat[train_size:]\n",
        "\n",
        "# Create the dataset\n",
        "train_dataset = EEG_dataset(X_train, y_train)\n",
        "test_dataset = EEG_dataset(X_test, y_test)\n",
        "train_dataset[0]\n"
      ],
      "metadata": {
        "colab": {
          "base_uri": "https://localhost:8080/"
        },
        "id": "Qy9MWWWE59-z",
        "outputId": "d46a282f-d467-4f5d-9c94-f9e5f5c5b009"
      },
      "execution_count": 7,
      "outputs": [
        {
          "output_type": "execute_result",
          "data": {
            "text/plain": [
              "(tensor([[3.0349, 3.2106, 3.1212,  ..., 2.5547, 2.5208, 2.3516],\n",
              "         [2.3562, 3.5069, 3.9302,  ..., 2.7675, 2.5926, 3.1158],\n",
              "         [2.2035, 2.0649, 3.1519,  ..., 2.2421, 1.8901, 3.3427],\n",
              "         ...,\n",
              "         [6.2603, 4.7683, 4.1812,  ..., 2.0682, 1.8205, 1.5988],\n",
              "         [6.7913, 5.1283, 3.8478,  ..., 2.1183, 2.8252, 1.7154],\n",
              "         [5.2246, 3.6916, 2.2803,  ..., 2.6326, 4.0794, 2.5954]]),\n",
              " tensor([10.,  7., 14.,  8., 22.,  0.,  0.,  0.,  0.,  0.,  0.,  0.,  0.,  0.,\n",
              "          0.]))"
            ]
          },
          "metadata": {},
          "execution_count": 7
        }
      ]
    },
    {
      "cell_type": "code",
      "source": [
        "# Dataloader\n",
        "train_dataloader = DataLoader(train_dataset, batch_size=2, shuffle=True)\n",
        "test_dataloader = DataLoader(test_dataset, batch_size=2, shuffle=True)\n",
        "\n",
        "# Example of iterating through the DataLoader\n",
        "for batch, (X, y) in enumerate(train_dataloader):\n",
        "    print(f\"Batch {batch}:\")\n",
        "    print(\"X shape:\", X.shape)\n",
        "    print(\"y shape:\", y.shape, y.dtype)\n",
        "    if batch == 2:  # Print only the first 3 batches\n",
        "        break\n",
        "\n",
        "print(\"Number of batches:\", len(train_dataloader))"
      ],
      "metadata": {
        "colab": {
          "base_uri": "https://localhost:8080/"
        },
        "id": "fCOr-vyF6BEt",
        "outputId": "4f696087-de97-4083-9b5d-3101fe078cee"
      },
      "execution_count": 8,
      "outputs": [
        {
          "output_type": "stream",
          "name": "stdout",
          "text": [
            "Batch 0:\n",
            "X shape: torch.Size([2, 187, 635])\n",
            "y shape: torch.Size([2, 15]) torch.float32\n",
            "Batch 1:\n",
            "X shape: torch.Size([2, 187, 635])\n",
            "y shape: torch.Size([2, 15]) torch.float32\n",
            "Batch 2:\n",
            "X shape: torch.Size([2, 187, 635])\n",
            "y shape: torch.Size([2, 15]) torch.float32\n",
            "Number of batches: 45\n"
          ]
        }
      ]
    },
    {
      "cell_type": "markdown",
      "source": [
        "## Train and evaluate"
      ],
      "metadata": {
        "id": "hFQzy_DI6LYn"
      }
    },
    {
      "cell_type": "code",
      "source": [
        "import torch\n",
        "import torch.nn as nn\n",
        "import torch.optim as optim\n",
        "import matplotlib.pyplot as plt"
      ],
      "metadata": {
        "id": "iCfpY8HG6uKZ"
      },
      "execution_count": 9,
      "outputs": []
    },
    {
      "cell_type": "code",
      "source": [
        "# X shape: (num words, eeg seq len, feature size) and y shape: (num words, output char len)\n",
        "seq_len = 15\n",
        "input_dim = train_dataloader.dataset[0][0].shape[1]\n",
        "hidden_dim = 128*4\n",
        "num_hidden_layers = 4\n",
        "output_dim = 29  # Vocabulary size\n",
        "\n",
        "# Hyperparameters\n",
        "learning_rate = 0.01\n",
        "num_epochs = 10\n",
        "\n",
        "# Initialize the model\n",
        "encoder = Encoder(input_dim, hidden_dim)\n",
        "decoder = Decoder(hidden_dim, output_dim)\n",
        "model = EncoderDecoder(encoder, decoder)\n",
        "\n",
        "# Loss function and optimizer\n",
        "criterion = nn.CrossEntropyLoss()\n",
        "optimizer = optim.Adam(model.parameters(), lr=learning_rate)\n",
        "\n",
        "# Initialize lists to store losses\n",
        "train_losses = []\n",
        "val_losses = []\n",
        "\n",
        "# Training loop\n",
        "device = torch.device('cuda' if torch.cuda.is_available() else 'cpu')\n",
        "model.to(device)\n",
        "\n",
        "for epoch in range(num_epochs):\n",
        "    model.train()\n",
        "    total_loss = 0\n",
        "\n",
        "    for batch_idx, (data, target) in enumerate(train_dataloader):\n",
        "        data, target = data.to(device), target.to(device)\n",
        "        optimizer.zero_grad()\n",
        "        output = model(data, target)\n",
        "        loss = criterion(output.view(-1, output_dim), target.view(-1).long())\n",
        "        loss.backward()\n",
        "        optimizer.step()\n",
        "        total_loss += loss.item()\n",
        "\n",
        "    avg_loss = total_loss / len(train_dataloader)\n",
        "    train_losses.append(avg_loss)\n",
        "    print(f'Epoch {epoch+1}/{num_epochs}, Train Loss: {avg_loss:.4f}')\n",
        "\n",
        "    # Validation\n",
        "    model.eval()\n",
        "    val_loss = 0\n",
        "    with torch.no_grad():\n",
        "        for data, target in test_dataloader:\n",
        "            data, target = data.to(device), target.to(device)\n",
        "            output = model(data, target)  # Turn off teacher forcing\n",
        "            loss = criterion(output.view(-1, output_dim), target.view(-1).long())\n",
        "            val_loss += loss.item()\n",
        "\n",
        "    avg_val_loss = val_loss / len(test_dataloader)\n",
        "    val_losses.append(avg_val_loss)\n",
        "    print(f'Validation Loss: {avg_val_loss:.4f}')\n"
      ],
      "metadata": {
        "colab": {
          "base_uri": "https://localhost:8080/"
        },
        "id": "Jrtzwj3-lsM4",
        "outputId": "52eea086-e233-48e7-fdbf-4978396995cd"
      },
      "execution_count": 10,
      "outputs": [
        {
          "output_type": "stream",
          "name": "stdout",
          "text": [
            "Epoch 1/10, Train Loss: 1.7757\n",
            "Validation Loss: 1.7235\n",
            "Epoch 2/10, Train Loss: 1.4510\n",
            "Validation Loss: 1.8465\n",
            "Epoch 3/10, Train Loss: 1.5032\n",
            "Validation Loss: 1.3804\n",
            "Epoch 4/10, Train Loss: 1.3915\n",
            "Validation Loss: 1.9219\n",
            "Epoch 5/10, Train Loss: 1.3771\n",
            "Validation Loss: 1.8112\n",
            "Epoch 6/10, Train Loss: 1.3280\n",
            "Validation Loss: 1.5598\n",
            "Epoch 7/10, Train Loss: 1.2774\n",
            "Validation Loss: 1.6031\n",
            "Epoch 8/10, Train Loss: 1.2367\n",
            "Validation Loss: 1.8139\n",
            "Epoch 9/10, Train Loss: 1.2962\n",
            "Validation Loss: 1.4285\n",
            "Epoch 10/10, Train Loss: 1.3966\n",
            "Validation Loss: 1.4962\n"
          ]
        }
      ]
    },
    {
      "cell_type": "code",
      "source": [
        "# Plotting the losses\n",
        "plt.figure(figsize=(10, 6))\n",
        "plt.plot(range(1, num_epochs+1), train_losses, label='Training Loss')\n",
        "plt.plot(range(1, num_epochs+1), val_losses, label='Testing Loss')\n",
        "plt.xlabel('Epochs')\n",
        "plt.ylabel('Loss')\n",
        "plt.title('Training and Testing Loss Over Epochs')\n",
        "plt.legend()\n",
        "plt.grid(True)\n",
        "plt.show()"
      ],
      "metadata": {
        "colab": {
          "base_uri": "https://localhost:8080/",
          "height": 564
        },
        "id": "nOjWV4WImLKT",
        "outputId": "5a8419e0-f878-4c46-b915-52ea6af0d462"
      },
      "execution_count": 11,
      "outputs": [
        {
          "output_type": "display_data",
          "data": {
            "text/plain": [
              "<Figure size 1000x600 with 1 Axes>"
            ],
            "image/png": "[encoded data removed]"
          },
          "metadata": {}
        }
      ]
    },
    {
      "cell_type": "markdown",
      "source": [
        "## Example outcomes"
      ],
      "metadata": {
        "id": "vQdeXFrC6Q3t"
      }
    },
    {
      "cell_type": "code",
      "source": [
        "import random\n",
        "\n",
        "def indices_to_chars(indices):\n",
        "    return ''.join([int_to_char[idx] for idx in indices if idx in int_to_char])\n",
        "\n",
        "# Set model to evaluation mode\n",
        "model.eval()\n",
        "\n",
        "# Get all samples from the test_dataloader\n",
        "all_samples = []\n",
        "for data, target in test_dataloader:\n",
        "    all_samples.extend(list(zip(data, target)))\n",
        "\n",
        "# Randomly select 10 samples\n",
        "random_samples = random.sample(all_samples, 10)\n",
        "\n",
        "# Process the selected samples\n",
        "with torch.no_grad():\n",
        "    for i, (data, target) in enumerate(random_samples):\n",
        "        data, target = data.unsqueeze(0).to(device), target.unsqueeze(0).to(device)\n",
        "        output = model(data, target, 0)  # Turn off teacher forcing\n",
        "\n",
        "        # Get the predicted indices\n",
        "        _, predicted_indices = torch.max(output, dim=2)\n",
        "\n",
        "        # Convert predictions and targets to characters\n",
        "        predicted_chars = indices_to_chars(predicted_indices[0].cpu().numpy())\n",
        "        target_chars = indices_to_chars(target[0].cpu().numpy())\n",
        "\n",
        "        print(f\"Sample {i + 1}:\")\n",
        "        print(f\"Predicted: {predicted_chars}\")\n",
        "        print(f\"Target:    {target_chars}\")\n",
        "        print()"
      ],
      "metadata": {
        "colab": {
          "base_uri": "https://localhost:8080/"
        },
        "id": "aMOuurU76UVc",
        "outputId": "0835586f-fd4e-4474-dba8-fea9da9f973a"
      },
      "execution_count": 17,
      "outputs": [
        {
          "output_type": "stream",
          "name": "stdout",
          "text": [
            "Sample 1:\n",
            "Predicted: bee\n",
            "Target:    hij\n",
            "\n",
            "Sample 2:\n",
            "Predicted: tea\n",
            "Target:    s\n",
            "\n",
            "Sample 3:\n",
            "Predicted: tee\n",
            "Target:    zo\n",
            "\n",
            "Sample 4:\n",
            "Predicted: were\n",
            "Target:    schold\n",
            "\n",
            "Sample 5:\n",
            "Predicted: beeee\n",
            "Target:    onschuldig\n",
            "\n",
            "Sample 6:\n",
            "Predicted: teee\n",
            "Target:    tussen\n",
            "\n",
            "Sample 7:\n",
            "Predicted: ter\n",
            "Target:    veel\n",
            "\n",
            "Sample 8:\n",
            "Predicted: bere\n",
            "Target:    meisjes\n",
            "\n",
            "Sample 9:\n",
            "Predicted: ba\n",
            "Target:    als\n",
            "\n",
            "Sample 10:\n",
            "Predicted: bateeee\n",
            "Target:    binnenplaats\n",
            "\n"
          ]
        }
      ]
    },
    {
      "cell_type": "code",
      "source": [
        "# Set model to evaluation mode\n",
        "model.eval()\n",
        "\n",
        "# Get all samples from the test_dataloader\n",
        "all_samples = []\n",
        "for data, target in train_dataloader:\n",
        "    all_samples.extend(list(zip(data, target)))\n",
        "\n",
        "# Randomly select 10 samples\n",
        "random_samples = random.sample(all_samples, 10)\n",
        "\n",
        "# Process the selected samples\n",
        "with torch.no_grad():\n",
        "    for i, (data, target) in enumerate(random_samples):\n",
        "        data, target = data.unsqueeze(0).to(device), target.unsqueeze(0).to(device)\n",
        "        output = model(data, target, 0)  # Turn off teacher forcing\n",
        "\n",
        "        # Get the predicted indices\n",
        "        _, predicted_indices = torch.max(output, dim=2)\n",
        "\n",
        "        # Convert predictions and targets to characters\n",
        "        predicted_chars = indices_to_chars(predicted_indices[0].cpu().numpy())\n",
        "        target_chars = indices_to_chars(target[0].cpu().numpy())\n",
        "\n",
        "        print(f\"Sample {i + 1}:\")\n",
        "        print(f\"Predicted: {predicted_chars}\")\n",
        "        print(f\"Target:    {target_chars}\")\n",
        "        print()"
      ],
      "metadata": {
        "colab": {
          "base_uri": "https://localhost:8080/"
        },
        "id": "DPOzGVRk9jqZ",
        "outputId": "a2de841b-dbae-48ee-a801-0b3b65afd2a9"
      },
      "execution_count": 16,
      "outputs": [
        {
          "output_type": "stream",
          "name": "stdout",
          "text": [
            "Sample 1:\n",
            "Predicted: teee\n",
            "Target:    stiekem\n",
            "\n",
            "Sample 2:\n",
            "Predicted: teeee\n",
            "Target:    vogeltje\n",
            "\n",
            "Sample 3:\n",
            "Predicted: ber\n",
            "Target:    hem\n",
            "\n",
            "Sample 4:\n",
            "Predicted: teee\n",
            "Target:    totdat\n",
            "\n",
            "Sample 5:\n",
            "Predicted: ter\n",
            "Target:    wak\n",
            "\n",
            "Sample 6:\n",
            "Predicted: teir\n",
            "Target:    twee\n",
            "\n",
            "Sample 7:\n",
            "Predicted: ter\n",
            "Target:    van\n",
            "\n",
            "Sample 8:\n",
            "Predicted: bee\n",
            "Target:    en\n",
            "\n",
            "Sample 9:\n",
            "Predicted: ba\n",
            "Target:    al\n",
            "\n",
            "Sample 10:\n",
            "Predicted: bea\n",
            "Target:    pak\n",
            "\n"
          ]
        }
      ]
    }
  ]
}